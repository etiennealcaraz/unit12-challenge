{
 "cells": [
  {
   "cell_type": "markdown",
   "metadata": {},
   "source": [
    "# Clustering Crypto"
   ]
  },
  {
   "cell_type": "code",
   "execution_count": 64,
   "metadata": {},
   "outputs": [],
   "source": [
    "# Initial imports\n",
    "import requests\n",
    "import pandas as pd\n",
    "import matplotlib.pyplot as plt\n",
    "import hvplot.pandas\n",
    "import plotly.express as px\n",
    "from sklearn.preprocessing import StandardScaler, MinMaxScaler\n",
    "from sklearn.decomposition import PCA\n",
    "from sklearn.cluster import KMeans"
   ]
  },
  {
   "cell_type": "markdown",
   "metadata": {},
   "source": [
    "### Fetching Cryptocurrency Data"
   ]
  },
  {
   "cell_type": "code",
   "execution_count": 65,
   "metadata": {},
   "outputs": [],
   "source": [
    "# Use the following endpoint to fetch json data\n",
    "import json\n",
    "from urllib.request import Request, urlopen\n",
    "\n",
    "url = \"https://min-api.cryptocompare.com/data/all/coinlist\"\n",
    "j_request = Request(url)\n",
    "j_response = urlopen(j_request)\n",
    "data = j_response.read()\n",
    "json_data = json.loads(data)"
   ]
  },
  {
   "cell_type": "code",
   "execution_count": 66,
   "metadata": {},
   "outputs": [
    {
     "data": {
      "text/html": [
       "<div>\n",
       "<style scoped>\n",
       "    .dataframe tbody tr th:only-of-type {\n",
       "        vertical-align: middle;\n",
       "    }\n",
       "\n",
       "    .dataframe tbody tr th {\n",
       "        vertical-align: top;\n",
       "    }\n",
       "\n",
       "    .dataframe thead th {\n",
       "        text-align: right;\n",
       "    }\n",
       "</style>\n",
       "<table border=\"1\" class=\"dataframe\">\n",
       "  <thead>\n",
       "    <tr style=\"text-align: right;\">\n",
       "      <th></th>\n",
       "      <th>Algorithm</th>\n",
       "      <th>AssetLaunchDate</th>\n",
       "      <th>AssetTokenStatus</th>\n",
       "      <th>BlockNumber</th>\n",
       "      <th>BlockReward</th>\n",
       "      <th>BlockTime</th>\n",
       "      <th>BuiltOn</th>\n",
       "      <th>CoinName</th>\n",
       "      <th>ContentCreatedOn</th>\n",
       "      <th>DecimalPoints</th>\n",
       "      <th>...</th>\n",
       "      <th>PlatformType</th>\n",
       "      <th>ProofType</th>\n",
       "      <th>Rating</th>\n",
       "      <th>SmartContractAddress</th>\n",
       "      <th>SortOrder</th>\n",
       "      <th>Sponsored</th>\n",
       "      <th>Symbol</th>\n",
       "      <th>Taxonomy</th>\n",
       "      <th>TotalCoinsMined</th>\n",
       "      <th>Url</th>\n",
       "    </tr>\n",
       "  </thead>\n",
       "  <tbody>\n",
       "    <tr>\n",
       "      <th>42</th>\n",
       "      <td>Scrypt</td>\n",
       "      <td>0000-00-00</td>\n",
       "      <td>N/A</td>\n",
       "      <td>0</td>\n",
       "      <td>0</td>\n",
       "      <td>0</td>\n",
       "      <td>NaN</td>\n",
       "      <td>42 Coin</td>\n",
       "      <td>1427211129</td>\n",
       "      <td>NaN</td>\n",
       "      <td>...</td>\n",
       "      <td>NaN</td>\n",
       "      <td>PoW/PoS</td>\n",
       "      <td>{'Weiss': {'Rating': '', 'TechnologyAdoptionRa...</td>\n",
       "      <td>NaN</td>\n",
       "      <td>34</td>\n",
       "      <td>False</td>\n",
       "      <td>42</td>\n",
       "      <td>{'Access': '', 'FCA': '', 'FINMA': '', 'Indust...</td>\n",
       "      <td>0</td>\n",
       "      <td>/coins/42/overview</td>\n",
       "    </tr>\n",
       "    <tr>\n",
       "      <th>300</th>\n",
       "      <td>N/A</td>\n",
       "      <td>2017-07-01</td>\n",
       "      <td>N/A</td>\n",
       "      <td>0</td>\n",
       "      <td>0</td>\n",
       "      <td>0</td>\n",
       "      <td>ETH</td>\n",
       "      <td>300 token</td>\n",
       "      <td>1517935016</td>\n",
       "      <td>18</td>\n",
       "      <td>...</td>\n",
       "      <td>token</td>\n",
       "      <td>N/A</td>\n",
       "      <td>{'Weiss': {'Rating': '', 'TechnologyAdoptionRa...</td>\n",
       "      <td>0xaec98a708810414878c3bcdf46aad31ded4a4557</td>\n",
       "      <td>2212</td>\n",
       "      <td>False</td>\n",
       "      <td>300</td>\n",
       "      <td>{'Access': '', 'FCA': '', 'FINMA': '', 'Indust...</td>\n",
       "      <td>300</td>\n",
       "      <td>/coins/300/overview</td>\n",
       "    </tr>\n",
       "    <tr>\n",
       "      <th>365</th>\n",
       "      <td>X11</td>\n",
       "      <td>0000-00-00</td>\n",
       "      <td>N/A</td>\n",
       "      <td>0</td>\n",
       "      <td>0</td>\n",
       "      <td>0</td>\n",
       "      <td>NaN</td>\n",
       "      <td>365Coin</td>\n",
       "      <td>1480032918</td>\n",
       "      <td>NaN</td>\n",
       "      <td>...</td>\n",
       "      <td>NaN</td>\n",
       "      <td>PoW/PoS</td>\n",
       "      <td>{'Weiss': {'Rating': '', 'TechnologyAdoptionRa...</td>\n",
       "      <td>NaN</td>\n",
       "      <td>916</td>\n",
       "      <td>False</td>\n",
       "      <td>365</td>\n",
       "      <td>{'Access': '', 'FCA': '', 'FINMA': '', 'Indust...</td>\n",
       "      <td>0</td>\n",
       "      <td>/coins/365/overview</td>\n",
       "    </tr>\n",
       "    <tr>\n",
       "      <th>404</th>\n",
       "      <td>Scrypt</td>\n",
       "      <td>0000-00-00</td>\n",
       "      <td>N/A</td>\n",
       "      <td>0</td>\n",
       "      <td>0</td>\n",
       "      <td>0</td>\n",
       "      <td>NaN</td>\n",
       "      <td>404Coin</td>\n",
       "      <td>1466100361</td>\n",
       "      <td>NaN</td>\n",
       "      <td>...</td>\n",
       "      <td>NaN</td>\n",
       "      <td>PoW/PoS</td>\n",
       "      <td>{'Weiss': {'Rating': '', 'TechnologyAdoptionRa...</td>\n",
       "      <td>NaN</td>\n",
       "      <td>602</td>\n",
       "      <td>False</td>\n",
       "      <td>404</td>\n",
       "      <td>{'Access': '', 'FCA': '', 'FINMA': '', 'Indust...</td>\n",
       "      <td>0</td>\n",
       "      <td>/coins/404/overview</td>\n",
       "    </tr>\n",
       "    <tr>\n",
       "      <th>433</th>\n",
       "      <td>N/A</td>\n",
       "      <td>NaN</td>\n",
       "      <td>Finished</td>\n",
       "      <td>NaN</td>\n",
       "      <td>NaN</td>\n",
       "      <td>NaN</td>\n",
       "      <td>NaN</td>\n",
       "      <td>433 Token</td>\n",
       "      <td>1541597321</td>\n",
       "      <td>NaN</td>\n",
       "      <td>...</td>\n",
       "      <td>NaN</td>\n",
       "      <td>N/A</td>\n",
       "      <td>{'Weiss': {'Rating': '', 'TechnologyAdoptionRa...</td>\n",
       "      <td>NaN</td>\n",
       "      <td>3505</td>\n",
       "      <td>False</td>\n",
       "      <td>433</td>\n",
       "      <td>{'Access': '', 'FCA': '', 'FINMA': '', 'Indust...</td>\n",
       "      <td>NaN</td>\n",
       "      <td>/coins/433/overview</td>\n",
       "    </tr>\n",
       "  </tbody>\n",
       "</table>\n",
       "<p>5 rows × 31 columns</p>\n",
       "</div>"
      ],
      "text/plain": [
       "    Algorithm AssetLaunchDate AssetTokenStatus BlockNumber BlockReward  \\\n",
       "42     Scrypt      0000-00-00              N/A           0           0   \n",
       "300       N/A      2017-07-01              N/A           0           0   \n",
       "365       X11      0000-00-00              N/A           0           0   \n",
       "404    Scrypt      0000-00-00              N/A           0           0   \n",
       "433       N/A             NaN         Finished         NaN         NaN   \n",
       "\n",
       "    BlockTime BuiltOn   CoinName ContentCreatedOn DecimalPoints  ...  \\\n",
       "42          0     NaN    42 Coin       1427211129           NaN  ...   \n",
       "300         0     ETH  300 token       1517935016            18  ...   \n",
       "365         0     NaN    365Coin       1480032918           NaN  ...   \n",
       "404         0     NaN    404Coin       1466100361           NaN  ...   \n",
       "433       NaN     NaN  433 Token       1541597321           NaN  ...   \n",
       "\n",
       "    PlatformType ProofType                                             Rating  \\\n",
       "42           NaN   PoW/PoS  {'Weiss': {'Rating': '', 'TechnologyAdoptionRa...   \n",
       "300        token       N/A  {'Weiss': {'Rating': '', 'TechnologyAdoptionRa...   \n",
       "365          NaN   PoW/PoS  {'Weiss': {'Rating': '', 'TechnologyAdoptionRa...   \n",
       "404          NaN   PoW/PoS  {'Weiss': {'Rating': '', 'TechnologyAdoptionRa...   \n",
       "433          NaN       N/A  {'Weiss': {'Rating': '', 'TechnologyAdoptionRa...   \n",
       "\n",
       "                           SmartContractAddress SortOrder Sponsored Symbol  \\\n",
       "42                                          NaN        34     False     42   \n",
       "300  0xaec98a708810414878c3bcdf46aad31ded4a4557      2212     False    300   \n",
       "365                                         NaN       916     False    365   \n",
       "404                                         NaN       602     False    404   \n",
       "433                                         NaN      3505     False    433   \n",
       "\n",
       "                                              Taxonomy TotalCoinsMined  \\\n",
       "42   {'Access': '', 'FCA': '', 'FINMA': '', 'Indust...               0   \n",
       "300  {'Access': '', 'FCA': '', 'FINMA': '', 'Indust...             300   \n",
       "365  {'Access': '', 'FCA': '', 'FINMA': '', 'Indust...               0   \n",
       "404  {'Access': '', 'FCA': '', 'FINMA': '', 'Indust...               0   \n",
       "433  {'Access': '', 'FCA': '', 'FINMA': '', 'Indust...             NaN   \n",
       "\n",
       "                     Url  \n",
       "42    /coins/42/overview  \n",
       "300  /coins/300/overview  \n",
       "365  /coins/365/overview  \n",
       "404  /coins/404/overview  \n",
       "433  /coins/433/overview  \n",
       "\n",
       "[5 rows x 31 columns]"
      ]
     },
     "execution_count": 66,
     "metadata": {},
     "output_type": "execute_result"
    }
   ],
   "source": [
    "# Create a DataFrame \n",
    "# HINT: You will need to use the 'Data' key from the json response, then transpose the DataFrame.\n",
    "\n",
    "crypto_df = pd.DataFrame(json_data['Data']).T\n",
    "crypto_df.head()\n"
   ]
  },
  {
   "cell_type": "code",
   "execution_count": 67,
   "metadata": {},
   "outputs": [
    {
     "data": {
      "text/html": [
       "<div>\n",
       "<style scoped>\n",
       "    .dataframe tbody tr th:only-of-type {\n",
       "        vertical-align: middle;\n",
       "    }\n",
       "\n",
       "    .dataframe tbody tr th {\n",
       "        vertical-align: top;\n",
       "    }\n",
       "\n",
       "    .dataframe thead th {\n",
       "        text-align: right;\n",
       "    }\n",
       "</style>\n",
       "<table border=\"1\" class=\"dataframe\">\n",
       "  <thead>\n",
       "    <tr style=\"text-align: right;\">\n",
       "      <th></th>\n",
       "      <th>Unnamed: 0</th>\n",
       "      <th>CoinName</th>\n",
       "      <th>Algorithm</th>\n",
       "      <th>IsTrading</th>\n",
       "      <th>ProofType</th>\n",
       "      <th>TotalCoinsMined</th>\n",
       "      <th>TotalCoinSupply</th>\n",
       "    </tr>\n",
       "  </thead>\n",
       "  <tbody>\n",
       "    <tr>\n",
       "      <th>0</th>\n",
       "      <td>42</td>\n",
       "      <td>42 Coin</td>\n",
       "      <td>Scrypt</td>\n",
       "      <td>True</td>\n",
       "      <td>PoW/PoS</td>\n",
       "      <td>4.199995e+01</td>\n",
       "      <td>42</td>\n",
       "    </tr>\n",
       "    <tr>\n",
       "      <th>1</th>\n",
       "      <td>365</td>\n",
       "      <td>365Coin</td>\n",
       "      <td>X11</td>\n",
       "      <td>True</td>\n",
       "      <td>PoW/PoS</td>\n",
       "      <td>NaN</td>\n",
       "      <td>2300000000</td>\n",
       "    </tr>\n",
       "    <tr>\n",
       "      <th>2</th>\n",
       "      <td>404</td>\n",
       "      <td>404Coin</td>\n",
       "      <td>Scrypt</td>\n",
       "      <td>True</td>\n",
       "      <td>PoW/PoS</td>\n",
       "      <td>1.055185e+09</td>\n",
       "      <td>532000000</td>\n",
       "    </tr>\n",
       "    <tr>\n",
       "      <th>3</th>\n",
       "      <td>611</td>\n",
       "      <td>SixEleven</td>\n",
       "      <td>SHA-256</td>\n",
       "      <td>True</td>\n",
       "      <td>PoW</td>\n",
       "      <td>NaN</td>\n",
       "      <td>611000</td>\n",
       "    </tr>\n",
       "    <tr>\n",
       "      <th>4</th>\n",
       "      <td>808</td>\n",
       "      <td>808</td>\n",
       "      <td>SHA-256</td>\n",
       "      <td>True</td>\n",
       "      <td>PoW/PoS</td>\n",
       "      <td>0.000000e+00</td>\n",
       "      <td>0</td>\n",
       "    </tr>\n",
       "  </tbody>\n",
       "</table>\n",
       "</div>"
      ],
      "text/plain": [
       "  Unnamed: 0   CoinName Algorithm  IsTrading ProofType  TotalCoinsMined  \\\n",
       "0         42    42 Coin    Scrypt       True   PoW/PoS     4.199995e+01   \n",
       "1        365    365Coin       X11       True   PoW/PoS              NaN   \n",
       "2        404    404Coin    Scrypt       True   PoW/PoS     1.055185e+09   \n",
       "3        611  SixEleven   SHA-256       True       PoW              NaN   \n",
       "4        808        808   SHA-256       True   PoW/PoS     0.000000e+00   \n",
       "\n",
       "  TotalCoinSupply  \n",
       "0              42  \n",
       "1      2300000000  \n",
       "2       532000000  \n",
       "3          611000  \n",
       "4               0  "
      ]
     },
     "execution_count": 67,
     "metadata": {},
     "output_type": "execute_result"
    }
   ],
   "source": [
    "# Alternatively, use the provided csv file:\n",
    "# file_path = Path(\"Resources/crypto_data.csv\")\n",
    "from pathlib import Path\n",
    "file_path = Path(\"Resources/crypto_data.csv\")\n",
    "\n",
    "# Create a DataFrame\n",
    "crypto_csv = pd.read_csv(file_path)\n",
    "crypto_csv.head()"
   ]
  },
  {
   "cell_type": "code",
   "execution_count": 68,
   "metadata": {},
   "outputs": [
    {
     "name": "stdout",
     "output_type": "stream",
     "text": [
      "Index(['Unnamed: 0', 'CoinName', 'Algorithm', 'IsTrading', 'ProofType',\n",
      "       'TotalCoinsMined', 'TotalCoinSupply'],\n",
      "      dtype='object')\n"
     ]
    }
   ],
   "source": [
    "print(crypto_csv.columns)"
   ]
  },
  {
   "cell_type": "markdown",
   "metadata": {},
   "source": [
    "### Data Preprocessing"
   ]
  },
  {
   "cell_type": "code",
   "execution_count": 69,
   "metadata": {},
   "outputs": [],
   "source": [
    "# Keep only necessary columns:\n",
    "# 'CoinName','Algorithm','IsTrading','ProofType','TotalCoinsMined','TotalCoinSupply'\n",
    "crypto_csv = crypto_csv.drop(columns=['Unnamed: 0'])"
   ]
  },
  {
   "cell_type": "code",
   "execution_count": 70,
   "metadata": {},
   "outputs": [
    {
     "data": {
      "text/html": [
       "<div>\n",
       "<style scoped>\n",
       "    .dataframe tbody tr th:only-of-type {\n",
       "        vertical-align: middle;\n",
       "    }\n",
       "\n",
       "    .dataframe tbody tr th {\n",
       "        vertical-align: top;\n",
       "    }\n",
       "\n",
       "    .dataframe thead th {\n",
       "        text-align: right;\n",
       "    }\n",
       "</style>\n",
       "<table border=\"1\" class=\"dataframe\">\n",
       "  <thead>\n",
       "    <tr style=\"text-align: right;\">\n",
       "      <th></th>\n",
       "      <th>CoinName</th>\n",
       "      <th>Algorithm</th>\n",
       "      <th>IsTrading</th>\n",
       "      <th>ProofType</th>\n",
       "      <th>TotalCoinsMined</th>\n",
       "      <th>TotalCoinSupply</th>\n",
       "    </tr>\n",
       "  </thead>\n",
       "  <tbody>\n",
       "    <tr>\n",
       "      <th>0</th>\n",
       "      <td>42 Coin</td>\n",
       "      <td>Scrypt</td>\n",
       "      <td>True</td>\n",
       "      <td>PoW/PoS</td>\n",
       "      <td>4.199995e+01</td>\n",
       "      <td>42</td>\n",
       "    </tr>\n",
       "    <tr>\n",
       "      <th>1</th>\n",
       "      <td>365Coin</td>\n",
       "      <td>X11</td>\n",
       "      <td>True</td>\n",
       "      <td>PoW/PoS</td>\n",
       "      <td>NaN</td>\n",
       "      <td>2300000000</td>\n",
       "    </tr>\n",
       "    <tr>\n",
       "      <th>2</th>\n",
       "      <td>404Coin</td>\n",
       "      <td>Scrypt</td>\n",
       "      <td>True</td>\n",
       "      <td>PoW/PoS</td>\n",
       "      <td>1.055185e+09</td>\n",
       "      <td>532000000</td>\n",
       "    </tr>\n",
       "    <tr>\n",
       "      <th>3</th>\n",
       "      <td>SixEleven</td>\n",
       "      <td>SHA-256</td>\n",
       "      <td>True</td>\n",
       "      <td>PoW</td>\n",
       "      <td>NaN</td>\n",
       "      <td>611000</td>\n",
       "    </tr>\n",
       "    <tr>\n",
       "      <th>4</th>\n",
       "      <td>808</td>\n",
       "      <td>SHA-256</td>\n",
       "      <td>True</td>\n",
       "      <td>PoW/PoS</td>\n",
       "      <td>0.000000e+00</td>\n",
       "      <td>0</td>\n",
       "    </tr>\n",
       "  </tbody>\n",
       "</table>\n",
       "</div>"
      ],
      "text/plain": [
       "    CoinName Algorithm  IsTrading ProofType  TotalCoinsMined TotalCoinSupply\n",
       "0    42 Coin    Scrypt       True   PoW/PoS     4.199995e+01              42\n",
       "1    365Coin       X11       True   PoW/PoS              NaN      2300000000\n",
       "2    404Coin    Scrypt       True   PoW/PoS     1.055185e+09       532000000\n",
       "3  SixEleven   SHA-256       True       PoW              NaN          611000\n",
       "4        808   SHA-256       True   PoW/PoS     0.000000e+00               0"
      ]
     },
     "execution_count": 70,
     "metadata": {},
     "output_type": "execute_result"
    }
   ],
   "source": [
    "crypto_csv.head()"
   ]
  },
  {
   "cell_type": "code",
   "execution_count": 71,
   "metadata": {},
   "outputs": [],
   "source": [
    "# Keep only cryptocurrencies that are trading\n",
    "crypto_csv = crypto_csv.loc[crypto_csv['IsTrading'] == True]"
   ]
  },
  {
   "cell_type": "code",
   "execution_count": 72,
   "metadata": {},
   "outputs": [],
   "source": [
    "# Keep only cryptocurrencies with a working algorithm\n",
    "crypto_csv = crypto_csv.loc[crypto_csv['Algorithm'] != 'N/A']"
   ]
  },
  {
   "cell_type": "code",
   "execution_count": 73,
   "metadata": {},
   "outputs": [],
   "source": [
    "# Remove the \"IsTrading\" column\n",
    "crypto_csv = crypto_csv.drop(columns=['IsTrading'])"
   ]
  },
  {
   "cell_type": "code",
   "execution_count": 74,
   "metadata": {},
   "outputs": [],
   "source": [
    "# Remove rows with at least 1 null value\n",
    "crypto_csv = crypto_csv.dropna()"
   ]
  },
  {
   "cell_type": "code",
   "execution_count": 75,
   "metadata": {},
   "outputs": [],
   "source": [
    "# Remove rows with cryptocurrencies having no coins mined\n",
    "crypto_csv = crypto_csv.loc[crypto_csv['TotalCoinsMined'] != 0]"
   ]
  },
  {
   "cell_type": "code",
   "execution_count": 76,
   "metadata": {},
   "outputs": [],
   "source": [
    "# Drop rows where there are 'N/A' text values\n",
    "crypto_csv = crypto_csv.loc[crypto_csv['ProofType'] != 'N/A']\n",
    "crypto_csv = crypto_csv.loc[crypto_csv['TotalCoinSupply'] != 'N/A']"
   ]
  },
  {
   "cell_type": "code",
   "execution_count": 77,
   "metadata": {},
   "outputs": [
    {
     "data": {
      "text/plain": [
       "0      42 Coin\n",
       "2      404Coin\n",
       "5    EliteCoin\n",
       "7      Bitcoin\n",
       "8     Ethereum\n",
       "Name: CoinName, dtype: object"
      ]
     },
     "execution_count": 77,
     "metadata": {},
     "output_type": "execute_result"
    }
   ],
   "source": [
    "# Store the 'CoinName'column in its own DataFrame prior to dropping it from crypto_df\n",
    "coin_name = crypto_csv['CoinName'].copy()\n",
    "coin_name.head()"
   ]
  },
  {
   "cell_type": "code",
   "execution_count": 78,
   "metadata": {},
   "outputs": [],
   "source": [
    "# Drop the 'CoinName' column since it's not going to be used on the clustering algorithm\n",
    "crypto_csv = crypto_csv.drop(columns='CoinName')"
   ]
  },
  {
   "cell_type": "code",
   "execution_count": 79,
   "metadata": {},
   "outputs": [],
   "source": [
    "# Create dummy variables for text features\n",
    "crypto_dummy = pd.get_dummies(data=crypto_csv)"
   ]
  },
  {
   "cell_type": "code",
   "execution_count": 80,
   "metadata": {},
   "outputs": [
    {
     "data": {
      "text/plain": [
       "array([[-0.11674788, -0.0433555 , -0.0433555 , ..., -0.0433555 ,\n",
       "        -0.0433555 , -0.0433555 ],\n",
       "       [-0.09358885, -0.0433555 , -0.0433555 , ..., -0.0433555 ,\n",
       "        -0.0433555 , -0.0433555 ],\n",
       "       [ 0.52587231, -0.0433555 , -0.0433555 , ..., -0.0433555 ,\n",
       "        -0.0433555 , -0.0433555 ],\n",
       "       ...,\n",
       "       [-0.09523411, -0.0433555 , -0.0433555 , ..., -0.0433555 ,\n",
       "        -0.0433555 , -0.0433555 ],\n",
       "       [-0.11658774, -0.0433555 , -0.0433555 , ..., -0.0433555 ,\n",
       "        -0.0433555 , -0.0433555 ],\n",
       "       [-0.11674507, -0.0433555 , -0.0433555 , ..., -0.0433555 ,\n",
       "        -0.0433555 , -0.0433555 ]])"
      ]
     },
     "execution_count": 80,
     "metadata": {},
     "output_type": "execute_result"
    }
   ],
   "source": [
    "# Standardize data\n",
    "crypto_scaled = StandardScaler().fit_transform(crypto_dummy)\n",
    "crypto_scaled"
   ]
  },
  {
   "cell_type": "markdown",
   "metadata": {},
   "source": [
    "### Reducing Dimensions Using PCA"
   ]
  },
  {
   "cell_type": "code",
   "execution_count": 81,
   "metadata": {},
   "outputs": [],
   "source": [
    "# Use PCA to reduce dimensions to 3 principal components\n",
    "pca = PCA(n_components=3)\n",
    "crypto_pca = pca.fit_transform(crypto_scaled)"
   ]
  },
  {
   "cell_type": "code",
   "execution_count": 133,
   "metadata": {},
   "outputs": [
    {
     "data": {
      "text/html": [
       "<div>\n",
       "<style scoped>\n",
       "    .dataframe tbody tr th:only-of-type {\n",
       "        vertical-align: middle;\n",
       "    }\n",
       "\n",
       "    .dataframe tbody tr th {\n",
       "        vertical-align: top;\n",
       "    }\n",
       "\n",
       "    .dataframe thead th {\n",
       "        text-align: right;\n",
       "    }\n",
       "</style>\n",
       "<table border=\"1\" class=\"dataframe\">\n",
       "  <thead>\n",
       "    <tr style=\"text-align: right;\">\n",
       "      <th></th>\n",
       "      <th>PC 1</th>\n",
       "      <th>PC 2</th>\n",
       "      <th>PC 3</th>\n",
       "    </tr>\n",
       "  </thead>\n",
       "  <tbody>\n",
       "    <tr>\n",
       "      <th>0</th>\n",
       "      <td>-0.131769</td>\n",
       "      <td>-0.129860</td>\n",
       "      <td>-0.046894</td>\n",
       "    </tr>\n",
       "    <tr>\n",
       "      <th>2</th>\n",
       "      <td>-0.114250</td>\n",
       "      <td>-0.140597</td>\n",
       "      <td>-0.049814</td>\n",
       "    </tr>\n",
       "    <tr>\n",
       "      <th>5</th>\n",
       "      <td>0.177198</td>\n",
       "      <td>0.084116</td>\n",
       "      <td>-0.004367</td>\n",
       "    </tr>\n",
       "    <tr>\n",
       "      <th>7</th>\n",
       "      <td>-0.237154</td>\n",
       "      <td>-0.264598</td>\n",
       "      <td>-0.036294</td>\n",
       "    </tr>\n",
       "    <tr>\n",
       "      <th>8</th>\n",
       "      <td>-0.078236</td>\n",
       "      <td>-0.261381</td>\n",
       "      <td>-0.042602</td>\n",
       "    </tr>\n",
       "  </tbody>\n",
       "</table>\n",
       "</div>"
      ],
      "text/plain": [
       "       PC 1      PC 2      PC 3\n",
       "0 -0.131769 -0.129860 -0.046894\n",
       "2 -0.114250 -0.140597 -0.049814\n",
       "5  0.177198  0.084116 -0.004367\n",
       "7 -0.237154 -0.264598 -0.036294\n",
       "8 -0.078236 -0.261381 -0.042602"
      ]
     },
     "execution_count": 133,
     "metadata": {},
     "output_type": "execute_result"
    }
   ],
   "source": [
    "# Create a DataFrame with the principal components data\n",
    "pcs_df = pd.DataFrame(data=crypto_pca, columns=[\"PC 1\", \"PC 2\", \"PC 3\"], index= coin_name.index)\n",
    "pcs_df.head()"
   ]
  },
  {
   "cell_type": "markdown",
   "metadata": {},
   "source": [
    "### Clustering Crytocurrencies Using K-Means\n",
    "\n",
    "#### Find the Best Value for `k` Using the Elbow Curve"
   ]
  },
  {
   "cell_type": "code",
   "execution_count": 134,
   "metadata": {},
   "outputs": [
    {
     "data": {},
     "metadata": {},
     "output_type": "display_data"
    },
    {
     "data": {
      "application/vnd.holoviews_exec.v0+json": "",
      "text/html": [
       "<div id='1304'>\n",
       "\n",
       "\n",
       "\n",
       "\n",
       "\n",
       "  <div class=\"bk-root\" id=\"80fb89e8-e97d-43f7-9550-13c49553d95a\" data-root-id=\"1304\"></div>\n",
       "</div>\n",
       "<script type=\"application/javascript\">(function(root) {\n",
       "  function embed_document(root) {\n",
       "  var docs_json = {\"7ef1122c-e95b-478c-9187-078a0a4b3383\":{\"roots\":{\"references\":[{\"attributes\":{\"line_alpha\":0.2,\"line_color\":\"#1f77b3\",\"line_width\":2,\"x\":{\"field\":\"k\"},\"y\":{\"field\":\"inertia\"}},\"id\":\"1344\",\"type\":\"Line\"},{\"attributes\":{\"end\":10.0,\"reset_end\":10.0,\"reset_start\":1.0,\"start\":1.0,\"tags\":[[[\"k\",\"k\",null]]]},\"id\":\"1306\",\"type\":\"Range1d\"},{\"attributes\":{\"axis_label\":\"inertia\",\"bounds\":\"auto\",\"formatter\":{\"id\":\"1353\"},\"major_label_orientation\":\"horizontal\",\"ticker\":{\"id\":\"1323\"}},\"id\":\"1322\",\"type\":\"LinearAxis\"},{\"attributes\":{},\"id\":\"1314\",\"type\":\"LinearScale\"},{\"attributes\":{\"axis\":{\"id\":\"1322\"},\"dimension\":1,\"grid_line_color\":null,\"ticker\":null},\"id\":\"1325\",\"type\":\"Grid\"},{\"attributes\":{\"data_source\":{\"id\":\"1339\"},\"glyph\":{\"id\":\"1342\"},\"hover_glyph\":null,\"muted_glyph\":{\"id\":\"1344\"},\"nonselection_glyph\":{\"id\":\"1343\"},\"selection_glyph\":null,\"view\":{\"id\":\"1346\"}},\"id\":\"1345\",\"type\":\"GlyphRenderer\"},{\"attributes\":{\"active_drag\":\"auto\",\"active_inspect\":\"auto\",\"active_multi\":null,\"active_scroll\":\"auto\",\"active_tap\":\"auto\",\"tools\":[{\"id\":\"1308\"},{\"id\":\"1326\"},{\"id\":\"1327\"},{\"id\":\"1328\"},{\"id\":\"1329\"},{\"id\":\"1330\"}]},\"id\":\"1332\",\"type\":\"Toolbar\"},{\"attributes\":{},\"id\":\"1328\",\"type\":\"WheelZoomTool\"},{\"attributes\":{\"margin\":[5,5,5,5],\"name\":\"HSpacer02059\",\"sizing_mode\":\"stretch_width\"},\"id\":\"1305\",\"type\":\"Spacer\"},{\"attributes\":{\"callback\":null,\"renderers\":[{\"id\":\"1345\"}],\"tags\":[\"hv_created\"],\"tooltips\":[[\"k\",\"@{k}\"],[\"inertia\",\"@{inertia}\"]]},\"id\":\"1308\",\"type\":\"HoverTool\"},{\"attributes\":{},\"id\":\"1316\",\"type\":\"LinearScale\"},{\"attributes\":{\"end\":5366.28479523053,\"reset_end\":5366.28479523053,\"reset_start\":-454.3017984362561,\"start\":-454.3017984362561,\"tags\":[[[\"inertia\",\"inertia\",null]]]},\"id\":\"1307\",\"type\":\"Range1d\"},{\"attributes\":{\"line_alpha\":0.1,\"line_color\":\"#1f77b3\",\"line_width\":2,\"x\":{\"field\":\"k\"},\"y\":{\"field\":\"inertia\"}},\"id\":\"1343\",\"type\":\"Line\"},{\"attributes\":{},\"id\":\"1358\",\"type\":\"UnionRenderers\"},{\"attributes\":{\"axis_label\":\"k\",\"bounds\":\"auto\",\"formatter\":{\"id\":\"1349\"},\"major_label_orientation\":\"horizontal\",\"ticker\":{\"id\":\"1347\"}},\"id\":\"1318\",\"type\":\"LinearAxis\"},{\"attributes\":{\"margin\":[5,5,5,5],\"name\":\"HSpacer02060\",\"sizing_mode\":\"stretch_width\"},\"id\":\"1368\",\"type\":\"Spacer\"},{\"attributes\":{\"line_color\":\"#1f77b3\",\"line_width\":2,\"x\":{\"field\":\"k\"},\"y\":{\"field\":\"inertia\"}},\"id\":\"1342\",\"type\":\"Line\"},{\"attributes\":{\"data\":{\"inertia\":{\"__ndarray__\":\"8bXBZDwRs0AHU0/7VxSqQAM0SUgXLqBADXfd/4Rhh0Cy/q3QZdhyQKIBMRSIo2dAmTBFez6/TkCjl3HWEsNHQKUb3g5DdkJAcInV60C/PkA=\",\"dtype\":\"float64\",\"order\":\"little\",\"shape\":[10]},\"k\":[1,2,3,4,5,6,7,8,9,10]},\"selected\":{\"id\":\"1340\"},\"selection_policy\":{\"id\":\"1358\"}},\"id\":\"1339\",\"type\":\"ColumnDataSource\"},{\"attributes\":{\"align\":null,\"below\":[{\"id\":\"1318\"}],\"center\":[{\"id\":\"1321\"},{\"id\":\"1325\"}],\"left\":[{\"id\":\"1322\"}],\"margin\":null,\"min_border_bottom\":10,\"min_border_left\":10,\"min_border_right\":10,\"min_border_top\":10,\"plot_height\":300,\"plot_width\":700,\"renderers\":[{\"id\":\"1345\"}],\"sizing_mode\":\"fixed\",\"title\":{\"id\":\"1310\"},\"toolbar\":{\"id\":\"1332\"},\"x_range\":{\"id\":\"1306\"},\"x_scale\":{\"id\":\"1314\"},\"y_range\":{\"id\":\"1307\"},\"y_scale\":{\"id\":\"1316\"}},\"id\":\"1309\",\"subtype\":\"Figure\",\"type\":\"Plot\"},{\"attributes\":{\"axis\":{\"id\":\"1318\"},\"grid_line_color\":null,\"ticker\":null},\"id\":\"1321\",\"type\":\"Grid\"},{\"attributes\":{},\"id\":\"1330\",\"type\":\"ResetTool\"},{\"attributes\":{},\"id\":\"1349\",\"type\":\"BasicTickFormatter\"},{\"attributes\":{},\"id\":\"1340\",\"type\":\"Selection\"},{\"attributes\":{},\"id\":\"1327\",\"type\":\"PanTool\"},{\"attributes\":{\"ticks\":[1,2,3,4,5,6,7,8,9,10]},\"id\":\"1347\",\"type\":\"FixedTicker\"},{\"attributes\":{},\"id\":\"1353\",\"type\":\"BasicTickFormatter\"},{\"attributes\":{\"overlay\":{\"id\":\"1331\"}},\"id\":\"1329\",\"type\":\"BoxZoomTool\"},{\"attributes\":{\"text\":\"Elbow Curve\",\"text_color\":{\"value\":\"black\"},\"text_font_size\":{\"value\":\"12pt\"}},\"id\":\"1310\",\"type\":\"Title\"},{\"attributes\":{\"source\":{\"id\":\"1339\"}},\"id\":\"1346\",\"type\":\"CDSView\"},{\"attributes\":{},\"id\":\"1326\",\"type\":\"SaveTool\"},{\"attributes\":{\"bottom_units\":\"screen\",\"fill_alpha\":0.5,\"fill_color\":\"lightgrey\",\"left_units\":\"screen\",\"level\":\"overlay\",\"line_alpha\":1.0,\"line_color\":\"black\",\"line_dash\":[4,4],\"line_width\":2,\"right_units\":\"screen\",\"top_units\":\"screen\"},\"id\":\"1331\",\"type\":\"BoxAnnotation\"},{\"attributes\":{\"children\":[{\"id\":\"1305\"},{\"id\":\"1309\"},{\"id\":\"1368\"}],\"margin\":[0,0,0,0],\"name\":\"Row02055\",\"tags\":[\"embedded\"]},\"id\":\"1304\",\"type\":\"Row\"},{\"attributes\":{},\"id\":\"1323\",\"type\":\"BasicTicker\"}],\"root_ids\":[\"1304\"]},\"title\":\"Bokeh Application\",\"version\":\"2.1.1\"}};\n",
       "  var render_items = [{\"docid\":\"7ef1122c-e95b-478c-9187-078a0a4b3383\",\"root_ids\":[\"1304\"],\"roots\":{\"1304\":\"80fb89e8-e97d-43f7-9550-13c49553d95a\"}}];\n",
       "  root.Bokeh.embed.embed_items_notebook(docs_json, render_items);\n",
       "  }\n",
       "if (root.Bokeh !== undefined) {\n",
       "    embed_document(root);\n",
       "  } else {\n",
       "    var attempts = 0;\n",
       "    var timer = setInterval(function(root) {\n",
       "      if (root.Bokeh !== undefined) {\n",
       "        clearInterval(timer);\n",
       "        embed_document(root);\n",
       "      } else if (document.readyState == \"complete\") {\n",
       "        attempts++;\n",
       "        if (attempts > 100) {\n",
       "          clearInterval(timer);\n",
       "          console.log(\"Bokeh: ERROR: Unable to run BokehJS code because BokehJS library is missing\");\n",
       "        }\n",
       "      }\n",
       "    }, 10, root)\n",
       "  }\n",
       "})(window);</script>"
      ],
      "text/plain": [
       ":Curve   [k]   (inertia)"
      ]
     },
     "execution_count": 134,
     "metadata": {
      "application/vnd.holoviews_exec.v0+json": {
       "id": "1304"
      }
     },
     "output_type": "execute_result"
    }
   ],
   "source": [
    "inertia = []\n",
    "k = list(range(1, 11))\n",
    "\n",
    "# Calculate the inertia for the range of k values\n",
    "for i in k:\n",
    "    km = KMeans(n_clusters=i, random_state=0)\n",
    "    km.fit(pcs_df)\n",
    "    inertia.append(km.inertia_)\n",
    "\n",
    "# Create the Elbow Curve using hvPlot\n",
    "elbow_data = {\"k\": k, \"inertia\": inertia}\n",
    "df_elbow = pd.DataFrame(elbow_data)\n",
    "df_elbow.hvplot.line(x=\"k\", y=\"inertia\", title=\"Elbow Curve\", xticks=k)"
   ]
  },
  {
   "cell_type": "markdown",
   "metadata": {},
   "source": [
    "Running K-Means with `k=<your best value for k here>`"
   ]
  },
  {
   "cell_type": "code",
   "execution_count": 135,
   "metadata": {},
   "outputs": [],
   "source": [
    " # Initialize the K-Means model\n",
    "kmodel = KMeans(n_clusters=4, random_state=0)\n",
    "\n",
    "# Fit the model\n",
    "kmodel.fit(pcs_df)\n",
    "# Predict clusters\n",
    "predictions = kmodel.predict(pcs_df)"
   ]
  },
  {
   "cell_type": "code",
   "execution_count": 136,
   "metadata": {},
   "outputs": [],
   "source": [
    "# Create a new DataFrame including predicted clusters and cryptocurrencies features\n",
    "\n",
    "clustered_df = pd.DataFrame({\n",
    "    \"Algorithm\": crypto_csv[\"Algorithm\"], \n",
    "    \"ProofType\": crypto_csv[\"ProofType\"],\n",
    "    \"TotalCoinsMined\": crypto_csv[\"TotalCoinsMined\"], \n",
    "    \"TotalCoinSupply\": crypto_csv[\"TotalCoinSupply\"],\n",
    "    \"PC 1\": pcs_df['PC 1'], \n",
    "    \"PC 2\": pcs_df['PC 2'], \n",
    "    \"PC 3\": pcs_df['PC 3'], \n",
    "    \"CoinName\": coin_name, \n",
    "    \"Class\": kmodel.labels_,\n",
    "    \"Predictions\": predictions})\n"
   ]
  },
  {
   "cell_type": "markdown",
   "metadata": {},
   "source": [
    "### Visualizing Results\n",
    "\n",
    "#### 3D-Scatter with Clusters"
   ]
  },
  {
   "cell_type": "code",
   "execution_count": 144,
   "metadata": {},
   "outputs": [
    {
     "data": {
      "application/vnd.plotly.v1+json": {
       "config": {
        "plotlyServerURL": "https://plot.ly"
       },
       "data": [
        {
         "customdata": [
          [
           "Scrypt"
          ],
          [
           "Scrypt"
          ],
          [
           "X13"
          ],
          [
           "SHA-256"
          ],
          [
           "Ethash"
          ],
          [
           "Scrypt"
          ],
          [
           "X11"
          ],
          [
           "CryptoNight-V7"
          ],
          [
           "Ethash"
          ],
          [
           "Equihash"
          ],
          [
           "SHA-512"
          ],
          [
           "Multiple"
          ],
          [
           "SHA-256"
          ],
          [
           "SHA-256"
          ],
          [
           "Scrypt"
          ],
          [
           "X15"
          ],
          [
           "X11"
          ],
          [
           "Scrypt"
          ],
          [
           "Scrypt"
          ],
          [
           "Scrypt"
          ],
          [
           "Multiple"
          ],
          [
           "Scrypt"
          ],
          [
           "SHA-256"
          ],
          [
           "Scrypt"
          ],
          [
           "Scrypt"
          ],
          [
           "Scrypt"
          ],
          [
           "Quark"
          ],
          [
           "Groestl"
          ],
          [
           "Scrypt"
          ],
          [
           "Scrypt"
          ],
          [
           "Scrypt"
          ],
          [
           "Scrypt"
          ],
          [
           "Scrypt"
          ],
          [
           "X11"
          ],
          [
           "Scrypt"
          ],
          [
           "Groestl"
          ],
          [
           "Multiple"
          ],
          [
           "SHA-256"
          ],
          [
           "Scrypt"
          ],
          [
           "Scrypt"
          ],
          [
           "Scrypt"
          ],
          [
           "Scrypt"
          ],
          [
           "PoS"
          ],
          [
           "Scrypt"
          ],
          [
           "Scrypt"
          ],
          [
           "NeoScrypt"
          ],
          [
           "Scrypt"
          ],
          [
           "Scrypt"
          ],
          [
           "Scrypt"
          ],
          [
           "Scrypt"
          ],
          [
           "X11"
          ],
          [
           "Scrypt"
          ],
          [
           "X11"
          ],
          [
           "SHA-256"
          ],
          [
           "Scrypt"
          ],
          [
           "Scrypt"
          ],
          [
           "Scrypt"
          ],
          [
           "SHA3"
          ],
          [
           "Scrypt"
          ],
          [
           "HybridScryptHash256"
          ],
          [
           "Scrypt"
          ],
          [
           "Scrypt"
          ],
          [
           "SHA-256"
          ],
          [
           "Scrypt"
          ],
          [
           "X13"
          ],
          [
           "Scrypt"
          ],
          [
           "SHA-256"
          ],
          [
           "Scrypt"
          ],
          [
           "X13"
          ],
          [
           "NeoScrypt"
          ],
          [
           "Scrypt"
          ],
          [
           "Scrypt"
          ],
          [
           "Scrypt"
          ],
          [
           "Scrypt"
          ],
          [
           "Scrypt"
          ],
          [
           "Scrypt"
          ],
          [
           "X11"
          ],
          [
           "X11"
          ],
          [
           "SHA-256"
          ],
          [
           "Multiple"
          ],
          [
           "SHA-256"
          ],
          [
           "PHI1612"
          ],
          [
           "X11"
          ],
          [
           "SHA-256"
          ],
          [
           "SHA-256"
          ],
          [
           "SHA-256"
          ],
          [
           "X11"
          ],
          [
           "Scrypt"
          ],
          [
           "Scrypt"
          ],
          [
           "Scrypt"
          ],
          [
           "Scrypt"
          ],
          [
           "Lyra2REv2"
          ],
          [
           "Scrypt"
          ],
          [
           "X11"
          ],
          [
           "Multiple"
          ],
          [
           "SHA-256"
          ],
          [
           "X13"
          ],
          [
           "Scrypt"
          ],
          [
           "CryptoNight"
          ],
          [
           "CryptoNight"
          ],
          [
           "Shabal256"
          ],
          [
           "Counterparty"
          ],
          [
           "Scrypt"
          ],
          [
           "SHA-256"
          ],
          [
           "Groestl"
          ],
          [
           "Scrypt"
          ],
          [
           "Scrypt"
          ],
          [
           "Scrypt"
          ],
          [
           "X13"
          ],
          [
           "Scrypt"
          ],
          [
           "Scrypt"
          ],
          [
           "Scrypt"
          ],
          [
           "Scrypt"
          ],
          [
           "X13"
          ],
          [
           "Scrypt"
          ],
          [
           "Stanford Folding"
          ],
          [
           "X11"
          ],
          [
           "Multiple"
          ],
          [
           "QuBit"
          ],
          [
           "Scrypt"
          ],
          [
           "Scrypt"
          ],
          [
           "Scrypt"
          ],
          [
           "M7 POW"
          ],
          [
           "Scrypt"
          ],
          [
           "SHA-256"
          ],
          [
           "Scrypt"
          ],
          [
           "X11"
          ],
          [
           "SHA3"
          ],
          [
           "X11"
          ],
          [
           "Lyra2RE"
          ],
          [
           "SHA-256"
          ],
          [
           "QUAIT"
          ],
          [
           "X11"
          ],
          [
           "X11"
          ],
          [
           "Scrypt"
          ],
          [
           "Scrypt"
          ],
          [
           "Scrypt"
          ],
          [
           "Ethash"
          ],
          [
           "X13"
          ],
          [
           "Blake2b"
          ],
          [
           "SHA-256"
          ],
          [
           "X15"
          ],
          [
           "X11"
          ],
          [
           "SHA-256"
          ],
          [
           "BLAKE256"
          ],
          [
           "Scrypt"
          ],
          [
           "1GB AES Pattern Search"
          ],
          [
           "SHA-256"
          ],
          [
           "X11"
          ],
          [
           "Scrypt"
          ],
          [
           "SHA-256"
          ],
          [
           "SHA-256"
          ],
          [
           "NIST5"
          ],
          [
           "Scrypt"
          ],
          [
           "Scrypt"
          ],
          [
           "X11"
          ],
          [
           "Dagger"
          ],
          [
           "Scrypt"
          ],
          [
           "X11GOST"
          ],
          [
           "X11"
          ],
          [
           "Scrypt"
          ],
          [
           "SHA-256"
          ],
          [
           "Scrypt"
          ],
          [
           "PoS"
          ],
          [
           "Scrypt"
          ],
          [
           "X11"
          ],
          [
           "X11"
          ],
          [
           "SHA-256"
          ],
          [
           "SHA-256"
          ],
          [
           "NIST5"
          ],
          [
           "X11"
          ],
          [
           "Scrypt"
          ],
          [
           "POS 3.0"
          ],
          [
           "Scrypt"
          ],
          [
           "Scrypt"
          ],
          [
           "Scrypt"
          ],
          [
           "X13"
          ],
          [
           "X11"
          ],
          [
           "X11"
          ],
          [
           "Equihash"
          ],
          [
           "X11"
          ],
          [
           "Scrypt"
          ],
          [
           "CryptoNight"
          ],
          [
           "SHA-256"
          ],
          [
           "SHA-256"
          ],
          [
           "X11"
          ],
          [
           "Scrypt"
          ],
          [
           "Multiple"
          ],
          [
           "Scrypt"
          ],
          [
           "Scrypt"
          ],
          [
           "Scrypt"
          ],
          [
           "SHA-256"
          ],
          [
           "Scrypt"
          ],
          [
           "Scrypt"
          ],
          [
           "SHA-256D"
          ],
          [
           "PoS"
          ],
          [
           "Scrypt"
          ],
          [
           "X11"
          ],
          [
           "Lyra2Z"
          ],
          [
           "PoS"
          ],
          [
           "X13"
          ],
          [
           "X14"
          ],
          [
           "PoS"
          ],
          [
           "SHA-256D"
          ],
          [
           "Ethash"
          ],
          [
           "Equihash"
          ],
          [
           "DPoS"
          ],
          [
           "X11"
          ],
          [
           "Scrypt"
          ],
          [
           "X11"
          ],
          [
           "X13"
          ],
          [
           "X11"
          ],
          [
           "PoS"
          ],
          [
           "Scrypt"
          ],
          [
           "Scrypt"
          ],
          [
           "X11"
          ],
          [
           "PoS"
          ],
          [
           "X11"
          ],
          [
           "SHA-256"
          ],
          [
           "Scrypt"
          ],
          [
           "X11"
          ],
          [
           "Scrypt"
          ],
          [
           "Scrypt"
          ],
          [
           "X11"
          ],
          [
           "CryptoNight"
          ],
          [
           "Scrypt"
          ],
          [
           "Scrypt"
          ],
          [
           "Scrypt"
          ],
          [
           "Scrypt"
          ],
          [
           "Quark"
          ],
          [
           "QuBit"
          ],
          [
           "Scrypt"
          ],
          [
           "CryptoNight"
          ],
          [
           "Lyra2RE"
          ],
          [
           "Scrypt"
          ],
          [
           "SHA-256"
          ],
          [
           "X11"
          ],
          [
           "Scrypt"
          ],
          [
           "X11"
          ],
          [
           "Scrypt"
          ],
          [
           "CryptoNight-V7"
          ],
          [
           "Scrypt"
          ],
          [
           "Scrypt"
          ],
          [
           "Scrypt"
          ],
          [
           "X13"
          ],
          [
           "X11"
          ],
          [
           "Equihash"
          ],
          [
           "Scrypt"
          ],
          [
           "Scrypt"
          ],
          [
           "Lyra2RE"
          ],
          [
           "Scrypt"
          ],
          [
           "Dagger-Hashimoto"
          ],
          [
           "X11"
          ],
          [
           "Blake2S"
          ],
          [
           "X11"
          ],
          [
           "Scrypt"
          ],
          [
           "PoS"
          ],
          [
           "X11"
          ],
          [
           "NIST5"
          ],
          [
           "PoS"
          ],
          [
           "X11"
          ],
          [
           "Scrypt"
          ],
          [
           "Scrypt"
          ],
          [
           "Scrypt"
          ],
          [
           "SHA-256"
          ],
          [
           "X11"
          ],
          [
           "Scrypt"
          ],
          [
           "Scrypt"
          ],
          [
           "SHA-256"
          ],
          [
           "PoS"
          ],
          [
           "Scrypt"
          ],
          [
           "X15"
          ],
          [
           "SHA-256"
          ],
          [
           "Scrypt"
          ],
          [
           "POS 3.0"
          ],
          [
           "CryptoNight-V7"
          ],
          [
           "536"
          ],
          [
           "Argon2d"
          ],
          [
           "Blake2b"
          ],
          [
           "Cloverhash"
          ],
          [
           "CryptoNight"
          ],
          [
           "NIST5"
          ],
          [
           "X11"
          ],
          [
           "NIST5"
          ],
          [
           "Skein"
          ],
          [
           "Scrypt"
          ],
          [
           "X13"
          ],
          [
           "Scrypt"
          ],
          [
           "X11"
          ],
          [
           "X11"
          ],
          [
           "Scrypt"
          ],
          [
           "CryptoNight"
          ],
          [
           "X13"
          ],
          [
           "Time Travel"
          ],
          [
           "Scrypt"
          ],
          [
           "Keccak"
          ],
          [
           "SkunkHash v2 Raptor"
          ],
          [
           "X11"
          ],
          [
           "Skein"
          ],
          [
           "SHA-256"
          ],
          [
           "X11"
          ],
          [
           "Scrypt"
          ],
          [
           "VeChainThor Authority"
          ],
          [
           "Scrypt"
          ],
          [
           "PoS"
          ],
          [
           "Scrypt"
          ],
          [
           "Scrypt"
          ],
          [
           "Scrypt"
          ],
          [
           "Scrypt"
          ],
          [
           "Scrypt"
          ],
          [
           "Scrypt"
          ],
          [
           "Scrypt"
          ],
          [
           "CryptoNight"
          ],
          [
           "SHA-512"
          ],
          [
           "Ouroboros"
          ],
          [
           "X11"
          ],
          [
           "Equihash"
          ],
          [
           "NeoScrypt"
          ],
          [
           "X11"
          ],
          [
           "Scrypt"
          ],
          [
           "NeoScrypt"
          ],
          [
           "Lyra2REv2"
          ],
          [
           "Equihash"
          ],
          [
           "Scrypt"
          ],
          [
           "SHA-256"
          ],
          [
           "NIST5"
          ],
          [
           "PHI1612"
          ],
          [
           "Dagger"
          ],
          [
           "Scrypt"
          ],
          [
           "Quark"
          ],
          [
           "Scrypt"
          ],
          [
           "POS 2.0"
          ],
          [
           "Scrypt"
          ],
          [
           "SHA-256"
          ],
          [
           "X11"
          ],
          [
           "NeoScrypt"
          ],
          [
           "Ethash"
          ],
          [
           "NeoScrypt"
          ],
          [
           "X11"
          ],
          [
           "DPoS"
          ],
          [
           "NIST5"
          ],
          [
           "X13"
          ],
          [
           "Multiple"
          ],
          [
           "Scrypt"
          ],
          [
           "CryptoNight"
          ],
          [
           "CryptoNight"
          ],
          [
           "Ethash"
          ],
          [
           "NIST5"
          ],
          [
           "Quark"
          ],
          [
           "X11"
          ],
          [
           "CryptoNight-V7"
          ],
          [
           "Scrypt"
          ],
          [
           "Scrypt"
          ],
          [
           "Scrypt"
          ],
          [
           "X11"
          ],
          [
           "BLAKE256"
          ],
          [
           "X11"
          ],
          [
           "NeoScrypt"
          ],
          [
           "Quark"
          ],
          [
           "NeoScrypt"
          ],
          [
           "Scrypt"
          ],
          [
           "Scrypt"
          ],
          [
           "Scrypt"
          ],
          [
           "X11"
          ],
          [
           "X11"
          ],
          [
           "SHA-256"
          ],
          [
           "C11"
          ],
          [
           "POS 3.0"
          ],
          [
           "Ethash"
          ],
          [
           "Scrypt"
          ],
          [
           "CryptoNight"
          ],
          [
           "SkunkHash"
          ],
          [
           "Scrypt"
          ],
          [
           "CryptoNight"
          ],
          [
           "Scrypt"
          ],
          [
           "Dagger"
          ],
          [
           "Lyra2REv2"
          ],
          [
           "X13"
          ],
          [
           "SHA-256 + Hive"
          ],
          [
           "Scrypt"
          ],
          [
           "Scrypt"
          ],
          [
           "X11"
          ],
          [
           "C11"
          ],
          [
           "X11"
          ],
          [
           "XEVAN"
          ],
          [
           "Scrypt"
          ],
          [
           "VBFT"
          ],
          [
           "Ethash"
          ],
          [
           "CryptoNight"
          ],
          [
           "Scrypt"
          ],
          [
           "IMesh"
          ],
          [
           "NIST5"
          ],
          [
           "Scrypt"
          ],
          [
           "Scrypt"
          ],
          [
           "Equihash"
          ],
          [
           "Scrypt"
          ],
          [
           "Lyra2Z"
          ],
          [
           "Green Protocol"
          ],
          [
           "PoS"
          ],
          [
           "Scrypt"
          ],
          [
           "Semux BFT consensus"
          ],
          [
           "X11"
          ],
          [
           "Quark"
          ],
          [
           "PoS"
          ],
          [
           "CryptoNight"
          ],
          [
           "X16R"
          ],
          [
           "Scrypt"
          ],
          [
           "NIST5"
          ],
          [
           "Lyra2RE"
          ],
          [
           "XEVAN"
          ],
          [
           "Tribus"
          ],
          [
           "Scrypt"
          ],
          [
           "Lyra2Z"
          ],
          [
           "CryptoNight"
          ],
          [
           "CryptoNight Heavy"
          ],
          [
           "CryptoNight"
          ],
          [
           "Scrypt"
          ],
          [
           "Scrypt"
          ],
          [
           "Jump Consistent Hash"
          ],
          [
           "SHA-256D"
          ],
          [
           "CryptoNight"
          ],
          [
           "Scrypt"
          ],
          [
           "X15"
          ],
          [
           "Scrypt"
          ],
          [
           "Quark"
          ],
          [
           "SHA-256"
          ],
          [
           "DPoS"
          ],
          [
           "X16R"
          ],
          [
           "HMQ1725"
          ],
          [
           "X11"
          ],
          [
           "X16R"
          ],
          [
           "Quark"
          ],
          [
           "Quark"
          ],
          [
           "Scrypt"
          ],
          [
           "Lyra2REv2"
          ],
          [
           "Quark"
          ],
          [
           "Scrypt"
          ],
          [
           "Scrypt"
          ],
          [
           "CryptoNight-V7"
          ],
          [
           "Cryptonight-GPU"
          ],
          [
           "XEVAN"
          ],
          [
           "CryptoNight Heavy"
          ],
          [
           "X11"
          ],
          [
           "X11"
          ],
          [
           "Scrypt"
          ],
          [
           "PoS"
          ],
          [
           "SHA-256"
          ],
          [
           "Keccak"
          ],
          [
           "X11"
          ],
          [
           "X11"
          ],
          [
           "Scrypt"
          ],
          [
           "SHA-512"
          ],
          [
           "X16R"
          ],
          [
           "ECC 256K1"
          ],
          [
           "Equihash"
          ],
          [
           "XEVAN"
          ],
          [
           "Lyra2Z"
          ],
          [
           "SHA-256"
          ],
          [
           "XEVAN"
          ],
          [
           "X11"
          ],
          [
           "CryptoNight"
          ],
          [
           "Quark"
          ],
          [
           "Blake"
          ],
          [
           "Blake"
          ],
          [
           "Equihash"
          ],
          [
           "Exosis"
          ],
          [
           "Scrypt"
          ],
          [
           "Scrypt"
          ],
          [
           "Equihash"
          ],
          [
           "Quark"
          ],
          [
           "Equihash"
          ],
          [
           "Quark"
          ],
          [
           "Scrypt"
          ],
          [
           "QuBit"
          ],
          [
           "X11"
          ],
          [
           "Scrypt"
          ],
          [
           "XEVAN"
          ],
          [
           "SHA-256D"
          ],
          [
           "X11"
          ],
          [
           "SHA-256"
          ],
          [
           "X13"
          ],
          [
           "SHA-256"
          ],
          [
           "X11"
          ],
          [
           "DPoS"
          ],
          [
           "Scrypt"
          ],
          [
           "Scrypt"
          ],
          [
           "X11"
          ],
          [
           "NeoScrypt"
          ],
          [
           "Scrypt"
          ],
          [
           "Blake"
          ],
          [
           "Scrypt"
          ],
          [
           "SHA-256"
          ],
          [
           "Scrypt"
          ],
          [
           "X11"
          ],
          [
           "Scrypt"
          ],
          [
           "Scrypt"
          ],
          [
           "SHA-256"
          ],
          [
           "X11"
          ],
          [
           "SHA-256"
          ],
          [
           "Scrypt"
          ],
          [
           "Scrypt"
          ],
          [
           "Scrypt"
          ],
          [
           "Groestl"
          ],
          [
           "X11"
          ],
          [
           "Scrypt"
          ],
          [
           "PoS"
          ],
          [
           "Scrypt"
          ],
          [
           "Scrypt"
          ],
          [
           "X11"
          ],
          [
           "SHA-256"
          ],
          [
           "DPoS"
          ],
          [
           "Scrypt"
          ],
          [
           "Scrypt"
          ],
          [
           "NeoScrypt"
          ],
          [
           "SHA3-256"
          ],
          [
           "Multiple"
          ],
          [
           "X13"
          ],
          [
           "Equihash+Scrypt"
          ],
          [
           "DPoS"
          ],
          [
           "Ethash"
          ],
          [
           "DPoS"
          ],
          [
           "SHA-256"
          ],
          [
           "Leased POS"
          ],
          [
           "PoS"
          ],
          [
           "PoS"
          ],
          [
           "SHA-256"
          ],
          [
           "Scrypt"
          ],
          [
           "CryptoNight"
          ],
          [
           "Equihash"
          ],
          [
           "Scrypt"
          ]
         ],
         "hovertemplate": "<b>%{hovertext}</b><br><br>Class=%{marker.color}<br>PC 1=%{x}<br>PC 2=%{y}<br>PC 3=%{z}<br>Algorithm=%{customdata[0]}<extra></extra>",
         "hovertext": [
          "42 Coin",
          "404Coin",
          "EliteCoin",
          "Bitcoin",
          "Ethereum",
          "Litecoin",
          "Dash",
          "Monero",
          "Ethereum Classic",
          "ZCash",
          "Bitshares",
          "DigiByte",
          "BitcoinDark",
          "PayCoin",
          "ProsperCoin",
          "KoboCoin",
          "Spreadcoin",
          "Argentum",
          "Aurora Coin",
          "BlueCoin",
          "MyriadCoin",
          "MoonCoin",
          "ZetaCoin",
          "SexCoin",
          "Quatloo",
          "EnergyCoin",
          "QuarkCoin",
          "Riecoin",
          "Digitalcoin ",
          "BitBar",
          "Catcoin",
          "CryptoBullion",
          "CannaCoin",
          "CryptCoin",
          "CasinoCoin",
          "Diamond",
          "Verge",
          "DevCoin",
          "EarthCoin",
          "E-Gulden",
          "Einsteinium",
          "Emerald",
          "Exclusive Coin",
          "FlutterCoin",
          "Franko",
          "FeatherCoin",
          "GrandCoin",
          "GlobalCoin",
          "GoldCoin",
          "HoboNickels",
          "HyperStake",
          "Infinite Coin",
          "IOCoin",
          "IXcoin",
          "KrugerCoin",
          "LuckyCoin",
          "Litebar ",
          "MaxCoin",
          "MegaCoin",
          "MediterraneanCoin",
          "MintCoin",
          "MinCoin",
          "MazaCoin",
          "Nautilus Coin",
          "NavCoin",
          "NobleCoin",
          "Namecoin",
          "NyanCoin",
          "OpalCoin",
          "Orbitcoin",
          "PotCoin",
          "PhoenixCoin",
          "Reddcoin",
          "RonPaulCoin",
          "StableCoin",
          "SmartCoin",
          "SuperCoin",
          "SyncCoin",
          "SysCoin",
          "TeslaCoin",
          "TigerCoin",
          "TittieCoin",
          "TorCoin",
          "TerraCoin",
          "UnbreakableCoin",
          "Unobtanium",
          "UroCoin",
          "UnitaryStatus Dollar",
          "UltraCoin",
          "ViaCoin",
          "VeriCoin",
          "Vertcoin",
          "WorldCoin",
          "X11 Coin",
          "Crypti",
          "JouleCoin",
          "StealthCoin",
          "ZCC Coin",
          "ByteCoin",
          "DigitalNote ",
          "BurstCoin",
          "StorjCoin",
          "MonaCoin",
          "Neutron",
          "FairCoin",
          "Gulden",
          "RubyCoin",
          "PesetaCoin",
          "Kore",
          "Wild Beast Coin",
          "Dnotes",
          "Flo",
          "8BIT Coin",
          "Sativa Coin",
          "ArtByte",
          "Folding Coin",
          "Ucoin",
          "Unitus",
          "CypherPunkCoin",
          "OmniCron",
          "Vtorrent",
          "GreenCoin",
          "Cryptonite",
          "MasterCoin",
          "SoonCoin",
          "1Credit",
          "IslaCoin",
          "Nexus",
          "MarsCoin ",
          "Crypto",
          "Anarchists Prime",
          "Droidz",
          "BowsCoin",
          "Squall Coin",
          "Song Coin",
          "BitZeny",
          "Diggits",
          "Expanse",
          "Paycon",
          "Siacoin",
          "Emercoin",
          "EverGreenCoin",
          "MindCoin",
          "I0coin",
          "Decred",
          "Revolution VR",
          "HOdlcoin",
          "EDRCoin",
          "Hitcoin",
          "Gamecredits",
          "DubaiCoin",
          "CarpeDiemCoin",
          "PWR Coin",
          "BillaryCoin",
          "GPU Coin",
          "Adzcoin",
          "SoilCoin",
          "YoCoin",
          "SibCoin",
          "EuropeCoin",
          "ZeitCoin",
          "SwingCoin",
          "SafeExchangeCoin",
          "Nebuchadnezzar",
          "Francs",
          "BolivarCoin",
          "Ratecoin",
          "Revenu",
          "Clockcoin",
          "VIP Tokens",
          "BitSend",
          "Omni",
          "Let it Ride",
          "PutinCoin",
          "iBankCoin",
          "Frankywillcoin",
          "MudraCoin",
          "PizzaCoin",
          "Lutetium Coin",
          "Komodo",
          "GoldBlocks",
          "CarterCoin",
          "Karbo",
          "BitTokens",
          "ZayedCoin",
          "MustangCoin",
          "ZoneCoin",
          "Circuits of Value",
          "RootCoin",
          "DopeCoin",
          "BitCurrency",
          "DollarCoin",
          "Swiscoin",
          "Shilling",
          "BuzzCoin",
          "Opair",
          "PesoBit",
          "Halloween Coin",
          "ZCoin",
          "CoffeeCoin",
          "RoyalCoin",
          "GanjaCoin V2",
          "TeamUP",
          "LanaCoin",
          "Elementrem",
          "ZClassic",
          "ARK",
          "InsaneCoin",
          "KiloCoin",
          "ArtexCoin",
          "EmberCoin",
          "XenixCoin",
          "FreeCoin",
          "PLNCoin",
          "AquariusCoin",
          "Kurrent",
          "Creatio",
          "Eternity",
          "Eurocoin",
          "BitcoinFast",
          "Stakenet",
          "BitConnect Coin",
          "MoneyCoin",
          "Enigma",
          "Cannabis Industry Coin",
          "Russiacoin",
          "PandaCoin",
          "GameUnits",
          "GAKHcoin",
          "Allsafe",
          "LiteCreed",
          "OsmiumCoin",
          "Bikercoins",
          "HexxCoin",
          "Klingon Empire Darsek",
          "Internet of People",
          "KushCoin",
          "Printerium",
          "PacCoin",
          "Impeach",
          "Citadel",
          "Zilbercoin",
          "FirstCoin",
          "BeaverCoin",
          "FindCoin",
          "VaultCoin",
          "Zero",
          "OpenChat",
          "Canada eCoin",
          "Zoin",
          "RenosCoin",
          "DubaiCoin",
          "VirtacoinPlus",
          "TajCoin",
          "Impact",
          "EB3coin",
          "Atmos",
          "HappyCoin",
          "Coinonat",
          "MacronCoin",
          "Condensate",
          "Independent Money System",
          "ArgusCoin",
          "LomoCoin",
          "ProCurrency",
          "GoldReserve",
          "BenjiRolls",
          "GrowthCoin",
          "ILCoin",
          "Phreak",
          "Degas Coin",
          "HTML5 Coin",
          "Ultimate Secure Cash",
          "EquiTrader",
          "QTUM",
          "Quantum Resistant Ledger",
          "Espers",
          "Dynamic",
          "Nano",
          "ChanCoin",
          "Dinastycoin",
          "Denarius",
          "DigitalPrice",
          "Virta Unique Coin",
          "Bitcoin Planet",
          "Unify",
          "BritCoin",
          "SocialCoin",
          "ArcticCoin",
          "DAS",
          "Linda",
          "LeviarCoin",
          "DeepOnion",
          "Bitcore",
          "gCn Coin",
          "SmartCash",
          "Signatum",
          "Onix",
          "Cream",
          "Bitcoin Cash",
          "Monoeci",
          "Draftcoin",
          "Vechain",
          "Sojourn Coin",
          "Stakecoin",
          "NewYorkCoin",
          "FrazCoin",
          "Kronecoin",
          "AdCoin",
          "Linx",
          "CoinonatX",
          "Ethereum Dark",
          "Sumokoin",
          "Obsidian",
          "Cardano",
          "Regalcoin",
          "BitcoinZ",
          "TrezarCoin",
          "Elements",
          "TerraNovaCoin",
          "VIVO Coin",
          "Rupee",
          "Bitcoin Gold",
          "WomenCoin",
          "Theresa May Coin",
          "NamoCoin",
          "LUXCoin",
          "Pirl",
          "Xios",
          "Bitcloud 2.0",
          "eBoost",
          "KekCoin",
          "BlackholeCoin",
          "Infinity Economics",
          "Pura",
          "Innova",
          "Ellaism",
          "GoByte",
          "Magnet",
          "Lamden Tau",
          "Electra",
          "Bitcoin Diamond",
          "SHIELD",
          "Cash & Back Coin",
          "UltraNote",
          "BitCoal",
          "DaxxCoin",
          "Bulwark",
          "Kalkulus",
          "AC3",
          "Lethean",
          "GermanCoin",
          "LiteCoin Ultra",
          "PopularCoin",
          "PhantomX",
          "Photon",
          "Sucre",
          "SparksPay",
          "Digiwage",
          "GunCoin",
          "IrishCoin",
          "Trollcoin",
          "Litecoin Plus",
          "Monkey Project",
          "Pioneer Coin",
          "UnitedBitcoin",
          "Interzone",
          "TokenPay",
          "1717 Masonic Commemorative Token",
          "My Big Coin",
          "TurtleCoin",
          "MUNcoin",
          "Unified Society USDEX",
          "Niobio Cash",
          "ShareChain",
          "Travelflex",
          "KREDS",
          "Tokyo Coin",
          "LitecoinCash",
          "BitFlip",
          "LottoCoin",
          "Crypto Improvement Fund",
          "Stipend",
          "Pushi",
          "Ellerium",
          "Velox",
          "Ontology",
          "Callisto Network",
          "BitTube",
          "Poseidon",
          "Aidos Kuneen",
          "Bitspace",
          "Briacoin",
          "Ignition",
          "Bitrolium",
          "MedicCoin",
          "Alpenschillling",
          "Bitcoin Green",
          "Deviant Coin",
          "Abjcoin",
          "Semux",
          "FuturoCoin",
          "Carebit",
          "Zealium",
          "Monero Classic",
          "Proton",
          "iDealCash",
          "Jumpcoin",
          "Infinex",
          "Bitcoin Incognito",
          "KEYCO",
          "HollyWoodCoin",
          "GINcoin",
          "PlatinCoin",
          "Loki",
          "Newton Coin",
          "Swisscoin",
          "Xt3ch",
          "MassGrid",
          "TheVig",
          "PluraCoin",
          "EmaratCoin",
          "Dekado",
          "Lynx",
          "Poseidon Quark",
          "BitcoinWSpectrum",
          "Muse",
          "Motion",
          "PlusOneCoin",
          "Axe",
          "Trivechain",
          "Dystem",
          "Giant",
          "Peony Coin",
          "Absolute Coin",
          "Vitae",
          "HexCoin",
          "TPCash",
          "Webchain",
          "Ryo",
          "Urals Coin",
          "Qwertycoin",
          "ARENON",
          "EUNO",
          "MMOCoin",
          "Ketan",
          "Project Pai",
          "XDNA",
          "PAXEX",
          "Azart",
          "ThunderStake",
          "Kcash",
          "Xchange",
          "Acute Angle Cloud",
          "CrypticCoin",
          "Bettex coin",
          "Actinium",
          "Bitcoin SV",
          "BitMoney",
          "Junson Ming Chan Coin",
          "FREDEnergy",
          "HerbCoin",
          "Universal Molecule",
          "Lithium",
          "PirateCash",
          "Exosis",
          "Block-Logic",
          "Oduwa",
          "Beam",
          "Galilel",
          "Bithereum",
          "Crypto Sports",
          "Credit",
          "SLICE",
          "Dash Platinum",
          "Nasdacoin",
          "Beetle Coin",
          "Titan Coin",
          "Award",
          "BLAST",
          "Bitcoin Rhodium",
          "GlobalToken",
          "Insane Coin",
          "ALAX",
          "LiteDoge",
          "SolarCoin",
          "TruckCoin",
          "UFO Coin",
          "OrangeCoin",
          "BlakeCoin",
          "BitstarCoin",
          "NeosCoin",
          "HyperCoin",
          "PinkCoin",
          "Crypto Escudo",
          "AudioCoin",
          "IncaKoin",
          "Piggy Coin",
          "Crown Coin",
          "Genstake",
          "SmileyCoin",
          "XiaoMiCoin",
          "Groestlcoin",
          "CapriCoin",
          " ClubCoin",
          "Radium",
          "Bata",
          "Pakcoin",
          "Creditbit ",
          "OKCash",
          "Lisk",
          "HiCoin",
          "WhiteCoin",
          "FriendshipCoin",
          "Fiii",
          "JoinCoin",
          "Triangles Coin",
          "Vollar",
          "EOS",
          "Reality Clash",
          "Oxycoin",
          "TigerCash",
          "Waves",
          "Particl",
          "Nxt",
          "ZEPHYR",
          "Gapcoin",
          "Beldex",
          "Horizen",
          "BitcoinPlus"
         ],
         "legendgroup": "0",
         "marker": {
          "color": [
           0,
           0,
           0,
           0,
           0,
           0,
           0,
           0,
           0,
           0,
           0,
           0,
           0,
           0,
           0,
           0,
           0,
           0,
           0,
           0,
           0,
           0,
           0,
           0,
           0,
           0,
           0,
           0,
           0,
           0,
           0,
           0,
           0,
           0,
           0,
           0,
           0,
           0,
           0,
           0,
           0,
           0,
           0,
           0,
           0,
           0,
           0,
           0,
           0,
           0,
           0,
           0,
           0,
           0,
           0,
           0,
           0,
           0,
           0,
           0,
           0,
           0,
           0,
           0,
           0,
           0,
           0,
           0,
           0,
           0,
           0,
           0,
           0,
           0,
           0,
           0,
           0,
           0,
           0,
           0,
           0,
           0,
           0,
           0,
           0,
           0,
           0,
           0,
           0,
           0,
           0,
           0,
           0,
           0,
           0,
           0,
           0,
           0,
           0,
           0,
           0,
           0,
           0,
           0,
           0,
           0,
           0,
           0,
           0,
           0,
           0,
           0,
           0,
           0,
           0,
           0,
           0,
           0,
           0,
           0,
           0,
           0,
           0,
           0,
           0,
           0,
           0,
           0,
           0,
           0,
           0,
           0,
           0,
           0,
           0,
           0,
           0,
           0,
           0,
           0,
           0,
           0,
           0,
           0,
           0,
           0,
           0,
           0,
           0,
           0,
           0,
           0,
           0,
           0,
           0,
           0,
           0,
           0,
           0,
           0,
           0,
           0,
           0,
           0,
           0,
           0,
           0,
           0,
           0,
           0,
           0,
           0,
           0,
           0,
           0,
           0,
           0,
           0,
           0,
           0,
           0,
           0,
           0,
           0,
           0,
           0,
           0,
           0,
           0,
           0,
           0,
           0,
           0,
           0,
           0,
           0,
           0,
           0,
           0,
           0,
           0,
           0,
           0,
           0,
           0,
           0,
           0,
           0,
           0,
           0,
           0,
           0,
           0,
           0,
           0,
           0,
           0,
           0,
           0,
           0,
           0,
           0,
           0,
           0,
           0,
           0,
           0,
           0,
           0,
           0,
           0,
           0,
           0,
           0,
           0,
           0,
           0,
           0,
           0,
           0,
           0,
           0,
           0,
           0,
           0,
           0,
           0,
           0,
           0,
           0,
           0,
           0,
           0,
           0,
           0,
           0,
           0,
           0,
           0,
           0,
           0,
           0,
           0,
           0,
           0,
           0,
           0,
           0,
           0,
           0,
           0,
           0,
           0,
           0,
           0,
           0,
           0,
           0,
           0,
           0,
           0,
           0,
           0,
           0,
           0,
           0,
           0,
           0,
           0,
           0,
           0,
           0,
           0,
           0,
           0,
           0,
           0,
           0,
           0,
           0,
           0,
           0,
           0,
           0,
           0,
           0,
           0,
           0,
           0,
           0,
           0,
           0,
           0,
           0,
           0,
           0,
           0,
           0,
           0,
           0,
           0,
           0,
           0,
           0,
           0,
           0,
           0,
           0,
           0,
           0,
           0,
           0,
           0,
           0,
           0,
           0,
           0,
           0,
           0,
           0,
           0,
           0,
           0,
           0,
           0,
           0,
           0,
           0,
           0,
           0,
           0,
           0,
           0,
           0,
           0,
           0,
           0,
           0,
           0,
           0,
           0,
           0,
           0,
           0,
           0,
           0,
           0,
           0,
           0,
           0,
           0,
           0,
           0,
           0,
           0,
           0,
           0,
           0,
           0,
           0,
           0,
           0,
           0,
           0,
           0,
           0,
           0,
           0,
           0,
           0,
           0,
           0,
           0,
           0,
           0,
           0,
           0,
           0,
           0,
           0,
           0,
           0,
           0,
           0,
           0,
           0,
           0,
           0,
           0,
           0,
           0,
           0,
           0,
           0,
           0,
           0,
           0,
           0,
           0,
           0,
           0,
           0,
           0,
           0,
           0,
           0,
           0,
           0,
           0,
           0,
           0,
           0,
           0,
           0,
           0,
           0,
           0,
           0,
           0,
           0,
           0,
           0,
           0,
           0,
           0,
           0,
           0,
           0,
           0,
           0,
           0,
           0,
           0,
           0,
           0,
           0,
           0,
           0,
           0,
           0,
           0,
           0,
           0,
           0,
           0,
           0,
           0,
           0,
           0,
           0,
           0,
           0,
           0,
           0,
           0,
           0,
           0,
           0,
           0,
           0,
           0,
           0,
           0,
           0,
           0,
           0,
           0,
           0,
           0,
           0,
           0,
           0,
           0,
           0,
           0,
           0,
           0,
           0,
           0,
           0,
           0,
           0,
           0,
           0,
           0,
           0,
           0,
           0,
           0,
           0,
           0,
           0,
           0,
           0,
           0,
           0,
           0,
           0,
           0,
           0,
           0,
           0,
           0,
           0,
           0,
           0,
           0,
           0,
           0,
           0
          ],
          "coloraxis": "coloraxis",
          "symbol": "circle"
         },
         "mode": "markers",
         "name": "0",
         "scene": "scene",
         "showlegend": true,
         "type": "scatter3d",
         "x": [
          -0.13176898222611433,
          -0.11425033318275184,
          0.17719753791137913,
          -0.2371542265273732,
          -0.07823558832252092,
          -0.18100383063612518,
          -0.2639433396950202,
          -0.23782590558064426,
          -0.18418850984376522,
          -0.2351592451758661,
          -0.28251365735330874,
          -0.0992690607549987,
          -0.22201882786772525,
          -0.23906465528346243,
          -0.20104497562035367,
          -0.27101832050420793,
          -0.2734913745113934,
          -0.16558672699048468,
          -0.13144605089684722,
          -0.05877702008546551,
          -0.06444129742811924,
          -0.1510186040962731,
          -0.22699708104376073,
          -0.14846024634966004,
          -0.13401629407741955,
          -0.06457832682991571,
          -0.37732137183552644,
          -0.30040241900450254,
          -0.15096633812720778,
          -0.13013192956252775,
          -0.1458308082501652,
          -0.13337401069414181,
          -0.14946283848052744,
          -0.28950361072533487,
          0.30557537969198323,
          -0.4103734087052773,
          -0.09866393096652268,
          0.03263656909675929,
          0.055364577850222266,
          -0.14567579468899358,
          -0.14821040231724916,
          -0.14975340865589945,
          -0.16470697174994373,
          0.014448337369864075,
          -0.1509607743984018,
          -0.4696894192737012,
          -0.13452545748789163,
          -0.15392797316054907,
          -0.14659596558527685,
          -0.19369004892552932,
          -0.12486232711658075,
          1.3509330328879812,
          -0.26384574240002295,
          -0.23711842220618606,
          -0.15113120289900409,
          -0.19513969457063393,
          -0.15461087523499453,
          -0.01329728233394264,
          -0.1634306694052846,
          -0.33201532263143035,
          0.17549595861750453,
          -0.2320757893317878,
          -0.1792697869840085,
          -0.12975816885366181,
          -0.1301394097371762,
          -0.12028651029226697,
          -0.23719035468887487,
          -0.14791668356993368,
          -0.1307160827105711,
          -0.4979493997582682,
          -0.16679012838203336,
          -0.13306064644416393,
          0.26595939910271443,
          -0.20109778638188344,
          -0.14964602394677506,
          -0.152390841860965,
          -0.14329354534136352,
          -0.28098884461169094,
          -0.21934567097242388,
          -0.19988210913617915,
          -0.22511421096158374,
          -0.18068307640319112,
          -0.29270774565769264,
          -0.1998498843069393,
          -0.25608438980691195,
          -0.23076344533829116,
          -0.16189380744939622,
          -0.11845486387925466,
          -0.11585415683534682,
          -0.2046230975566929,
          0.0015095257750995885,
          -0.17306511515099163,
          -0.15149172542719083,
          -0.2848070059208621,
          -0.14920737879419604,
          -0.2717827046614848,
          -0.13051298350173143,
          -0.11627414032572717,
          2.7834328438147393,
          -0.09238665223633595,
          -1.4022387576928954,
          -0.070412579957523,
          -0.14545442870340153,
          -0.20988044807092673,
          -0.18461526944141007,
          -0.14824208504807782,
          -0.06530079196939914,
          -0.1467307808455345,
          -0.30742511770150177,
          -0.15284651716781533,
          -0.05481871382059242,
          -0.14832342645424268,
          -0.06595510907165954,
          -0.27930046838157785,
          -0.1266527827213037,
          -0.20043722545273673,
          -0.25554737871190586,
          -0.16764217500670353,
          -0.18739757893635667,
          -0.14892754152459267,
          -0.17755047435697596,
          -0.09353425299918777,
          0.11179179259032071,
          -0.15426731379485517,
          -0.2372160999987325,
          0.34494160884517316,
          -0.14421368876731583,
          0.4297975779910095,
          -0.25951327088135945,
          -0.43534102476861336,
          -0.2221622040813609,
          0.3632204838981843,
          -0.2791897660635247,
          -0.1515823944762628,
          -0.15383132036429034,
          -0.14906404531407666,
          -0.1149275500647567,
          -0.1242207707902335,
          -0.27948568984334754,
          0.212018047541436,
          -0.15370915736664437,
          -0.28909477792286725,
          -0.2991704493479285,
          -0.23711946244603185,
          -0.10983407561206324,
          -0.1872877964449284,
          -0.3751454285957253,
          -0.2219918704654803,
          -0.099174373109415,
          -0.18092687192341003,
          -0.2154906402615145,
          0.13404601734051327,
          -0.04412991775426085,
          -0.14608411326527232,
          -0.12639094565654363,
          -0.2594659332495387,
          -0.13666106686307547,
          -0.15112129060097645,
          -0.03301966608814743,
          -0.27538121083524825,
          0.4774687565001918,
          -0.20633163229252907,
          -0.32707757525321657,
          -0.27625496952842554,
          -0.19528412129424993,
          -0.30592681446102304,
          -0.2751770230644841,
          -0.21072800757049492,
          -0.2142255465459969,
          -0.29261741215578185,
          -0.2776500546490374,
          -0.1447580576919169,
          -0.3342534867549334,
          0.02805721795644298,
          -0.12743572732720107,
          -0.11529068547525649,
          -0.2671929055029196,
          -0.3060658136978134,
          -0.25802899642035354,
          -0.23772624512625243,
          -0.2929135036288265,
          -0.2009020902792631,
          -0.2569050332232336,
          -0.21967381906608402,
          -0.22297474508452483,
          -0.24515656091006205,
          -0.18340440408842879,
          -0.34027445058797723,
          -0.06594976421770361,
          -0.21905033679173594,
          -0.06368828073617756,
          -0.23108005764902426,
          -0.8059680364955658,
          -0.15792675371224793,
          0.39666613184971544,
          -0.3176152058592668,
          -0.06559215887685615,
          -0.2673386327160849,
          -0.2781603673478276,
          -0.3201291569265772,
          -0.30005969317909564,
          -0.17604253275482898,
          -0.31915350750371163,
          0.07181786690034256,
          -0.12082512264555162,
          -0.23517928074953684,
          4.478464292640244,
          -0.21842741248050548,
          -0.14351309715331806,
          -0.14376516386225704,
          1.2348674637294261,
          -0.2734774653365172,
          -0.31306404730804904,
          -0.13880701582721056,
          -0.1461582674505916,
          -0.2960549026678364,
          -0.27625496952842554,
          -0.2742784218687743,
          -0.21378820421998448,
          -0.16371314053473932,
          -0.10075435824923627,
          -0.1329071179091145,
          -0.1344929122819695,
          -0.23339314819396123,
          -0.22595130884463088,
          -0.16414965928216302,
          0.4301624200130927,
          -0.12774250420369293,
          -0.13743177555362193,
          -0.3061799482795234,
          -0.3721438218032508,
          -0.16255252125459335,
          -0.2525684646795119,
          -0.44691546227439327,
          -0.05688796081210443,
          -0.21965195891735956,
          -0.28303013465151633,
          -0.17754801726494826,
          -0.2938741889033891,
          -0.138593758510062,
          -0.46672079929848553,
          -0.15641144600109166,
          -0.0359947736207973,
          -0.14937464466086722,
          -0.30033470098379633,
          -0.21354149052502705,
          -0.18544016408561675,
          -0.10662709649347096,
          -0.1462732129148715,
          -0.34963748883418766,
          -0.1303363029687216,
          -1.553191339913627,
          -0.19453301588079316,
          0.27858658874525477,
          -0.20211310188776413,
          -0.23294944150987276,
          -0.32211057371931245,
          -0.19443837433680114,
          -0.30615123279041767,
          -0.31495791257758005,
          -0.134040831922765,
          -0.13122837665458484,
          -0.1282981638982021,
          -0.11794412681418104,
          -0.20150768637014432,
          -0.24819894337595436,
          -0.15110406602422552,
          0.022555687406298985,
          -0.2031487061682907,
          -0.23904658780711635,
          -0.20383799875808237,
          0.3973153369233488,
          -0.20301041216134938,
          -0.1489645055654392,
          -0.2131271065579184,
          -0.3753471037628015,
          0.34426805717446884,
          -0.12236197865158249,
          -0.4077327716853642,
          -0.17318676948924483,
          -0.003189882488988703,
          -0.3065890832166089,
          -0.21196083532806187,
          -0.2861595725955867,
          -0.18024835181674315,
          -0.15130143957827644,
          -0.20505115602804047,
          -0.1488925087707413,
          -0.2917289245581303,
          -0.2930508156531704,
          0.06464223813460071,
          -0.2926053445253734,
          -0.30420658961930697,
          -0.264961871412031,
          2.5693815201264294,
          0.22579200299192903,
          -1.1013534017766105,
          -0.23750884957131574,
          -0.17978947210418314,
          -0.23715345188942027,
          -0.2831649863566968,
          -0.12214667177493477,
          11.71599713029359,
          -0.14954129864879778,
          -0.32036675520568547,
          1.5355720492843044,
          -0.19524864464786254,
          -0.18151998112797424,
          -0.13372995524945336,
          -0.1337178422912357,
          -0.19619650904318642,
          -0.13804685147729479,
          -0.2912597414094175,
          -0.3415817326252374,
          1.6502715862898598,
          -0.3404483818585728,
          -0.11881085096607985,
          -0.38648319412266147,
          -0.2518817114684448,
          -0.13359569579831262,
          -0.4477486137189165,
          -0.0624461056376918,
          -0.2350480642147945,
          0.6731267653520517,
          -0.15162761380228165,
          -0.3350138093009378,
          -0.24463083371148542,
          -0.05190752653854524,
          -0.1834092986842278,
          -0.3197927922565751,
          -0.13296744816255285,
          -0.24838062653533421,
          -0.13487225582029536,
          -0.05709949083841462,
          -0.31195758968279724,
          -0.4037550202526668,
          -0.11310152685905218,
          -0.5062388839015743,
          -0.24207110743182483,
          3.225853939460538,
          0.13329222742892916,
          -0.23482677761142104,
          -0.3475195132225254,
          -0.17073235412163495,
          0.03241221112572312,
          -0.24579448121361044,
          -0.13564430665048471,
          -0.3428666156972145,
          -0.2945705906076257,
          -0.29629923649406975,
          -0.4565652337565241,
          0.017840677089763776,
          0.007876248723485921,
          -0.08522407065471226,
          -0.2925782348663211,
          0.44480642928515873,
          -0.3068554184019706,
          -0.3688690559276504,
          -0.31147238949194855,
          -0.23928906442172052,
          -0.16520993890512364,
          -0.12396320390645334,
          -0.12994242439596768,
          -0.261279700560903,
          -0.28304833199742546,
          -0.23036715059510152,
          -0.2983905024023438,
          -0.307750585858242,
          -0.08892845964815614,
          -0.03268557279480821,
          0.5899728905796975,
          0.4123910810223211,
          -0.13805764530025924,
          -0.3275401133017945,
          -0.032508801888285734,
          -0.1115573696329591,
          -0.14527393676694308,
          -0.29647272576236294,
          -0.2655321571014129,
          -0.18766999677607113,
          0.0846756162806676,
          -0.15070260378487915,
          -0.30873088350927086,
          -0.2883802203120172,
          -0.31453654326751174,
          -0.11992724511469005,
          -0.17894952826923066,
          -0.10916444979607715,
          -0.15957216221632395,
          -0.2010642026587369,
          -0.31892223021102145,
          -0.30684596936098896,
          -0.16689533323914266,
          -0.15512988831465602,
          -0.18799618188997474,
          -0.05376964874736438,
          -0.2523628765337822,
          -0.2433686860610532,
          -0.3178614484099592,
          -0.1402641296262705,
          3.127854077506799,
          -0.21199862496790173,
          -0.31855830130896834,
          -0.30086076376168824,
          -0.3000746985235193,
          -0.2701845462539844,
          -0.10947624868415376,
          -0.29304318211669556,
          -0.44586742025844195,
          -0.309118704178182,
          -0.2856776942289394,
          -0.13001366007549842,
          -0.2665276379608532,
          -0.2906982082929078,
          0.49113296875705176,
          0.3940673787274757,
          0.03410094980004098,
          -0.12581369774060122,
          -0.44084734018263366,
          -0.013075570193604136,
          -0.1541368527544149,
          -0.16379639241029817,
          -0.2539865802933045,
          2.0852856969824125,
          -0.36078086083100147,
          -0.20337530583401733,
          1.1834396712985347,
          -0.22829676636148913,
          -0.2741549617773286,
          -0.2793128528571175,
          -0.21228163143814438,
          -0.3004341516544756,
          -0.3694319107146468,
          -0.1268214312846009,
          -0.0860215519713384,
          -0.23275575141170113,
          -0.15048695215335392,
          -0.11788860257052625,
          -0.47751921530443486,
          -1.3814268425341214,
          -0.30795184038884316,
          2.285055930965343,
          -0.23448545412651786,
          -0.29274131659228303,
          -0.12071083322569184,
          -0.2706828562981044,
          -0.023255788461217265,
          0.10400357306082528,
          -0.19426791358120957,
          -0.30602462214892223,
          -0.11258801512553981,
          -0.2533469933576638,
          -0.18628377543926483,
          -0.25217006295672245,
          -0.10805072488162071,
          -0.3328438873078265,
          -0.2511915221625494,
          -0.23715348670669692,
          -0.7389201953658525,
          0.05099496742008688,
          -0.2530423608105661,
          -0.36728095999272015,
          -0.683567437860963,
          -0.674469957278489,
          -0.23769667118907092,
          -0.2656540094392862,
          -0.2119779223958472,
          -0.18326631730325477,
          -0.1850551794843717,
          -0.364542513552027,
          -0.18832329300641504,
          -0.3620459722916189,
          0.38543256982030427,
          -0.23777452201547195,
          -0.2750486101829181,
          -0.16380831306991978,
          -0.17336004289931028,
          0.2112621887078794,
          -0.24739593438050791,
          -0.2013797444470849,
          -0.3259753545092997,
          -0.30628050334121193,
          -0.21836589462861397,
          3.1731241956292293,
          0.12526294252658093,
          -0.15221198176423223,
          -0.14148423617124511,
          -0.3582170736297626,
          -0.20265663974496897,
          -0.6804277382853099,
          -0.1384197343751553,
          -0.2192676933287152,
          -0.0658626778748174,
          -0.1304777147705169,
          -0.1267923524462659,
          -0.12076561106703518,
          0.09092549340513226,
          -0.19061275247776976,
          -0.19984930081370267,
          -0.18853897181775112,
          0.2795230138115476,
          -0.21612558022545175,
          -0.34017239177786174,
          -0.27651375384795807,
          -0.13119761221128132,
          -0.328130807272457,
          -0.17276271441872093,
          -0.1558298855773783,
          0.03594827431907594,
          -0.2394812253853755,
          4.47144456648651,
          0.03372031112134126,
          -0.16251411301097976,
          -0.49411140355673455,
          0.8412910177742305,
          -0.36207324437546534,
          -0.3046686663814504,
          0.18036193658194472,
          3.225334874106709,
          -0.12258711219360313,
          3.226487951666571,
          -0.1425108830693997,
          0.06263243928550255,
          -0.3269923935295529,
          -0.250631305102574,
          2.307516837078604,
          -0.13207449587393855,
          -0.282091846573541,
          -0.23516022480099574,
          -0.13302118787408002
         ],
         "y": [
          -0.1298604043232244,
          -0.14059688434342438,
          0.08411589892067636,
          -0.264597863390917,
          -0.2613807950073295,
          -0.2898354183415612,
          0.01780275430538211,
          -0.3146091040838019,
          -0.24201390752198534,
          -0.32625131387547873,
          0.28727568934088066,
          -0.3148185417242795,
          -0.060096412122445424,
          -0.04865346036307047,
          -0.2967554735544638,
          0.1376704999581893,
          -0.12294334211761314,
          -0.3247768135309974,
          -0.13703426685264145,
          -0.13150365285774174,
          -0.2489801610849535,
          -0.3241641388863418,
          -0.2840306268872507,
          -0.3092724434125933,
          -0.21437173087792652,
          -0.13098596540695992,
          -0.13333392255981502,
          -0.21137756303026214,
          -0.32519440068693173,
          -0.131773147375609,
          -0.3257226490300344,
          -0.11918140986253854,
          -0.3238019385643264,
          -0.14039628618834932,
          -0.061442463661231066,
          0.021739271535177896,
          -0.2871174774490882,
          -0.32808047427184783,
          -0.34236927797464334,
          -0.32573648187474624,
          -0.3263206103373447,
          -0.32511756930673774,
          0.09934217456822148,
          -0.16189352823076347,
          -0.32750645222056235,
          -0.20775281773156526,
          -0.32810013276223354,
          -0.35357264125879373,
          -0.3282251304412971,
          -0.11239510180801383,
          0.02579642559940988,
          -0.4579652814682684,
          0.017794045078803042,
          -0.2646010584379234,
          -0.32643472019289205,
          -0.23302848848072819,
          -0.32578498679767537,
          -0.061518960470670424,
          -0.2991633954246429,
          -0.16089459729388436,
          -0.104099780387436,
          -0.23058378151340478,
          -0.09662528414791846,
          -0.06195527682446605,
          0.02019522139913402,
          -0.32728186927494257,
          -0.2645946394455771,
          -0.32707420459072917,
          0.020246681591584204,
          -0.008866711872190736,
          -0.09629032916329058,
          -0.1350926589031971,
          -0.16048194627178053,
          -0.2967507609147579,
          -0.3091666289455281,
          -0.32619682176171155,
          0.027441160276940633,
          0.051492542344092125,
          -0.2845236775605809,
          -0.0009657978810712928,
          -0.2844376939119253,
          -0.12138706028305782,
          0.006712383161043603,
          -0.26697812520495695,
          -0.18656570244068071,
          -0.28617845179048623,
          -0.1480008204563758,
          -0.13792212433820633,
          -0.0872001919447676,
          -0.3446708236569819,
          -0.16840276589325212,
          -0.1894592689299215,
          -0.32640254847765826,
          0.053173505680675706,
          -0.04469793140210216,
          -0.25716021118994215,
          0.02022855775909087,
          -0.11926490312032835,
          -0.5274235077846059,
          -0.30200909479752797,
          0.3649132642705342,
          0.08899017444505128,
          -0.32449472314297295,
          -0.09399643178334964,
          -0.05247114569171142,
          -0.3271429546891445,
          -0.08261195678853503,
          -0.32341205489089925,
          0.12830139339919952,
          -0.33254339734271793,
          -0.055292711284083154,
          -0.29302491801280134,
          -0.13086310638219073,
          0.047753393308813015,
          -0.24713101273949908,
          -0.21502819614440163,
          0.05255720142702634,
          -0.22015467770831704,
          -0.18873429062403999,
          -0.3240344527435254,
          -0.10580582452194771,
          -0.3285785446176358,
          0.13300664856129693,
          -0.3263924293216933,
          -0.2645923420280439,
          -0.36595504592682315,
          -0.020786267945320017,
          -0.31624797699823065,
          -0.14515281638651462,
          -0.3356916780337279,
          -0.28245673213870165,
          -0.18312042477990179,
          -0.1866887892553834,
          0.017283271050233282,
          -0.3254779861818029,
          -0.3092185625956595,
          -0.03897334048780373,
          -0.34552013847426655,
          0.11060342149125302,
          -0.36419699255067295,
          -0.08698898642336753,
          0.20445203201765336,
          -0.14400432299528218,
          -0.2646009656107144,
          -0.14344495955856534,
          -0.23891604650279957,
          0.38574396902742253,
          -0.060098817702681454,
          0.030614334522248966,
          -0.2898422858563413,
          -0.1476498424132748,
          -0.31925890119968603,
          -0.04193960679770089,
          -0.17191907700916553,
          -0.05939507640905732,
          -0.17974041826196077,
          -0.20837109343284602,
          -0.3275009467925292,
          -0.16871473603063422,
          0.055269216472146845,
          -0.11226152455242361,
          -0.09381382166242469,
          -0.002744030690946218,
          0.12439522952495187,
          -0.23301560036677954,
          -0.11993750472436503,
          0.056185111733446216,
          -0.09285669235622243,
          -0.09604808539717131,
          0.04091032326954398,
          0.05260156721744858,
          -0.325708291944655,
          0.2682142153757414,
          -0.15886863702741802,
          -0.1325675387969779,
          -0.08725047407340572,
          0.09244377372579193,
          -0.11992510093954128,
          0.1251982292799188,
          -0.17749803398205125,
          0.06956424394666237,
          -0.058145117518027416,
          -0.20169625283954484,
          -0.1373654893790596,
          -0.2862763656668697,
          0.014585720837982753,
          -0.16953739199999646,
          -0.21965549245327112,
          -0.13086358333745993,
          -0.23428484868627944,
          -0.08275585140856719,
          -0.2860396488807136,
          -0.21671471234624445,
          -0.2410514713327163,
          -0.062190296314810684,
          0.2350976608333501,
          -0.1308954947335374,
          0.05227299266193471,
          -0.37284034950935846,
          0.23937317394686075,
          0.20263901235069728,
          0.05073370451835627,
          0.23545496322040757,
          -0.032463253176644995,
          -0.34579731811146797,
          -0.3262495259739734,
          -0.4112657566319533,
          -0.0037670231733407567,
          -0.32411861488750726,
          -0.12136392655706725,
          -0.014992332984529013,
          0.05189393487354707,
          0.18966210165507788,
          -0.13365276790028255,
          -0.17191245976018119,
          -0.1387519689398097,
          0.12439522952495187,
          0.00027203567879844964,
          -0.07363674936505499,
          -0.12800273700672776,
          0.5530781697483315,
          -0.13591893170729558,
          -0.1356516703331188,
          -0.0187576185542007,
          -0.2678610657097629,
          -0.09395456486198915,
          -0.10805340416764556,
          -0.13474930196103174,
          -0.13013405007503828,
          0.08291861340322135,
          -0.02527948715097298,
          -0.3278601101109779,
          -0.2011204799536659,
          -0.3381588157919523,
          -0.10341759769606867,
          -0.13736744009898627,
          0.05054126196252081,
          -0.10580604378387688,
          -0.1434385504698442,
          -0.13789330645419182,
          -0.4581412851595402,
          -0.02031883782904941,
          -0.04133217023400034,
          -0.3297425085607199,
          0.2010175007246418,
          -0.1362840531528619,
          -0.4116354153822674,
          -0.12012577011962612,
          -0.32667945015978933,
          -0.30479849550929417,
          -0.05734543835727449,
          0.11331450783363063,
          0.022914150688104807,
          -0.028753201807823228,
          0.03780500165175534,
          -0.2982086378031389,
          0.23788956819101537,
          0.022905705221970035,
          -0.16915397277547112,
          0.16362866424655637,
          0.006560571340288124,
          -0.1326288591883445,
          -0.13712417155823023,
          -0.11911587961818833,
          -0.020906618931683135,
          -0.015919759620319687,
          -0.3215054515339155,
          -0.11006816204571501,
          -0.2851679632433953,
          0.11637265351372514,
          -0.1656163957555311,
          0.1422889096744511,
          -0.016794177211899845,
          -0.32639294438357735,
          0.15138876911754015,
          -0.3493946694875345,
          -0.11886876910561556,
          -0.23487283787236288,
          -0.5027344777804891,
          -0.204255991964896,
          -0.2582006640523356,
          -0.004271125145637009,
          -0.10432291608628079,
          -0.013272358803705692,
          0.055737633300150205,
          -0.33015592395707694,
          0.03727675515956752,
          -0.32682142999171043,
          -0.12696300692581164,
          -0.14085225044520389,
          -0.16473375237293691,
          -0.20920449326901744,
          0.12194698684618097,
          -0.30222541252842655,
          -0.5688355580430143,
          -0.4061414384609208,
          -0.0595929597158026,
          -0.13677277793582898,
          0.055696684548588324,
          -0.26459793251677954,
          0.05402238917827852,
          -0.05946783710110253,
          9.456461260680015,
          -0.2911406161493221,
          0.23777267205265518,
          -0.4025698094486308,
          -0.23301876617328496,
          -0.28978935895458086,
          -0.2143972827103738,
          -0.21439836362657733,
          -0.14104476944348193,
          -0.13376926162265854,
          -0.25270166120999193,
          0.29387741171932075,
          -0.40695235381643613,
          0.010489606143786924,
          -0.3760412846101187,
          0.0015977401317908908,
          -0.14170079252161663,
          -0.13477561593567972,
          -0.15884145701739588,
          0.05101621378068591,
          -0.32626123525885775,
          -0.20657016884256674,
          -0.05507254680745878,
          -0.03088807871428868,
          -0.08712130175179988,
          -0.27823015696041586,
          -0.1695369552241227,
          0.01756303036600127,
          -0.2144653260611927,
          -0.033777384109306766,
          -0.13549266695416012,
          -0.029979616622151026,
          -0.0705964800520615,
          -0.22133938986459784,
          -0.3445701148183116,
          -0.20028573119367551,
          0.016092189185568255,
          -0.2926473453566574,
          -0.024200613454748644,
          0.03944917549374235,
          -0.26019588372667884,
          -0.1116011319762915,
          -0.2785785847376147,
          -0.2274182103306435,
          -0.32764208903578834,
          0.09856862188631649,
          0.06701189025768442,
          -0.14060754076423806,
          -0.454779509167321,
          -0.16055735179679317,
          -0.18183006667744003,
          -0.33138885129179935,
          0.0695343257853525,
          -0.32714416247577516,
          -0.14224837694230788,
          -0.2288000191939402,
          0.06049063108897296,
          -0.1629536047582375,
          -0.32481043672521664,
          -0.132762118339458,
          -0.1337182169057767,
          -0.011185217894828755,
          -0.2345791135586152,
          -0.28593259834611184,
          -0.4165675579281872,
          0.13583285339583892,
          -0.08476264239139833,
          -0.1394314612911922,
          -0.3322462338216658,
          -0.10408427723240488,
          -0.1324033987863424,
          -0.2467452913658955,
          -0.33402423325470515,
          -0.1817978331481443,
          -0.1470122419326343,
          0.2008072160676092,
          17.61704957443405,
          -0.2532067320825958,
          -0.34987119304628256,
          -0.12074485472606486,
          -0.33663389154076234,
          0.007288963028926135,
          0.06367279817912229,
          -0.057956233062849714,
          0.05064909193371248,
          -0.346217765230515,
          -0.21752154987708766,
          -0.2967537578036984,
          -0.17088719531404273,
          0.05858529813164724,
          -0.09549135389454091,
          -0.12883487463358742,
          -0.383072591879899,
          -0.05538632602424213,
          -0.32554417846925615,
          -0.035480865697507726,
          0.2334265941598468,
          -0.11383535766772501,
          -0.23708354473745924,
          -0.10431954387667756,
          0.01745286889724401,
          0.13867991226464405,
          -0.2492292410984151,
          -0.10320055947663774,
          -0.13458910207364977,
          -0.19767478917537964,
          -0.3415318883506191,
          0.04199447899382758,
          -0.18411200786833468,
          -0.060166248254171925,
          -0.3244125362989492,
          -0.2542009865695788,
          -0.36094933137648866,
          -0.3168322660040361,
          -0.15141890876125294,
          -0.06333829113880297,
          -0.21267700544596319,
          -0.011504624500709234,
          -0.21800657706552917,
          -0.16257868555092422,
          0.18112280469575448,
          -0.46122144606044885,
          0.12756790800586007,
          -0.021072242376362373,
          -0.04665623387453379,
          -0.3610181479434836,
          -0.2961876448539368,
          -0.18667780543894197,
          -0.1699785931584117,
          0.003281182243087052,
          0.05756390299051392,
          -0.060072470109229364,
          0.04492601421553139,
          0.08560694639301569,
          -0.3280954587140696,
          -0.11912083439914033,
          -0.45215502033446797,
          0.6346575826215172,
          -0.06524682452319334,
          -0.5580876967023883,
          0.0897415301142086,
          0.06954887860365751,
          -0.06351108368772641,
          0.1187111111903189,
          -0.25372595279963933,
          -0.24467949023810528,
          0.07120003239090117,
          -0.119928776723098,
          -0.13874200144236196,
          0.2095865631645551,
          -0.203771753904397,
          0.0009414678951225678,
          -0.41758858671680565,
          0.18124529879338078,
          -0.30716156002750417,
          -0.26459792940981275,
          0.6738026923482587,
          0.010103562160124745,
          -0.2555242174132427,
          0.01364541854763466,
          -0.01193638444801515,
          -0.010227667365880294,
          -0.14682550616660167,
          -0.30335983175870823,
          -0.2395554204988485,
          -0.16954971436096639,
          -0.40953541235539287,
          0.05620410574472316,
          -0.40836274713457776,
          0.1291145551449713,
          -0.18507210092277535,
          -0.14502873055202375,
          0.12598935076141662,
          -0.1625776217947459,
          0.06987754889966898,
          -0.16507900943990586,
          0.013995967186192209,
          -0.2926474228869474,
          -0.06380215173909523,
          -0.24208694220746543,
          -0.003772512802027297,
          -0.3090886468186147,
          -0.16123383122118373,
          -0.3235317252357514,
          -0.021029834337985304,
          -0.2340507656334792,
          -0.10695550060133874,
          -0.012844635597400842,
          -0.1348132515661245,
          -0.0890921920933995,
          -0.1308713546050093,
          0.006242611763827559,
          -0.24711855804639193,
          -0.16491619173038063,
          -0.12009241729406422,
          -0.009537868287058483,
          -0.26697817727376466,
          -0.08995450467676082,
          -0.3127011907174156,
          -0.06658379752399876,
          -0.21443951282413468,
          0.050119994730782665,
          -0.16576090139569485,
          0.23333651477249853,
          -0.25605364736178166,
          -0.32828177058009483,
          0.21513386485824712,
          -0.1335003718986537,
          -0.4122047467007231,
          -0.07122003026291998,
          -0.18118025731953505,
          -0.007203761067354509,
          -0.538581517928375,
          -0.26002534292193324,
          0.12571942848307982,
          -0.23526308152737055,
          -0.3208556537779902,
          -0.34227326425595095,
          -0.3209585502130195,
          -0.03967874110557111,
          0.7350090008655319,
          0.2367173056627534,
          0.15330946164861928,
          -0.32354944848765443,
          -0.18194238620464118,
          -0.25027242455165016,
          -0.3262512264573057,
          -0.07090335601898613
         ],
         "z": [
          -0.046894478786670815,
          -0.049814060438378174,
          -0.004367221173875124,
          -0.03629394577169743,
          -0.04260215574962579,
          -0.03454379635485618,
          -0.08257807378444346,
          0.08198064711423546,
          -0.06012397610428574,
          0.004553887437293483,
          -0.626390801812498,
          -0.05128789140598961,
          -0.0619544769749092,
          -0.032331474387463296,
          -0.03854663448613889,
          -0.006173296601458585,
          -0.050805141696352966,
          -0.029803889790567806,
          -0.05242811956657222,
          -0.025750717727927405,
          -0.027008790318944237,
          -0.02853029979585747,
          -0.02715689179102214,
          -0.03146719717952815,
          0.018859593338163973,
          -0.025359175163202453,
          -0.03647519880371449,
          0.02630130891115358,
          -0.024415598292320366,
          -0.052972514074464745,
          -0.02779628220417019,
          -0.04977435364122264,
          -0.031857692140277234,
          0.013897726818195892,
          0.07372391374035127,
          0.09924633442363039,
          -0.09507964145256466,
          -0.04662543364772701,
          -0.04714034593804632,
          -0.02780674440001363,
          -0.019334067985342044,
          -0.02848339493176817,
          0.014087243353281124,
          0.008372738143651704,
          -0.02555474496784544,
          -0.03143703853410405,
          -0.02790637868536836,
          -0.00953943088400672,
          -0.0318739991532276,
          -0.04482450872150845,
          -0.04461116017033131,
          -0.14260189544017166,
          -0.08258466083402535,
          -0.036296362281693764,
          -0.0272645443654856,
          -0.03245569051155609,
          -0.028919209821230453,
          -0.04685575560382319,
          -0.037963648514743466,
          0.08257160543914938,
          -0.04124540828765097,
          -0.021734659441222725,
          -0.05708734808515337,
          -0.04775614586822015,
          0.009471023745115298,
          -0.03446125471977379,
          -0.036291507405025535,
          -0.0272777435521717,
          0.009509944633969404,
          -0.09537816374117342,
          -0.059492800453311415,
          -0.049544256437836526,
          -0.04766787122961769,
          -0.03854307017521296,
          -0.031387166520571226,
          -0.022781655867329813,
          -0.04336719794377953,
          -0.08378314501084194,
          -0.02809780287083628,
          -0.0014739443704306116,
          -0.029169508160009752,
          -0.07604431947989106,
          -0.05262645534038328,
          -0.03569003966923791,
          -0.011607641274736605,
          -0.035200307354183426,
          -0.031082316219330816,
          -0.04634276550308257,
          0.006287389184555389,
          -0.0009682056252787306,
          0.005655022417523141,
          -0.13915224254894426,
          -0.027240211931166162,
          -0.09121857287528148,
          -0.033079939219927336,
          -0.010167863530219869,
          0.009496237035212114,
          -0.025742860409483776,
          -0.1880856901865828,
          -0.0050480543125189644,
          0.43340262397257223,
          -0.03442471842646773,
          -0.03131366850605338,
          -0.05020531621590064,
          0.035529013992105084,
          -0.028548302598293777,
          -0.024993522039366927,
          -0.030196642665040883,
          0.025659581572274718,
          -0.031299026064019235,
          -0.03725585291730548,
          -0.03277995741111733,
          -0.025266253193421177,
          0.0005115736879525191,
          -0.01369598092305267,
          0.00854480230128713,
          -0.06304573060800854,
          -0.0208062251416583,
          0.04878866084152278,
          -0.02968818269322195,
          -0.04498922727304771,
          -0.03579311541866374,
          0.13627910974173346,
          -0.02902816045282706,
          -0.03628976979915575,
          -0.05451841011496346,
          -0.04362198791231587,
          -0.3321773201096529,
          -0.06716527849183247,
          -0.09078618761920701,
          -0.027370513624131478,
          0.07325593401311216,
          -0.05691004908436448,
          -0.046967355008331706,
          -0.020902267629067592,
          -0.03142644549968759,
          0.006541742928177827,
          -0.10257491049993896,
          -0.013664383727885027,
          -0.014411649270866907,
          -0.02340069291118079,
          0.025689008611786572,
          -0.07200030691989169,
          -0.03629629207368804,
          -0.14014153546179464,
          -0.030403657573595436,
          0.5966161906132473,
          -0.061956296387479175,
          -0.10515820898769171,
          -0.03454899046250893,
          -0.03414448042286627,
          -0.05775783161164024,
          -0.020974972518862257,
          -0.05048080736037087,
          -0.05136220301148583,
          -0.05288579487797572,
          0.012279202416420512,
          -0.030165522408029364,
          -0.26676719738782867,
          -0.10017453464597516,
          -0.09524700588952224,
          -0.05159974170122868,
          0.13608294554491374,
          -0.0056389276604024595,
          -0.03244594284395818,
          -0.07135311009895833,
          -0.0918391599187087,
          -0.05991566912816719,
          -0.050854302386095694,
          -0.020483002621357722,
          -0.087396292217644,
          -0.026921944132279087,
          0.042767244425721544,
          -0.030848663497482668,
          -0.048623712229505664,
          0.006249359300738376,
          0.03283271451134058,
          -0.0713437287440215,
          -0.0940836445059363,
          0.148788740158614,
          -0.06680102670340504,
          -0.032437374681085956,
          0.010763634311882897,
          -0.04882013852846305,
          -0.03563486840827391,
          -0.07955243312770059,
          -0.05108363705761779,
          -0.0495916517247596,
          -0.02526661392901379,
          0.010207638640561682,
          -0.025102353861526087,
          -0.033370774293780624,
          -0.5332147303147914,
          -0.036952833110524885,
          -0.04305068731815328,
          0.025011721526257195,
          -0.02529074947613823,
          -0.09505010369128244,
          0.04474339227764667,
          0.03824478893597848,
          0.024569401521229488,
          0.058212550066985065,
          0.037874194306862514,
          -0.024274536536674284,
          -0.10934435366081499,
          0.004555239680890633,
          0.44946278164896986,
          -0.06785349056187195,
          -0.03241993663600188,
          -0.043860730106657767,
          -0.08663208851201572,
          -0.08754009886938328,
          -0.009114927644359987,
          -0.045767912901916986,
          -0.050475802536253785,
          -0.067910449804785,
          -0.0056389276604024595,
          -0.08321919079167876,
          -0.04272786723985575,
          -0.061339863213976754,
          -0.44338393350996796,
          -0.05021983872669721,
          -0.05099584598844552,
          -0.07059437618174612,
          -0.006043137809551076,
          -0.06485182976637215,
          -0.09328944345315021,
          -0.049989704045569426,
          -0.04803491664222075,
          -0.04824102211664404,
          0.07823460273175666,
          -0.021520693341430103,
          -0.0204942906288927,
          -0.08709280044655376,
          -0.037433087435490425,
          -0.048821613916522004,
          -0.091028917830779,
          -0.0449893931074291,
          -0.058422249910587316,
          -0.04908256420980062,
          0.16438333363411944,
          -0.07138685142174725,
          0.4105299785512404,
          -0.019482753181459974,
          0.022889006173691183,
          -0.03146924989031838,
          0.052869768181915744,
          -0.02639395997213131,
          -0.027237576165565047,
          -0.06300821452014996,
          -0.05405400911734469,
          0.5539429421278725,
          -0.012039979984685497,
          0.6081165577969606,
          0.11840355133321871,
          -0.04037398953972829,
          0.03072815073036178,
          -0.012046367544333038,
          -0.015331768353716092,
          -0.005814290633528873,
          -0.05586344878494916,
          -0.05343415210911402,
          -0.050480447524751185,
          -0.02563014945977063,
          -0.04780845016954458,
          -0.07222719911095478,
          -0.03242013952747316,
          -0.03016046105669023,
          -0.037784196167170006,
          -0.010135762553486206,
          -0.006620321332453832,
          -0.031434876879051735,
          -0.05736326809306592,
          -0.02808791865541637,
          0.04413452079438683,
          0.10060216764419314,
          -0.008859005504420057,
          0.03068813018346116,
          0.011154722516449347,
          -0.04025089720395373,
          0.013429187858372488,
          -0.02228769171415413,
          0.00048266349485973927,
          -0.03281923397423597,
          0.06331025458459423,
          -0.02320826877299382,
          -0.014713367871989565,
          -0.03554061197376758,
          -0.0706950163717484,
          -0.0731582735015159,
          -0.03764134081613275,
          0.015250604856186687,
          0.03430242870327216,
          -0.03785377711421518,
          -0.23116712154538144,
          -0.31157905140628267,
          -0.23022536773478577,
          -0.13112040514359488,
          0.06327928381413307,
          -0.03629399805366383,
          -0.09771993578158826,
          -0.06623891969706291,
          3.7428809667719793,
          -0.03119091298592093,
          0.04150130326183686,
          -0.1220103339376144,
          -0.032448337238484455,
          -0.03450896025735901,
          0.018840267719984906,
          0.018839450190601313,
          -0.039863559321622215,
          -0.05211369811067604,
          0.04355127579099836,
          -0.6128990761413701,
          -0.06590102814373101,
          -0.09440276424082387,
          0.0045785544818396405,
          -0.056653515936031996,
          -0.07114592966939368,
          -0.04665226285702402,
          -0.07515496318153456,
          -0.27226989143938923,
          0.0045463835971128975,
          -0.10602211711096983,
          0.008517414449828974,
          -0.04177934534330004,
          -0.07749214145324702,
          0.07294139293084173,
          -0.051083306710908494,
          0.0010759466769783789,
          0.018788804490478782,
          -0.055348706808514905,
          -0.05297574506782146,
          -0.059639557950039127,
          -0.04246285026305383,
          -0.02405446522367847,
          -0.10903265997307043,
          -0.07372386269659059,
          -0.08323031821231194,
          0.19768160272733454,
          -0.05376873148766577,
          -0.008136211524247153,
          -0.07139388595249281,
          -0.0428674224605111,
          0.02328030390697447,
          0.010159163052265332,
          -0.06246215915701529,
          -0.023859809979533374,
          -0.04135901000735064,
          -0.05973015773733208,
          0.16846986291601604,
          -0.034482603646761034,
          -0.025172142567550872,
          -0.029517695882610703,
          -0.06682365470721971,
          -0.27602546289232877,
          -0.06899613765556954,
          -0.05019792575732434,
          -0.04114284731113176,
          -0.03675414153889255,
          -0.029829320022030703,
          -0.059132950992752925,
          -0.044677178204969914,
          -0.06914834796792067,
          -0.01931269246000167,
          -0.033624183956313454,
          0.08190252082394647,
          -0.027656876710875005,
          -0.1276303536874657,
          -0.0707720373423352,
          -0.015294576137989969,
          0.3348165201348641,
          -0.046072738453380516,
          0.012769613143125408,
          -0.03991185326411736,
          0.06801109471496629,
          -0.21778060830872858,
          0.032700805369242074,
          -0.08814322511155331,
          -0.041328450865694234,
          -0.04024672195385267,
          -0.04339250749068835,
          0.12672653412088702,
          -0.08388376993643651,
          -0.06207911602084342,
          -0.055837845867688154,
          -0.0088780383285383,
          -0.10790548066424117,
          0.019348333335902943,
          -0.03854533681231253,
          -0.09497900751684138,
          -0.036458812327721614,
          -0.061196877126303915,
          -0.05223895733842753,
          0.03355798229603786,
          -0.03732665655645609,
          0.01993687427773282,
          -0.055268433685781125,
          0.041941360672922805,
          -0.04949132405590875,
          0.19923547101039255,
          0.00048521399824714653,
          0.0009926282501054693,
          0.012940933287217524,
          0.047621933195633126,
          0.058503784013683516,
          -0.05418355532004701,
          -0.026573169940106924,
          -0.0963532974495966,
          -0.051656212458714774,
          0.13840950500698376,
          -0.04852543435870872,
          0.010016233232722488,
          0.05158485147820609,
          0.009853990741045466,
          -0.004497062911589672,
          -0.06647867395632621,
          -0.05815382963489797,
          0.17676618999980895,
          0.012321710104568062,
          0.01898149270834477,
          -0.04705156583575654,
          -0.0017762349642670868,
          -0.16092281783996973,
          -0.05862957382743665,
          -0.05193627118736082,
          0.31307625209087364,
          0.14386199268096678,
          -0.03288102584693133,
          -0.056901741694155586,
          0.13186251459990125,
          -0.04745276975390363,
          -0.051378538609768244,
          -0.05092346905132258,
          -0.29834854947921047,
          0.00990960716968059,
          -0.02830855595289313,
          -0.02563389690939233,
          0.16323463593590912,
          0.22390394727039173,
          -0.027474388773067914,
          -0.0840292952345358,
          -0.08975504326955566,
          -0.06681264797372737,
          -0.05281472551577828,
          -0.0034330271777174904,
          -0.08679003435874703,
          -0.3177460403788812,
          -0.011740979893513389,
          -0.07134650884950593,
          -0.052018236464408424,
          -0.5744547520048409,
          0.10201185651586331,
          0.5531610013260246,
          0.04829386607112592,
          -0.04536617923948773,
          -0.0006213659463955064,
          -0.036293995703771696,
          -0.003802825215599055,
          -0.0564801440323435,
          0.03411401781670133,
          -0.026462908861140437,
          0.213248840987657,
          0.20519791325382591,
          0.036779842206686876,
          -0.037836342613678284,
          -0.03224381836169625,
          -0.05109295682924906,
          0.062497117192188666,
          -0.05498204122730007,
          0.051104407204533256,
          -0.06467317816010157,
          -0.08782364960541625,
          0.08037455739355243,
          -0.0965407425783544,
          -0.04705076128501528,
          -0.03478674308093692,
          -0.1887220997914452,
          -0.0776901158630606,
          -0.027572544346129928,
          0.051202503122761756,
          0.0536177516021608,
          -0.06785764253289622,
          0.20892257271285136,
          -0.06688405719266714,
          -0.02093921257975426,
          -0.043806204489173065,
          -0.05489750625991589,
          -0.0022452097126843605,
          0.20805961542326326,
          -0.04635992154899662,
          -0.048530656409870095,
          -0.025272491572025674,
          -0.056103931160672464,
          -0.01368656106465231,
          -0.04447944828764749,
          -0.07165042791855372,
          -0.04436316209807608,
          -0.03569007905044083,
          -0.05191314256210831,
          -0.04079769986986647,
          -0.045173218250138814,
          0.06671422028520108,
          -0.09216956495554195,
          -0.04528221791533264,
          0.04436689266246475,
          -0.03970247752239361,
          -0.022440099230746805,
          -0.581655223167417,
          -0.0043990855905471915,
          0.4536474571957354,
          -0.05928275416291044,
          -0.026658926587707507,
          -0.08819903324765643,
          -0.7062675238762002,
          -0.07401541956921044,
          0.02138595162231026,
          -0.15756756883150147,
          0.20927150862345842,
          -0.10467481320593677,
          0.20919368495975635,
          -0.023839595915486747,
          0.9187545261333562,
          0.030591522694105186,
          0.0809211356656717,
          0.01964959169878313,
          -0.04391950920174622,
          0.04819157448228694,
          0.004553953554282168,
          -0.04948127399506052
         ]
        },
        {
         "customdata": [
          [
           "Proof-of-BibleHash"
          ]
         ],
         "hovertemplate": "<b>%{hovertext}</b><br><br>Class=%{marker.color}<br>PC 1=%{x}<br>PC 2=%{y}<br>PC 3=%{z}<br>Algorithm=%{customdata[0]}<extra></extra>",
         "hovertext": [
          "BiblePay"
         ],
         "legendgroup": "1",
         "marker": {
          "color": [
           1
          ],
          "coloraxis": "coloraxis",
          "symbol": "diamond"
         },
         "mode": "markers",
         "name": "1",
         "scene": "scene",
         "showlegend": true,
         "type": "scatter3d",
         "x": [
          1.4273445233904207
         ],
         "y": [
          17.68919153050406
         ],
         "z": [
          33.19131108576183
         ]
        },
        {
         "customdata": [
          [
           "Proof-of-Authority"
          ]
         ],
         "hovertemplate": "<b>%{hovertext}</b><br><br>Class=%{marker.color}<br>PC 1=%{x}<br>PC 2=%{y}<br>PC 3=%{z}<br>Algorithm=%{customdata[0]}<extra></extra>",
         "hovertext": [
          "Poa Network"
         ],
         "legendgroup": "3",
         "marker": {
          "color": [
           3
          ],
          "coloraxis": "coloraxis",
          "symbol": "square"
         },
         "mode": "markers",
         "name": "3",
         "scene": "scene",
         "showlegend": true,
         "type": "scatter3d",
         "x": [
          0.2050777548669355
         ],
         "y": [
          29.195743133437166
         ],
         "z": [
          -21.652485408195233
         ]
        },
        {
         "customdata": [
          [
           "TRC10"
          ]
         ],
         "hovertemplate": "<b>%{hovertext}</b><br><br>Class=%{marker.color}<br>PC 1=%{x}<br>PC 2=%{y}<br>PC 3=%{z}<br>Algorithm=%{customdata[0]}<extra></extra>",
         "hovertext": [
          "BitTorrent"
         ],
         "legendgroup": "2",
         "marker": {
          "color": [
           2
          ],
          "coloraxis": "coloraxis",
          "symbol": "x"
         },
         "mode": "markers",
         "name": "2",
         "scene": "scene",
         "showlegend": true,
         "type": "scatter3d",
         "x": [
          37.02069907556633
         ],
         "y": [
          -3.4520016720436097
         ],
         "z": [
          -2.4886030328166737
         ]
        }
       ],
       "layout": {
        "autosize": true,
        "coloraxis": {
         "colorbar": {
          "title": {
           "text": "Class"
          }
         },
         "colorscale": [
          [
           0,
           "#0d0887"
          ],
          [
           0.1111111111111111,
           "#46039f"
          ],
          [
           0.2222222222222222,
           "#7201a8"
          ],
          [
           0.3333333333333333,
           "#9c179e"
          ],
          [
           0.4444444444444444,
           "#bd3786"
          ],
          [
           0.5555555555555556,
           "#d8576b"
          ],
          [
           0.6666666666666666,
           "#ed7953"
          ],
          [
           0.7777777777777778,
           "#fb9f3a"
          ],
          [
           0.8888888888888888,
           "#fdca26"
          ],
          [
           1,
           "#f0f921"
          ]
         ]
        },
        "legend": {
         "title": {
          "text": "Class"
         },
         "tracegroupgap": 0,
         "x": 0,
         "y": 1
        },
        "margin": {
         "t": 60
        },
        "scene": {
         "aspectmode": "auto",
         "aspectratio": {
          "x": 0.9401606333275524,
          "y": 0.7957228089370879,
          "z": 1.3367067176909364
         },
         "camera": {
          "center": {
           "x": 0,
           "y": 0,
           "z": 0
          },
          "eye": {
           "x": 1.2695837748495482,
           "y": 1.269583774849548,
           "z": 1.269583774849548
          },
          "projection": {
           "type": "perspective"
          },
          "up": {
           "x": 0,
           "y": 0,
           "z": 1
          }
         },
         "domain": {
          "x": [
           0,
           1
          ],
          "y": [
           0,
           1
          ]
         },
         "xaxis": {
          "title": {
           "text": "PC 1"
          },
          "type": "linear"
         },
         "yaxis": {
          "title": {
           "text": "PC 2"
          },
          "type": "linear"
         },
         "zaxis": {
          "title": {
           "text": "PC 3"
          },
          "type": "linear"
         }
        },
        "template": {
         "data": {
          "bar": [
           {
            "error_x": {
             "color": "#2a3f5f"
            },
            "error_y": {
             "color": "#2a3f5f"
            },
            "marker": {
             "line": {
              "color": "#E5ECF6",
              "width": 0.5
             }
            },
            "type": "bar"
           }
          ],
          "barpolar": [
           {
            "marker": {
             "line": {
              "color": "#E5ECF6",
              "width": 0.5
             }
            },
            "type": "barpolar"
           }
          ],
          "carpet": [
           {
            "aaxis": {
             "endlinecolor": "#2a3f5f",
             "gridcolor": "white",
             "linecolor": "white",
             "minorgridcolor": "white",
             "startlinecolor": "#2a3f5f"
            },
            "baxis": {
             "endlinecolor": "#2a3f5f",
             "gridcolor": "white",
             "linecolor": "white",
             "minorgridcolor": "white",
             "startlinecolor": "#2a3f5f"
            },
            "type": "carpet"
           }
          ],
          "choropleth": [
           {
            "colorbar": {
             "outlinewidth": 0,
             "ticks": ""
            },
            "type": "choropleth"
           }
          ],
          "contour": [
           {
            "colorbar": {
             "outlinewidth": 0,
             "ticks": ""
            },
            "colorscale": [
             [
              0,
              "#0d0887"
             ],
             [
              0.1111111111111111,
              "#46039f"
             ],
             [
              0.2222222222222222,
              "#7201a8"
             ],
             [
              0.3333333333333333,
              "#9c179e"
             ],
             [
              0.4444444444444444,
              "#bd3786"
             ],
             [
              0.5555555555555556,
              "#d8576b"
             ],
             [
              0.6666666666666666,
              "#ed7953"
             ],
             [
              0.7777777777777778,
              "#fb9f3a"
             ],
             [
              0.8888888888888888,
              "#fdca26"
             ],
             [
              1,
              "#f0f921"
             ]
            ],
            "type": "contour"
           }
          ],
          "contourcarpet": [
           {
            "colorbar": {
             "outlinewidth": 0,
             "ticks": ""
            },
            "type": "contourcarpet"
           }
          ],
          "heatmap": [
           {
            "colorbar": {
             "outlinewidth": 0,
             "ticks": ""
            },
            "colorscale": [
             [
              0,
              "#0d0887"
             ],
             [
              0.1111111111111111,
              "#46039f"
             ],
             [
              0.2222222222222222,
              "#7201a8"
             ],
             [
              0.3333333333333333,
              "#9c179e"
             ],
             [
              0.4444444444444444,
              "#bd3786"
             ],
             [
              0.5555555555555556,
              "#d8576b"
             ],
             [
              0.6666666666666666,
              "#ed7953"
             ],
             [
              0.7777777777777778,
              "#fb9f3a"
             ],
             [
              0.8888888888888888,
              "#fdca26"
             ],
             [
              1,
              "#f0f921"
             ]
            ],
            "type": "heatmap"
           }
          ],
          "heatmapgl": [
           {
            "colorbar": {
             "outlinewidth": 0,
             "ticks": ""
            },
            "colorscale": [
             [
              0,
              "#0d0887"
             ],
             [
              0.1111111111111111,
              "#46039f"
             ],
             [
              0.2222222222222222,
              "#7201a8"
             ],
             [
              0.3333333333333333,
              "#9c179e"
             ],
             [
              0.4444444444444444,
              "#bd3786"
             ],
             [
              0.5555555555555556,
              "#d8576b"
             ],
             [
              0.6666666666666666,
              "#ed7953"
             ],
             [
              0.7777777777777778,
              "#fb9f3a"
             ],
             [
              0.8888888888888888,
              "#fdca26"
             ],
             [
              1,
              "#f0f921"
             ]
            ],
            "type": "heatmapgl"
           }
          ],
          "histogram": [
           {
            "marker": {
             "colorbar": {
              "outlinewidth": 0,
              "ticks": ""
             }
            },
            "type": "histogram"
           }
          ],
          "histogram2d": [
           {
            "colorbar": {
             "outlinewidth": 0,
             "ticks": ""
            },
            "colorscale": [
             [
              0,
              "#0d0887"
             ],
             [
              0.1111111111111111,
              "#46039f"
             ],
             [
              0.2222222222222222,
              "#7201a8"
             ],
             [
              0.3333333333333333,
              "#9c179e"
             ],
             [
              0.4444444444444444,
              "#bd3786"
             ],
             [
              0.5555555555555556,
              "#d8576b"
             ],
             [
              0.6666666666666666,
              "#ed7953"
             ],
             [
              0.7777777777777778,
              "#fb9f3a"
             ],
             [
              0.8888888888888888,
              "#fdca26"
             ],
             [
              1,
              "#f0f921"
             ]
            ],
            "type": "histogram2d"
           }
          ],
          "histogram2dcontour": [
           {
            "colorbar": {
             "outlinewidth": 0,
             "ticks": ""
            },
            "colorscale": [
             [
              0,
              "#0d0887"
             ],
             [
              0.1111111111111111,
              "#46039f"
             ],
             [
              0.2222222222222222,
              "#7201a8"
             ],
             [
              0.3333333333333333,
              "#9c179e"
             ],
             [
              0.4444444444444444,
              "#bd3786"
             ],
             [
              0.5555555555555556,
              "#d8576b"
             ],
             [
              0.6666666666666666,
              "#ed7953"
             ],
             [
              0.7777777777777778,
              "#fb9f3a"
             ],
             [
              0.8888888888888888,
              "#fdca26"
             ],
             [
              1,
              "#f0f921"
             ]
            ],
            "type": "histogram2dcontour"
           }
          ],
          "mesh3d": [
           {
            "colorbar": {
             "outlinewidth": 0,
             "ticks": ""
            },
            "type": "mesh3d"
           }
          ],
          "parcoords": [
           {
            "line": {
             "colorbar": {
              "outlinewidth": 0,
              "ticks": ""
             }
            },
            "type": "parcoords"
           }
          ],
          "pie": [
           {
            "automargin": true,
            "type": "pie"
           }
          ],
          "scatter": [
           {
            "marker": {
             "colorbar": {
              "outlinewidth": 0,
              "ticks": ""
             }
            },
            "type": "scatter"
           }
          ],
          "scatter3d": [
           {
            "line": {
             "colorbar": {
              "outlinewidth": 0,
              "ticks": ""
             }
            },
            "marker": {
             "colorbar": {
              "outlinewidth": 0,
              "ticks": ""
             }
            },
            "type": "scatter3d"
           }
          ],
          "scattercarpet": [
           {
            "marker": {
             "colorbar": {
              "outlinewidth": 0,
              "ticks": ""
             }
            },
            "type": "scattercarpet"
           }
          ],
          "scattergeo": [
           {
            "marker": {
             "colorbar": {
              "outlinewidth": 0,
              "ticks": ""
             }
            },
            "type": "scattergeo"
           }
          ],
          "scattergl": [
           {
            "marker": {
             "colorbar": {
              "outlinewidth": 0,
              "ticks": ""
             }
            },
            "type": "scattergl"
           }
          ],
          "scattermapbox": [
           {
            "marker": {
             "colorbar": {
              "outlinewidth": 0,
              "ticks": ""
             }
            },
            "type": "scattermapbox"
           }
          ],
          "scatterpolar": [
           {
            "marker": {
             "colorbar": {
              "outlinewidth": 0,
              "ticks": ""
             }
            },
            "type": "scatterpolar"
           }
          ],
          "scatterpolargl": [
           {
            "marker": {
             "colorbar": {
              "outlinewidth": 0,
              "ticks": ""
             }
            },
            "type": "scatterpolargl"
           }
          ],
          "scatterternary": [
           {
            "marker": {
             "colorbar": {
              "outlinewidth": 0,
              "ticks": ""
             }
            },
            "type": "scatterternary"
           }
          ],
          "surface": [
           {
            "colorbar": {
             "outlinewidth": 0,
             "ticks": ""
            },
            "colorscale": [
             [
              0,
              "#0d0887"
             ],
             [
              0.1111111111111111,
              "#46039f"
             ],
             [
              0.2222222222222222,
              "#7201a8"
             ],
             [
              0.3333333333333333,
              "#9c179e"
             ],
             [
              0.4444444444444444,
              "#bd3786"
             ],
             [
              0.5555555555555556,
              "#d8576b"
             ],
             [
              0.6666666666666666,
              "#ed7953"
             ],
             [
              0.7777777777777778,
              "#fb9f3a"
             ],
             [
              0.8888888888888888,
              "#fdca26"
             ],
             [
              1,
              "#f0f921"
             ]
            ],
            "type": "surface"
           }
          ],
          "table": [
           {
            "cells": {
             "fill": {
              "color": "#EBF0F8"
             },
             "line": {
              "color": "white"
             }
            },
            "header": {
             "fill": {
              "color": "#C8D4E3"
             },
             "line": {
              "color": "white"
             }
            },
            "type": "table"
           }
          ]
         },
         "layout": {
          "annotationdefaults": {
           "arrowcolor": "#2a3f5f",
           "arrowhead": 0,
           "arrowwidth": 1
          },
          "coloraxis": {
           "colorbar": {
            "outlinewidth": 0,
            "ticks": ""
           }
          },
          "colorscale": {
           "diverging": [
            [
             0,
             "#8e0152"
            ],
            [
             0.1,
             "#c51b7d"
            ],
            [
             0.2,
             "#de77ae"
            ],
            [
             0.3,
             "#f1b6da"
            ],
            [
             0.4,
             "#fde0ef"
            ],
            [
             0.5,
             "#f7f7f7"
            ],
            [
             0.6,
             "#e6f5d0"
            ],
            [
             0.7,
             "#b8e186"
            ],
            [
             0.8,
             "#7fbc41"
            ],
            [
             0.9,
             "#4d9221"
            ],
            [
             1,
             "#276419"
            ]
           ],
           "sequential": [
            [
             0,
             "#0d0887"
            ],
            [
             0.1111111111111111,
             "#46039f"
            ],
            [
             0.2222222222222222,
             "#7201a8"
            ],
            [
             0.3333333333333333,
             "#9c179e"
            ],
            [
             0.4444444444444444,
             "#bd3786"
            ],
            [
             0.5555555555555556,
             "#d8576b"
            ],
            [
             0.6666666666666666,
             "#ed7953"
            ],
            [
             0.7777777777777778,
             "#fb9f3a"
            ],
            [
             0.8888888888888888,
             "#fdca26"
            ],
            [
             1,
             "#f0f921"
            ]
           ],
           "sequentialminus": [
            [
             0,
             "#0d0887"
            ],
            [
             0.1111111111111111,
             "#46039f"
            ],
            [
             0.2222222222222222,
             "#7201a8"
            ],
            [
             0.3333333333333333,
             "#9c179e"
            ],
            [
             0.4444444444444444,
             "#bd3786"
            ],
            [
             0.5555555555555556,
             "#d8576b"
            ],
            [
             0.6666666666666666,
             "#ed7953"
            ],
            [
             0.7777777777777778,
             "#fb9f3a"
            ],
            [
             0.8888888888888888,
             "#fdca26"
            ],
            [
             1,
             "#f0f921"
            ]
           ]
          },
          "colorway": [
           "#636efa",
           "#EF553B",
           "#00cc96",
           "#ab63fa",
           "#FFA15A",
           "#19d3f3",
           "#FF6692",
           "#B6E880",
           "#FF97FF",
           "#FECB52"
          ],
          "font": {
           "color": "#2a3f5f"
          },
          "geo": {
           "bgcolor": "white",
           "lakecolor": "white",
           "landcolor": "#E5ECF6",
           "showlakes": true,
           "showland": true,
           "subunitcolor": "white"
          },
          "hoverlabel": {
           "align": "left"
          },
          "hovermode": "closest",
          "mapbox": {
           "style": "light"
          },
          "paper_bgcolor": "white",
          "plot_bgcolor": "#E5ECF6",
          "polar": {
           "angularaxis": {
            "gridcolor": "white",
            "linecolor": "white",
            "ticks": ""
           },
           "bgcolor": "#E5ECF6",
           "radialaxis": {
            "gridcolor": "white",
            "linecolor": "white",
            "ticks": ""
           }
          },
          "scene": {
           "xaxis": {
            "backgroundcolor": "#E5ECF6",
            "gridcolor": "white",
            "gridwidth": 2,
            "linecolor": "white",
            "showbackground": true,
            "ticks": "",
            "zerolinecolor": "white"
           },
           "yaxis": {
            "backgroundcolor": "#E5ECF6",
            "gridcolor": "white",
            "gridwidth": 2,
            "linecolor": "white",
            "showbackground": true,
            "ticks": "",
            "zerolinecolor": "white"
           },
           "zaxis": {
            "backgroundcolor": "#E5ECF6",
            "gridcolor": "white",
            "gridwidth": 2,
            "linecolor": "white",
            "showbackground": true,
            "ticks": "",
            "zerolinecolor": "white"
           }
          },
          "shapedefaults": {
           "line": {
            "color": "#2a3f5f"
           }
          },
          "ternary": {
           "aaxis": {
            "gridcolor": "white",
            "linecolor": "white",
            "ticks": ""
           },
           "baxis": {
            "gridcolor": "white",
            "linecolor": "white",
            "ticks": ""
           },
           "bgcolor": "#E5ECF6",
           "caxis": {
            "gridcolor": "white",
            "linecolor": "white",
            "ticks": ""
           }
          },
          "title": {
           "x": 0.05
          },
          "xaxis": {
           "automargin": true,
           "gridcolor": "white",
           "linecolor": "white",
           "ticks": "",
           "title": {
            "standoff": 15
           },
           "zerolinecolor": "white",
           "zerolinewidth": 2
          },
          "yaxis": {
           "automargin": true,
           "gridcolor": "white",
           "linecolor": "white",
           "ticks": "",
           "title": {
            "standoff": 15
           },
           "zerolinecolor": "white",
           "zerolinewidth": 2
          }
         }
        }
       }
      },
      "image/png": "[encoded data removed]",
      "text/html": [
       "<div>                            <div id=\"7154e3e3-1b76-47d4-afcd-f1a2b7b6c9a4\" class=\"plotly-graph-div\" style=\"height:525px; width:800px;\"></div>            <script type=\"text/javascript\">                require([\"plotly\"], function(Plotly) {                    window.PLOTLYENV=window.PLOTLYENV || {};                                    if (document.getElementById(\"7154e3e3-1b76-47d4-afcd-f1a2b7b6c9a4\")) {                    Plotly.newPlot(                        \"7154e3e3-1b76-47d4-afcd-f1a2b7b6c9a4\",                        [{\"customdata\": [[\"Scrypt\"], [\"Scrypt\"], [\"X13\"], [\"SHA-256\"], [\"Ethash\"], [\"Scrypt\"], [\"X11\"], [\"CryptoNight-V7\"], [\"Ethash\"], [\"Equihash\"], [\"SHA-512\"], [\"Multiple\"], [\"SHA-256\"], [\"SHA-256\"], [\"Scrypt\"], [\"X15\"], [\"X11\"], [\"Scrypt\"], [\"Scrypt\"], [\"Scrypt\"], [\"Multiple\"], [\"Scrypt\"], [\"SHA-256\"], [\"Scrypt\"], [\"Scrypt\"], [\"Scrypt\"], [\"Quark\"], [\"Groestl\"], [\"Scrypt\"], [\"Scrypt\"], [\"Scrypt\"], [\"Scrypt\"], [\"Scrypt\"], [\"X11\"], [\"Scrypt\"], [\"Groestl\"], [\"Multiple\"], [\"SHA-256\"], [\"Scrypt\"], [\"Scrypt\"], [\"Scrypt\"], [\"Scrypt\"], [\"PoS\"], [\"Scrypt\"], [\"Scrypt\"], [\"NeoScrypt\"], [\"Scrypt\"], [\"Scrypt\"], [\"Scrypt\"], [\"Scrypt\"], [\"X11\"], [\"Scrypt\"], [\"X11\"], [\"SHA-256\"], [\"Scrypt\"], [\"Scrypt\"], [\"Scrypt\"], [\"SHA3\"], [\"Scrypt\"], [\"HybridScryptHash256\"], [\"Scrypt\"], [\"Scrypt\"], [\"SHA-256\"], [\"Scrypt\"], [\"X13\"], [\"Scrypt\"], [\"SHA-256\"], [\"Scrypt\"], [\"X13\"], [\"NeoScrypt\"], [\"Scrypt\"], [\"Scrypt\"], [\"Scrypt\"], [\"Scrypt\"], [\"Scrypt\"], [\"Scrypt\"], [\"X11\"], [\"X11\"], [\"SHA-256\"], [\"Multiple\"], [\"SHA-256\"], [\"PHI1612\"], [\"X11\"], [\"SHA-256\"], [\"SHA-256\"], [\"SHA-256\"], [\"X11\"], [\"Scrypt\"], [\"Scrypt\"], [\"Scrypt\"], [\"Scrypt\"], [\"Lyra2REv2\"], [\"Scrypt\"], [\"X11\"], [\"Multiple\"], [\"SHA-256\"], [\"X13\"], [\"Scrypt\"], [\"CryptoNight\"], [\"CryptoNight\"], [\"Shabal256\"], [\"Counterparty\"], [\"Scrypt\"], [\"SHA-256\"], [\"Groestl\"], [\"Scrypt\"], [\"Scrypt\"], [\"Scrypt\"], [\"X13\"], [\"Scrypt\"], [\"Scrypt\"], [\"Scrypt\"], [\"Scrypt\"], [\"X13\"], [\"Scrypt\"], [\"Stanford Folding\"], [\"X11\"], [\"Multiple\"], [\"QuBit\"], [\"Scrypt\"], [\"Scrypt\"], [\"Scrypt\"], [\"M7 POW\"], [\"Scrypt\"], [\"SHA-256\"], [\"Scrypt\"], [\"X11\"], [\"SHA3\"], [\"X11\"], [\"Lyra2RE\"], [\"SHA-256\"], [\"QUAIT\"], [\"X11\"], [\"X11\"], [\"Scrypt\"], [\"Scrypt\"], [\"Scrypt\"], [\"Ethash\"], [\"X13\"], [\"Blake2b\"], [\"SHA-256\"], [\"X15\"], [\"X11\"], [\"SHA-256\"], [\"BLAKE256\"], [\"Scrypt\"], [\"1GB AES Pattern Search\"], [\"SHA-256\"], [\"X11\"], [\"Scrypt\"], [\"SHA-256\"], [\"SHA-256\"], [\"NIST5\"], [\"Scrypt\"], [\"Scrypt\"], [\"X11\"], [\"Dagger\"], [\"Scrypt\"], [\"X11GOST\"], [\"X11\"], [\"Scrypt\"], [\"SHA-256\"], [\"Scrypt\"], [\"PoS\"], [\"Scrypt\"], [\"X11\"], [\"X11\"], [\"SHA-256\"], [\"SHA-256\"], [\"NIST5\"], [\"X11\"], [\"Scrypt\"], [\"POS 3.0\"], [\"Scrypt\"], [\"Scrypt\"], [\"Scrypt\"], [\"X13\"], [\"X11\"], [\"X11\"], [\"Equihash\"], [\"X11\"], [\"Scrypt\"], [\"CryptoNight\"], [\"SHA-256\"], [\"SHA-256\"], [\"X11\"], [\"Scrypt\"], [\"Multiple\"], [\"Scrypt\"], [\"Scrypt\"], [\"Scrypt\"], [\"SHA-256\"], [\"Scrypt\"], [\"Scrypt\"], [\"SHA-256D\"], [\"PoS\"], [\"Scrypt\"], [\"X11\"], [\"Lyra2Z\"], [\"PoS\"], [\"X13\"], [\"X14\"], [\"PoS\"], [\"SHA-256D\"], [\"Ethash\"], [\"Equihash\"], [\"DPoS\"], [\"X11\"], [\"Scrypt\"], [\"X11\"], [\"X13\"], [\"X11\"], [\"PoS\"], [\"Scrypt\"], [\"Scrypt\"], [\"X11\"], [\"PoS\"], [\"X11\"], [\"SHA-256\"], [\"Scrypt\"], [\"X11\"], [\"Scrypt\"], [\"Scrypt\"], [\"X11\"], [\"CryptoNight\"], [\"Scrypt\"], [\"Scrypt\"], [\"Scrypt\"], [\"Scrypt\"], [\"Quark\"], [\"QuBit\"], [\"Scrypt\"], [\"CryptoNight\"], [\"Lyra2RE\"], [\"Scrypt\"], [\"SHA-256\"], [\"X11\"], [\"Scrypt\"], [\"X11\"], [\"Scrypt\"], [\"CryptoNight-V7\"], [\"Scrypt\"], [\"Scrypt\"], [\"Scrypt\"], [\"X13\"], [\"X11\"], [\"Equihash\"], [\"Scrypt\"], [\"Scrypt\"], [\"Lyra2RE\"], [\"Scrypt\"], [\"Dagger-Hashimoto\"], [\"X11\"], [\"Blake2S\"], [\"X11\"], [\"Scrypt\"], [\"PoS\"], [\"X11\"], [\"NIST5\"], [\"PoS\"], [\"X11\"], [\"Scrypt\"], [\"Scrypt\"], [\"Scrypt\"], [\"SHA-256\"], [\"X11\"], [\"Scrypt\"], [\"Scrypt\"], [\"SHA-256\"], [\"PoS\"], [\"Scrypt\"], [\"X15\"], [\"SHA-256\"], [\"Scrypt\"], [\"POS 3.0\"], [\"CryptoNight-V7\"], [\"536\"], [\"Argon2d\"], [\"Blake2b\"], [\"Cloverhash\"], [\"CryptoNight\"], [\"NIST5\"], [\"X11\"], [\"NIST5\"], [\"Skein\"], [\"Scrypt\"], [\"X13\"], [\"Scrypt\"], [\"X11\"], [\"X11\"], [\"Scrypt\"], [\"CryptoNight\"], [\"X13\"], [\"Time Travel\"], [\"Scrypt\"], [\"Keccak\"], [\"SkunkHash v2 Raptor\"], [\"X11\"], [\"Skein\"], [\"SHA-256\"], [\"X11\"], [\"Scrypt\"], [\"VeChainThor Authority\"], [\"Scrypt\"], [\"PoS\"], [\"Scrypt\"], [\"Scrypt\"], [\"Scrypt\"], [\"Scrypt\"], [\"Scrypt\"], [\"Scrypt\"], [\"Scrypt\"], [\"CryptoNight\"], [\"SHA-512\"], [\"Ouroboros\"], [\"X11\"], [\"Equihash\"], [\"NeoScrypt\"], [\"X11\"], [\"Scrypt\"], [\"NeoScrypt\"], [\"Lyra2REv2\"], [\"Equihash\"], [\"Scrypt\"], [\"SHA-256\"], [\"NIST5\"], [\"PHI1612\"], [\"Dagger\"], [\"Scrypt\"], [\"Quark\"], [\"Scrypt\"], [\"POS 2.0\"], [\"Scrypt\"], [\"SHA-256\"], [\"X11\"], [\"NeoScrypt\"], [\"Ethash\"], [\"NeoScrypt\"], [\"X11\"], [\"DPoS\"], [\"NIST5\"], [\"X13\"], [\"Multiple\"], [\"Scrypt\"], [\"CryptoNight\"], [\"CryptoNight\"], [\"Ethash\"], [\"NIST5\"], [\"Quark\"], [\"X11\"], [\"CryptoNight-V7\"], [\"Scrypt\"], [\"Scrypt\"], [\"Scrypt\"], [\"X11\"], [\"BLAKE256\"], [\"X11\"], [\"NeoScrypt\"], [\"Quark\"], [\"NeoScrypt\"], [\"Scrypt\"], [\"Scrypt\"], [\"Scrypt\"], [\"X11\"], [\"X11\"], [\"SHA-256\"], [\"C11\"], [\"POS 3.0\"], [\"Ethash\"], [\"Scrypt\"], [\"CryptoNight\"], [\"SkunkHash\"], [\"Scrypt\"], [\"CryptoNight\"], [\"Scrypt\"], [\"Dagger\"], [\"Lyra2REv2\"], [\"X13\"], [\"SHA-256 + Hive\"], [\"Scrypt\"], [\"Scrypt\"], [\"X11\"], [\"C11\"], [\"X11\"], [\"XEVAN\"], [\"Scrypt\"], [\"VBFT\"], [\"Ethash\"], [\"CryptoNight\"], [\"Scrypt\"], [\"IMesh\"], [\"NIST5\"], [\"Scrypt\"], [\"Scrypt\"], [\"Equihash\"], [\"Scrypt\"], [\"Lyra2Z\"], [\"Green Protocol\"], [\"PoS\"], [\"Scrypt\"], [\"Semux BFT consensus\"], [\"X11\"], [\"Quark\"], [\"PoS\"], [\"CryptoNight\"], [\"X16R\"], [\"Scrypt\"], [\"NIST5\"], [\"Lyra2RE\"], [\"XEVAN\"], [\"Tribus\"], [\"Scrypt\"], [\"Lyra2Z\"], [\"CryptoNight\"], [\"CryptoNight Heavy\"], [\"CryptoNight\"], [\"Scrypt\"], [\"Scrypt\"], [\"Jump Consistent Hash\"], [\"SHA-256D\"], [\"CryptoNight\"], [\"Scrypt\"], [\"X15\"], [\"Scrypt\"], [\"Quark\"], [\"SHA-256\"], [\"DPoS\"], [\"X16R\"], [\"HMQ1725\"], [\"X11\"], [\"X16R\"], [\"Quark\"], [\"Quark\"], [\"Scrypt\"], [\"Lyra2REv2\"], [\"Quark\"], [\"Scrypt\"], [\"Scrypt\"], [\"CryptoNight-V7\"], [\"Cryptonight-GPU\"], [\"XEVAN\"], [\"CryptoNight Heavy\"], [\"X11\"], [\"X11\"], [\"Scrypt\"], [\"PoS\"], [\"SHA-256\"], [\"Keccak\"], [\"X11\"], [\"X11\"], [\"Scrypt\"], [\"SHA-512\"], [\"X16R\"], [\"ECC 256K1\"], [\"Equihash\"], [\"XEVAN\"], [\"Lyra2Z\"], [\"SHA-256\"], [\"XEVAN\"], [\"X11\"], [\"CryptoNight\"], [\"Quark\"], [\"Blake\"], [\"Blake\"], [\"Equihash\"], [\"Exosis\"], [\"Scrypt\"], [\"Scrypt\"], [\"Equihash\"], [\"Quark\"], [\"Equihash\"], [\"Quark\"], [\"Scrypt\"], [\"QuBit\"], [\"X11\"], [\"Scrypt\"], [\"XEVAN\"], [\"SHA-256D\"], [\"X11\"], [\"SHA-256\"], [\"X13\"], [\"SHA-256\"], [\"X11\"], [\"DPoS\"], [\"Scrypt\"], [\"Scrypt\"], [\"X11\"], [\"NeoScrypt\"], [\"Scrypt\"], [\"Blake\"], [\"Scrypt\"], [\"SHA-256\"], [\"Scrypt\"], [\"X11\"], [\"Scrypt\"], [\"Scrypt\"], [\"SHA-256\"], [\"X11\"], [\"SHA-256\"], [\"Scrypt\"], [\"Scrypt\"], [\"Scrypt\"], [\"Groestl\"], [\"X11\"], [\"Scrypt\"], [\"PoS\"], [\"Scrypt\"], [\"Scrypt\"], [\"X11\"], [\"SHA-256\"], [\"DPoS\"], [\"Scrypt\"], [\"Scrypt\"], [\"NeoScrypt\"], [\"SHA3-256\"], [\"Multiple\"], [\"X13\"], [\"Equihash+Scrypt\"], [\"DPoS\"], [\"Ethash\"], [\"DPoS\"], [\"SHA-256\"], [\"Leased POS\"], [\"PoS\"], [\"PoS\"], [\"SHA-256\"], [\"Scrypt\"], [\"CryptoNight\"], [\"Equihash\"], [\"Scrypt\"]], \"hovertemplate\": \"<b>%{hovertext}</b><br><br>Class=%{marker.color}<br>PC 1=%{x}<br>PC 2=%{y}<br>PC 3=%{z}<br>Algorithm=%{customdata[0]}<extra></extra>\", \"hovertext\": [\"42 Coin\", \"404Coin\", \"EliteCoin\", \"Bitcoin\", \"Ethereum\", \"Litecoin\", \"Dash\", \"Monero\", \"Ethereum Classic\", \"ZCash\", \"Bitshares\", \"DigiByte\", \"BitcoinDark\", \"PayCoin\", \"ProsperCoin\", \"KoboCoin\", \"Spreadcoin\", \"Argentum\", \"Aurora Coin\", \"BlueCoin\", \"MyriadCoin\", \"MoonCoin\", \"ZetaCoin\", \"SexCoin\", \"Quatloo\", \"EnergyCoin\", \"QuarkCoin\", \"Riecoin\", \"Digitalcoin \", \"BitBar\", \"Catcoin\", \"CryptoBullion\", \"CannaCoin\", \"CryptCoin\", \"CasinoCoin\", \"Diamond\", \"Verge\", \"DevCoin\", \"EarthCoin\", \"E-Gulden\", \"Einsteinium\", \"Emerald\", \"Exclusive Coin\", \"FlutterCoin\", \"Franko\", \"FeatherCoin\", \"GrandCoin\", \"GlobalCoin\", \"GoldCoin\", \"HoboNickels\", \"HyperStake\", \"Infinite Coin\", \"IOCoin\", \"IXcoin\", \"KrugerCoin\", \"LuckyCoin\", \"Litebar \", \"MaxCoin\", \"MegaCoin\", \"MediterraneanCoin\", \"MintCoin\", \"MinCoin\", \"MazaCoin\", \"Nautilus Coin\", \"NavCoin\", \"NobleCoin\", \"Namecoin\", \"NyanCoin\", \"OpalCoin\", \"Orbitcoin\", \"PotCoin\", \"PhoenixCoin\", \"Reddcoin\", \"RonPaulCoin\", \"StableCoin\", \"SmartCoin\", \"SuperCoin\", \"SyncCoin\", \"SysCoin\", \"TeslaCoin\", \"TigerCoin\", \"TittieCoin\", \"TorCoin\", \"TerraCoin\", \"UnbreakableCoin\", \"Unobtanium\", \"UroCoin\", \"UnitaryStatus Dollar\", \"UltraCoin\", \"ViaCoin\", \"VeriCoin\", \"Vertcoin\", \"WorldCoin\", \"X11 Coin\", \"Crypti\", \"JouleCoin\", \"StealthCoin\", \"ZCC Coin\", \"ByteCoin\", \"DigitalNote \", \"BurstCoin\", \"StorjCoin\", \"MonaCoin\", \"Neutron\", \"FairCoin\", \"Gulden\", \"RubyCoin\", \"PesetaCoin\", \"Kore\", \"Wild Beast Coin\", \"Dnotes\", \"Flo\", \"8BIT Coin\", \"Sativa Coin\", \"ArtByte\", \"Folding Coin\", \"Ucoin\", \"Unitus\", \"CypherPunkCoin\", \"OmniCron\", \"Vtorrent\", \"GreenCoin\", \"Cryptonite\", \"MasterCoin\", \"SoonCoin\", \"1Credit\", \"IslaCoin\", \"Nexus\", \"MarsCoin \", \"Crypto\", \"Anarchists Prime\", \"Droidz\", \"BowsCoin\", \"Squall Coin\", \"Song Coin\", \"BitZeny\", \"Diggits\", \"Expanse\", \"Paycon\", \"Siacoin\", \"Emercoin\", \"EverGreenCoin\", \"MindCoin\", \"I0coin\", \"Decred\", \"Revolution VR\", \"HOdlcoin\", \"EDRCoin\", \"Hitcoin\", \"Gamecredits\", \"DubaiCoin\", \"CarpeDiemCoin\", \"PWR Coin\", \"BillaryCoin\", \"GPU Coin\", \"Adzcoin\", \"SoilCoin\", \"YoCoin\", \"SibCoin\", \"EuropeCoin\", \"ZeitCoin\", \"SwingCoin\", \"SafeExchangeCoin\", \"Nebuchadnezzar\", \"Francs\", \"BolivarCoin\", \"Ratecoin\", \"Revenu\", \"Clockcoin\", \"VIP Tokens\", \"BitSend\", \"Omni\", \"Let it Ride\", \"PutinCoin\", \"iBankCoin\", \"Frankywillcoin\", \"MudraCoin\", \"PizzaCoin\", \"Lutetium Coin\", \"Komodo\", \"GoldBlocks\", \"CarterCoin\", \"Karbo\", \"BitTokens\", \"ZayedCoin\", \"MustangCoin\", \"ZoneCoin\", \"Circuits of Value\", \"RootCoin\", \"DopeCoin\", \"BitCurrency\", \"DollarCoin\", \"Swiscoin\", \"Shilling\", \"BuzzCoin\", \"Opair\", \"PesoBit\", \"Halloween Coin\", \"ZCoin\", \"CoffeeCoin\", \"RoyalCoin\", \"GanjaCoin V2\", \"TeamUP\", \"LanaCoin\", \"Elementrem\", \"ZClassic\", \"ARK\", \"InsaneCoin\", \"KiloCoin\", \"ArtexCoin\", \"EmberCoin\", \"XenixCoin\", \"FreeCoin\", \"PLNCoin\", \"AquariusCoin\", \"Kurrent\", \"Creatio\", \"Eternity\", \"Eurocoin\", \"BitcoinFast\", \"Stakenet\", \"BitConnect Coin\", \"MoneyCoin\", \"Enigma\", \"Cannabis Industry Coin\", \"Russiacoin\", \"PandaCoin\", \"GameUnits\", \"GAKHcoin\", \"Allsafe\", \"LiteCreed\", \"OsmiumCoin\", \"Bikercoins\", \"HexxCoin\", \"Klingon Empire Darsek\", \"Internet of People\", \"KushCoin\", \"Printerium\", \"PacCoin\", \"Impeach\", \"Citadel\", \"Zilbercoin\", \"FirstCoin\", \"BeaverCoin\", \"FindCoin\", \"VaultCoin\", \"Zero\", \"OpenChat\", \"Canada eCoin\", \"Zoin\", \"RenosCoin\", \"DubaiCoin\", \"VirtacoinPlus\", \"TajCoin\", \"Impact\", \"EB3coin\", \"Atmos\", \"HappyCoin\", \"Coinonat\", \"MacronCoin\", \"Condensate\", \"Independent Money System\", \"ArgusCoin\", \"LomoCoin\", \"ProCurrency\", \"GoldReserve\", \"BenjiRolls\", \"GrowthCoin\", \"ILCoin\", \"Phreak\", \"Degas Coin\", \"HTML5 Coin\", \"Ultimate Secure Cash\", \"EquiTrader\", \"QTUM\", \"Quantum Resistant Ledger\", \"Espers\", \"Dynamic\", \"Nano\", \"ChanCoin\", \"Dinastycoin\", \"Denarius\", \"DigitalPrice\", \"Virta Unique Coin\", \"Bitcoin Planet\", \"Unify\", \"BritCoin\", \"SocialCoin\", \"ArcticCoin\", \"DAS\", \"Linda\", \"LeviarCoin\", \"DeepOnion\", \"Bitcore\", \"gCn Coin\", \"SmartCash\", \"Signatum\", \"Onix\", \"Cream\", \"Bitcoin Cash\", \"Monoeci\", \"Draftcoin\", \"Vechain\", \"Sojourn Coin\", \"Stakecoin\", \"NewYorkCoin\", \"FrazCoin\", \"Kronecoin\", \"AdCoin\", \"Linx\", \"CoinonatX\", \"Ethereum Dark\", \"Sumokoin\", \"Obsidian\", \"Cardano\", \"Regalcoin\", \"BitcoinZ\", \"TrezarCoin\", \"Elements\", \"TerraNovaCoin\", \"VIVO Coin\", \"Rupee\", \"Bitcoin Gold\", \"WomenCoin\", \"Theresa May Coin\", \"NamoCoin\", \"LUXCoin\", \"Pirl\", \"Xios\", \"Bitcloud 2.0\", \"eBoost\", \"KekCoin\", \"BlackholeCoin\", \"Infinity Economics\", \"Pura\", \"Innova\", \"Ellaism\", \"GoByte\", \"Magnet\", \"Lamden Tau\", \"Electra\", \"Bitcoin Diamond\", \"SHIELD\", \"Cash & Back Coin\", \"UltraNote\", \"BitCoal\", \"DaxxCoin\", \"Bulwark\", \"Kalkulus\", \"AC3\", \"Lethean\", \"GermanCoin\", \"LiteCoin Ultra\", \"PopularCoin\", \"PhantomX\", \"Photon\", \"Sucre\", \"SparksPay\", \"Digiwage\", \"GunCoin\", \"IrishCoin\", \"Trollcoin\", \"Litecoin Plus\", \"Monkey Project\", \"Pioneer Coin\", \"UnitedBitcoin\", \"Interzone\", \"TokenPay\", \"1717 Masonic Commemorative Token\", \"My Big Coin\", \"TurtleCoin\", \"MUNcoin\", \"Unified Society USDEX\", \"Niobio Cash\", \"ShareChain\", \"Travelflex\", \"KREDS\", \"Tokyo Coin\", \"LitecoinCash\", \"BitFlip\", \"LottoCoin\", \"Crypto Improvement Fund\", \"Stipend\", \"Pushi\", \"Ellerium\", \"Velox\", \"Ontology\", \"Callisto Network\", \"BitTube\", \"Poseidon\", \"Aidos Kuneen\", \"Bitspace\", \"Briacoin\", \"Ignition\", \"Bitrolium\", \"MedicCoin\", \"Alpenschillling\", \"Bitcoin Green\", \"Deviant Coin\", \"Abjcoin\", \"Semux\", \"FuturoCoin\", \"Carebit\", \"Zealium\", \"Monero Classic\", \"Proton\", \"iDealCash\", \"Jumpcoin\", \"Infinex\", \"Bitcoin Incognito\", \"KEYCO\", \"HollyWoodCoin\", \"GINcoin\", \"PlatinCoin\", \"Loki\", \"Newton Coin\", \"Swisscoin\", \"Xt3ch\", \"MassGrid\", \"TheVig\", \"PluraCoin\", \"EmaratCoin\", \"Dekado\", \"Lynx\", \"Poseidon Quark\", \"BitcoinWSpectrum\", \"Muse\", \"Motion\", \"PlusOneCoin\", \"Axe\", \"Trivechain\", \"Dystem\", \"Giant\", \"Peony Coin\", \"Absolute Coin\", \"Vitae\", \"HexCoin\", \"TPCash\", \"Webchain\", \"Ryo\", \"Urals Coin\", \"Qwertycoin\", \"ARENON\", \"EUNO\", \"MMOCoin\", \"Ketan\", \"Project Pai\", \"XDNA\", \"PAXEX\", \"Azart\", \"ThunderStake\", \"Kcash\", \"Xchange\", \"Acute Angle Cloud\", \"CrypticCoin\", \"Bettex coin\", \"Actinium\", \"Bitcoin SV\", \"BitMoney\", \"Junson Ming Chan Coin\", \"FREDEnergy\", \"HerbCoin\", \"Universal Molecule\", \"Lithium\", \"PirateCash\", \"Exosis\", \"Block-Logic\", \"Oduwa\", \"Beam\", \"Galilel\", \"Bithereum\", \"Crypto Sports\", \"Credit\", \"SLICE\", \"Dash Platinum\", \"Nasdacoin\", \"Beetle Coin\", \"Titan Coin\", \"Award\", \"BLAST\", \"Bitcoin Rhodium\", \"GlobalToken\", \"Insane Coin\", \"ALAX\", \"LiteDoge\", \"SolarCoin\", \"TruckCoin\", \"UFO Coin\", \"OrangeCoin\", \"BlakeCoin\", \"BitstarCoin\", \"NeosCoin\", \"HyperCoin\", \"PinkCoin\", \"Crypto Escudo\", \"AudioCoin\", \"IncaKoin\", \"Piggy Coin\", \"Crown Coin\", \"Genstake\", \"SmileyCoin\", \"XiaoMiCoin\", \"Groestlcoin\", \"CapriCoin\", \" ClubCoin\", \"Radium\", \"Bata\", \"Pakcoin\", \"Creditbit \", \"OKCash\", \"Lisk\", \"HiCoin\", \"WhiteCoin\", \"FriendshipCoin\", \"Fiii\", \"JoinCoin\", \"Triangles Coin\", \"Vollar\", \"EOS\", \"Reality Clash\", \"Oxycoin\", \"TigerCash\", \"Waves\", \"Particl\", \"Nxt\", \"ZEPHYR\", \"Gapcoin\", \"Beldex\", \"Horizen\", \"BitcoinPlus\"], \"legendgroup\": \"0\", \"marker\": {\"color\": [0, 0, 0, 0, 0, 0, 0, 0, 0, 0, 0, 0, 0, 0, 0, 0, 0, 0, 0, 0, 0, 0, 0, 0, 0, 0, 0, 0, 0, 0, 0, 0, 0, 0, 0, 0, 0, 0, 0, 0, 0, 0, 0, 0, 0, 0, 0, 0, 0, 0, 0, 0, 0, 0, 0, 0, 0, 0, 0, 0, 0, 0, 0, 0, 0, 0, 0, 0, 0, 0, 0, 0, 0, 0, 0, 0, 0, 0, 0, 0, 0, 0, 0, 0, 0, 0, 0, 0, 0, 0, 0, 0, 0, 0, 0, 0, 0, 0, 0, 0, 0, 0, 0, 0, 0, 0, 0, 0, 0, 0, 0, 0, 0, 0, 0, 0, 0, 0, 0, 0, 0, 0, 0, 0, 0, 0, 0, 0, 0, 0, 0, 0, 0, 0, 0, 0, 0, 0, 0, 0, 0, 0, 0, 0, 0, 0, 0, 0, 0, 0, 0, 0, 0, 0, 0, 0, 0, 0, 0, 0, 0, 0, 0, 0, 0, 0, 0, 0, 0, 0, 0, 0, 0, 0, 0, 0, 0, 0, 0, 0, 0, 0, 0, 0, 0, 0, 0, 0, 0, 0, 0, 0, 0, 0, 0, 0, 0, 0, 0, 0, 0, 0, 0, 0, 0, 0, 0, 0, 0, 0, 0, 0, 0, 0, 0, 0, 0, 0, 0, 0, 0, 0, 0, 0, 0, 0, 0, 0, 0, 0, 0, 0, 0, 0, 0, 0, 0, 0, 0, 0, 0, 0, 0, 0, 0, 0, 0, 0, 0, 0, 0, 0, 0, 0, 0, 0, 0, 0, 0, 0, 0, 0, 0, 0, 0, 0, 0, 0, 0, 0, 0, 0, 0, 0, 0, 0, 0, 0, 0, 0, 0, 0, 0, 0, 0, 0, 0, 0, 0, 0, 0, 0, 0, 0, 0, 0, 0, 0, 0, 0, 0, 0, 0, 0, 0, 0, 0, 0, 0, 0, 0, 0, 0, 0, 0, 0, 0, 0, 0, 0, 0, 0, 0, 0, 0, 0, 0, 0, 0, 0, 0, 0, 0, 0, 0, 0, 0, 0, 0, 0, 0, 0, 0, 0, 0, 0, 0, 0, 0, 0, 0, 0, 0, 0, 0, 0, 0, 0, 0, 0, 0, 0, 0, 0, 0, 0, 0, 0, 0, 0, 0, 0, 0, 0, 0, 0, 0, 0, 0, 0, 0, 0, 0, 0, 0, 0, 0, 0, 0, 0, 0, 0, 0, 0, 0, 0, 0, 0, 0, 0, 0, 0, 0, 0, 0, 0, 0, 0, 0, 0, 0, 0, 0, 0, 0, 0, 0, 0, 0, 0, 0, 0, 0, 0, 0, 0, 0, 0, 0, 0, 0, 0, 0, 0, 0, 0, 0, 0, 0, 0, 0, 0, 0, 0, 0, 0, 0, 0, 0, 0, 0, 0, 0, 0, 0, 0, 0, 0, 0, 0, 0, 0, 0, 0, 0, 0, 0, 0, 0, 0, 0, 0, 0, 0, 0, 0, 0, 0, 0, 0, 0, 0, 0, 0, 0, 0, 0, 0, 0, 0, 0, 0, 0, 0, 0, 0, 0, 0, 0, 0, 0, 0, 0, 0, 0, 0, 0, 0, 0, 0, 0, 0, 0, 0, 0, 0, 0, 0, 0, 0, 0, 0, 0, 0, 0, 0, 0, 0, 0, 0], \"coloraxis\": \"coloraxis\", \"symbol\": \"circle\"}, \"mode\": \"markers\", \"name\": \"0\", \"scene\": \"scene\", \"showlegend\": true, \"type\": \"scatter3d\", \"x\": [-0.13176898222611433, -0.11425033318275184, 0.17719753791137913, -0.2371542265273732, -0.07823558832252092, -0.18100383063612518, -0.2639433396950202, -0.23782590558064426, -0.18418850984376522, -0.2351592451758661, -0.28251365735330874, -0.0992690607549987, -0.22201882786772525, -0.23906465528346243, -0.20104497562035367, -0.27101832050420793, -0.2734913745113934, -0.16558672699048468, -0.13144605089684722, -0.05877702008546551, -0.06444129742811924, -0.1510186040962731, -0.22699708104376073, -0.14846024634966004, -0.13401629407741955, -0.06457832682991571, -0.37732137183552644, -0.30040241900450254, -0.15096633812720778, -0.13013192956252775, -0.1458308082501652, -0.13337401069414181, -0.14946283848052744, -0.28950361072533487, 0.30557537969198323, -0.4103734087052773, -0.09866393096652268, 0.03263656909675929, 0.055364577850222266, -0.14567579468899358, -0.14821040231724916, -0.14975340865589945, -0.16470697174994373, 0.014448337369864075, -0.1509607743984018, -0.4696894192737012, -0.13452545748789163, -0.15392797316054907, -0.14659596558527685, -0.19369004892552932, -0.12486232711658075, 1.3509330328879812, -0.26384574240002295, -0.23711842220618606, -0.15113120289900409, -0.19513969457063393, -0.15461087523499453, -0.01329728233394264, -0.1634306694052846, -0.33201532263143035, 0.17549595861750453, -0.2320757893317878, -0.1792697869840085, -0.12975816885366181, -0.1301394097371762, -0.12028651029226697, -0.23719035468887487, -0.14791668356993368, -0.1307160827105711, -0.4979493997582682, -0.16679012838203336, -0.13306064644416393, 0.26595939910271443, -0.20109778638188344, -0.14964602394677506, -0.152390841860965, -0.14329354534136352, -0.28098884461169094, -0.21934567097242388, -0.19988210913617915, -0.22511421096158374, -0.18068307640319112, -0.29270774565769264, -0.1998498843069393, -0.25608438980691195, -0.23076344533829116, -0.16189380744939622, -0.11845486387925466, -0.11585415683534682, -0.2046230975566929, 0.0015095257750995885, -0.17306511515099163, -0.15149172542719083, -0.2848070059208621, -0.14920737879419604, -0.2717827046614848, -0.13051298350173143, -0.11627414032572717, 2.7834328438147393, -0.09238665223633595, -1.4022387576928954, -0.070412579957523, -0.14545442870340153, -0.20988044807092673, -0.18461526944141007, -0.14824208504807782, -0.06530079196939914, -0.1467307808455345, -0.30742511770150177, -0.15284651716781533, -0.05481871382059242, -0.14832342645424268, -0.06595510907165954, -0.27930046838157785, -0.1266527827213037, -0.20043722545273673, -0.25554737871190586, -0.16764217500670353, -0.18739757893635667, -0.14892754152459267, -0.17755047435697596, -0.09353425299918777, 0.11179179259032071, -0.15426731379485517, -0.2372160999987325, 0.34494160884517316, -0.14421368876731583, 0.4297975779910095, -0.25951327088135945, -0.43534102476861336, -0.2221622040813609, 0.3632204838981843, -0.2791897660635247, -0.1515823944762628, -0.15383132036429034, -0.14906404531407666, -0.1149275500647567, -0.1242207707902335, -0.27948568984334754, 0.212018047541436, -0.15370915736664437, -0.28909477792286725, -0.2991704493479285, -0.23711946244603185, -0.10983407561206324, -0.1872877964449284, -0.3751454285957253, -0.2219918704654803, -0.099174373109415, -0.18092687192341003, -0.2154906402615145, 0.13404601734051327, -0.04412991775426085, -0.14608411326527232, -0.12639094565654363, -0.2594659332495387, -0.13666106686307547, -0.15112129060097645, -0.03301966608814743, -0.27538121083524825, 0.4774687565001918, -0.20633163229252907, -0.32707757525321657, -0.27625496952842554, -0.19528412129424993, -0.30592681446102304, -0.2751770230644841, -0.21072800757049492, -0.2142255465459969, -0.29261741215578185, -0.2776500546490374, -0.1447580576919169, -0.3342534867549334, 0.02805721795644298, -0.12743572732720107, -0.11529068547525649, -0.2671929055029196, -0.3060658136978134, -0.25802899642035354, -0.23772624512625243, -0.2929135036288265, -0.2009020902792631, -0.2569050332232336, -0.21967381906608402, -0.22297474508452483, -0.24515656091006205, -0.18340440408842879, -0.34027445058797723, -0.06594976421770361, -0.21905033679173594, -0.06368828073617756, -0.23108005764902426, -0.8059680364955658, -0.15792675371224793, 0.39666613184971544, -0.3176152058592668, -0.06559215887685615, -0.2673386327160849, -0.2781603673478276, -0.3201291569265772, -0.30005969317909564, -0.17604253275482898, -0.31915350750371163, 0.07181786690034256, -0.12082512264555162, -0.23517928074953684, 4.478464292640244, -0.21842741248050548, -0.14351309715331806, -0.14376516386225704, 1.2348674637294261, -0.2734774653365172, -0.31306404730804904, -0.13880701582721056, -0.1461582674505916, -0.2960549026678364, -0.27625496952842554, -0.2742784218687743, -0.21378820421998448, -0.16371314053473932, -0.10075435824923627, -0.1329071179091145, -0.1344929122819695, -0.23339314819396123, -0.22595130884463088, -0.16414965928216302, 0.4301624200130927, -0.12774250420369293, -0.13743177555362193, -0.3061799482795234, -0.3721438218032508, -0.16255252125459335, -0.2525684646795119, -0.44691546227439327, -0.05688796081210443, -0.21965195891735956, -0.28303013465151633, -0.17754801726494826, -0.2938741889033891, -0.138593758510062, -0.46672079929848553, -0.15641144600109166, -0.0359947736207973, -0.14937464466086722, -0.30033470098379633, -0.21354149052502705, -0.18544016408561675, -0.10662709649347096, -0.1462732129148715, -0.34963748883418766, -0.1303363029687216, -1.553191339913627, -0.19453301588079316, 0.27858658874525477, -0.20211310188776413, -0.23294944150987276, -0.32211057371931245, -0.19443837433680114, -0.30615123279041767, -0.31495791257758005, -0.134040831922765, -0.13122837665458484, -0.1282981638982021, -0.11794412681418104, -0.20150768637014432, -0.24819894337595436, -0.15110406602422552, 0.022555687406298985, -0.2031487061682907, -0.23904658780711635, -0.20383799875808237, 0.3973153369233488, -0.20301041216134938, -0.1489645055654392, -0.2131271065579184, -0.3753471037628015, 0.34426805717446884, -0.12236197865158249, -0.4077327716853642, -0.17318676948924483, -0.003189882488988703, -0.3065890832166089, -0.21196083532806187, -0.2861595725955867, -0.18024835181674315, -0.15130143957827644, -0.20505115602804047, -0.1488925087707413, -0.2917289245581303, -0.2930508156531704, 0.06464223813460071, -0.2926053445253734, -0.30420658961930697, -0.264961871412031, 2.5693815201264294, 0.22579200299192903, -1.1013534017766105, -0.23750884957131574, -0.17978947210418314, -0.23715345188942027, -0.2831649863566968, -0.12214667177493477, 11.71599713029359, -0.14954129864879778, -0.32036675520568547, 1.5355720492843044, -0.19524864464786254, -0.18151998112797424, -0.13372995524945336, -0.1337178422912357, -0.19619650904318642, -0.13804685147729479, -0.2912597414094175, -0.3415817326252374, 1.6502715862898598, -0.3404483818585728, -0.11881085096607985, -0.38648319412266147, -0.2518817114684448, -0.13359569579831262, -0.4477486137189165, -0.0624461056376918, -0.2350480642147945, 0.6731267653520517, -0.15162761380228165, -0.3350138093009378, -0.24463083371148542, -0.05190752653854524, -0.1834092986842278, -0.3197927922565751, -0.13296744816255285, -0.24838062653533421, -0.13487225582029536, -0.05709949083841462, -0.31195758968279724, -0.4037550202526668, -0.11310152685905218, -0.5062388839015743, -0.24207110743182483, 3.225853939460538, 0.13329222742892916, -0.23482677761142104, -0.3475195132225254, -0.17073235412163495, 0.03241221112572312, -0.24579448121361044, -0.13564430665048471, -0.3428666156972145, -0.2945705906076257, -0.29629923649406975, -0.4565652337565241, 0.017840677089763776, 0.007876248723485921, -0.08522407065471226, -0.2925782348663211, 0.44480642928515873, -0.3068554184019706, -0.3688690559276504, -0.31147238949194855, -0.23928906442172052, -0.16520993890512364, -0.12396320390645334, -0.12994242439596768, -0.261279700560903, -0.28304833199742546, -0.23036715059510152, -0.2983905024023438, -0.307750585858242, -0.08892845964815614, -0.03268557279480821, 0.5899728905796975, 0.4123910810223211, -0.13805764530025924, -0.3275401133017945, -0.032508801888285734, -0.1115573696329591, -0.14527393676694308, -0.29647272576236294, -0.2655321571014129, -0.18766999677607113, 0.0846756162806676, -0.15070260378487915, -0.30873088350927086, -0.2883802203120172, -0.31453654326751174, -0.11992724511469005, -0.17894952826923066, -0.10916444979607715, -0.15957216221632395, -0.2010642026587369, -0.31892223021102145, -0.30684596936098896, -0.16689533323914266, -0.15512988831465602, -0.18799618188997474, -0.05376964874736438, -0.2523628765337822, -0.2433686860610532, -0.3178614484099592, -0.1402641296262705, 3.127854077506799, -0.21199862496790173, -0.31855830130896834, -0.30086076376168824, -0.3000746985235193, -0.2701845462539844, -0.10947624868415376, -0.29304318211669556, -0.44586742025844195, -0.309118704178182, -0.2856776942289394, -0.13001366007549842, -0.2665276379608532, -0.2906982082929078, 0.49113296875705176, 0.3940673787274757, 0.03410094980004098, -0.12581369774060122, -0.44084734018263366, -0.013075570193604136, -0.1541368527544149, -0.16379639241029817, -0.2539865802933045, 2.0852856969824125, -0.36078086083100147, -0.20337530583401733, 1.1834396712985347, -0.22829676636148913, -0.2741549617773286, -0.2793128528571175, -0.21228163143814438, -0.3004341516544756, -0.3694319107146468, -0.1268214312846009, -0.0860215519713384, -0.23275575141170113, -0.15048695215335392, -0.11788860257052625, -0.47751921530443486, -1.3814268425341214, -0.30795184038884316, 2.285055930965343, -0.23448545412651786, -0.29274131659228303, -0.12071083322569184, -0.2706828562981044, -0.023255788461217265, 0.10400357306082528, -0.19426791358120957, -0.30602462214892223, -0.11258801512553981, -0.2533469933576638, -0.18628377543926483, -0.25217006295672245, -0.10805072488162071, -0.3328438873078265, -0.2511915221625494, -0.23715348670669692, -0.7389201953658525, 0.05099496742008688, -0.2530423608105661, -0.36728095999272015, -0.683567437860963, -0.674469957278489, -0.23769667118907092, -0.2656540094392862, -0.2119779223958472, -0.18326631730325477, -0.1850551794843717, -0.364542513552027, -0.18832329300641504, -0.3620459722916189, 0.38543256982030427, -0.23777452201547195, -0.2750486101829181, -0.16380831306991978, -0.17336004289931028, 0.2112621887078794, -0.24739593438050791, -0.2013797444470849, -0.3259753545092997, -0.30628050334121193, -0.21836589462861397, 3.1731241956292293, 0.12526294252658093, -0.15221198176423223, -0.14148423617124511, -0.3582170736297626, -0.20265663974496897, -0.6804277382853099, -0.1384197343751553, -0.2192676933287152, -0.0658626778748174, -0.1304777147705169, -0.1267923524462659, -0.12076561106703518, 0.09092549340513226, -0.19061275247776976, -0.19984930081370267, -0.18853897181775112, 0.2795230138115476, -0.21612558022545175, -0.34017239177786174, -0.27651375384795807, -0.13119761221128132, -0.328130807272457, -0.17276271441872093, -0.1558298855773783, 0.03594827431907594, -0.2394812253853755, 4.47144456648651, 0.03372031112134126, -0.16251411301097976, -0.49411140355673455, 0.8412910177742305, -0.36207324437546534, -0.3046686663814504, 0.18036193658194472, 3.225334874106709, -0.12258711219360313, 3.226487951666571, -0.1425108830693997, 0.06263243928550255, -0.3269923935295529, -0.250631305102574, 2.307516837078604, -0.13207449587393855, -0.282091846573541, -0.23516022480099574, -0.13302118787408002], \"y\": [-0.1298604043232244, -0.14059688434342438, 0.08411589892067636, -0.264597863390917, -0.2613807950073295, -0.2898354183415612, 0.01780275430538211, -0.3146091040838019, -0.24201390752198534, -0.32625131387547873, 0.28727568934088066, -0.3148185417242795, -0.060096412122445424, -0.04865346036307047, -0.2967554735544638, 0.1376704999581893, -0.12294334211761314, -0.3247768135309974, -0.13703426685264145, -0.13150365285774174, -0.2489801610849535, -0.3241641388863418, -0.2840306268872507, -0.3092724434125933, -0.21437173087792652, -0.13098596540695992, -0.13333392255981502, -0.21137756303026214, -0.32519440068693173, -0.131773147375609, -0.3257226490300344, -0.11918140986253854, -0.3238019385643264, -0.14039628618834932, -0.061442463661231066, 0.021739271535177896, -0.2871174774490882, -0.32808047427184783, -0.34236927797464334, -0.32573648187474624, -0.3263206103373447, -0.32511756930673774, 0.09934217456822148, -0.16189352823076347, -0.32750645222056235, -0.20775281773156526, -0.32810013276223354, -0.35357264125879373, -0.3282251304412971, -0.11239510180801383, 0.02579642559940988, -0.4579652814682684, 0.017794045078803042, -0.2646010584379234, -0.32643472019289205, -0.23302848848072819, -0.32578498679767537, -0.061518960470670424, -0.2991633954246429, -0.16089459729388436, -0.104099780387436, -0.23058378151340478, -0.09662528414791846, -0.06195527682446605, 0.02019522139913402, -0.32728186927494257, -0.2645946394455771, -0.32707420459072917, 0.020246681591584204, -0.008866711872190736, -0.09629032916329058, -0.1350926589031971, -0.16048194627178053, -0.2967507609147579, -0.3091666289455281, -0.32619682176171155, 0.027441160276940633, 0.051492542344092125, -0.2845236775605809, -0.0009657978810712928, -0.2844376939119253, -0.12138706028305782, 0.006712383161043603, -0.26697812520495695, -0.18656570244068071, -0.28617845179048623, -0.1480008204563758, -0.13792212433820633, -0.0872001919447676, -0.3446708236569819, -0.16840276589325212, -0.1894592689299215, -0.32640254847765826, 0.053173505680675706, -0.04469793140210216, -0.25716021118994215, 0.02022855775909087, -0.11926490312032835, -0.5274235077846059, -0.30200909479752797, 0.3649132642705342, 0.08899017444505128, -0.32449472314297295, -0.09399643178334964, -0.05247114569171142, -0.3271429546891445, -0.08261195678853503, -0.32341205489089925, 0.12830139339919952, -0.33254339734271793, -0.055292711284083154, -0.29302491801280134, -0.13086310638219073, 0.047753393308813015, -0.24713101273949908, -0.21502819614440163, 0.05255720142702634, -0.22015467770831704, -0.18873429062403999, -0.3240344527435254, -0.10580582452194771, -0.3285785446176358, 0.13300664856129693, -0.3263924293216933, -0.2645923420280439, -0.36595504592682315, -0.020786267945320017, -0.31624797699823065, -0.14515281638651462, -0.3356916780337279, -0.28245673213870165, -0.18312042477990179, -0.1866887892553834, 0.017283271050233282, -0.3254779861818029, -0.3092185625956595, -0.03897334048780373, -0.34552013847426655, 0.11060342149125302, -0.36419699255067295, -0.08698898642336753, 0.20445203201765336, -0.14400432299528218, -0.2646009656107144, -0.14344495955856534, -0.23891604650279957, 0.38574396902742253, -0.060098817702681454, 0.030614334522248966, -0.2898422858563413, -0.1476498424132748, -0.31925890119968603, -0.04193960679770089, -0.17191907700916553, -0.05939507640905732, -0.17974041826196077, -0.20837109343284602, -0.3275009467925292, -0.16871473603063422, 0.055269216472146845, -0.11226152455242361, -0.09381382166242469, -0.002744030690946218, 0.12439522952495187, -0.23301560036677954, -0.11993750472436503, 0.056185111733446216, -0.09285669235622243, -0.09604808539717131, 0.04091032326954398, 0.05260156721744858, -0.325708291944655, 0.2682142153757414, -0.15886863702741802, -0.1325675387969779, -0.08725047407340572, 0.09244377372579193, -0.11992510093954128, 0.1251982292799188, -0.17749803398205125, 0.06956424394666237, -0.058145117518027416, -0.20169625283954484, -0.1373654893790596, -0.2862763656668697, 0.014585720837982753, -0.16953739199999646, -0.21965549245327112, -0.13086358333745993, -0.23428484868627944, -0.08275585140856719, -0.2860396488807136, -0.21671471234624445, -0.2410514713327163, -0.062190296314810684, 0.2350976608333501, -0.1308954947335374, 0.05227299266193471, -0.37284034950935846, 0.23937317394686075, 0.20263901235069728, 0.05073370451835627, 0.23545496322040757, -0.032463253176644995, -0.34579731811146797, -0.3262495259739734, -0.4112657566319533, -0.0037670231733407567, -0.32411861488750726, -0.12136392655706725, -0.014992332984529013, 0.05189393487354707, 0.18966210165507788, -0.13365276790028255, -0.17191245976018119, -0.1387519689398097, 0.12439522952495187, 0.00027203567879844964, -0.07363674936505499, -0.12800273700672776, 0.5530781697483315, -0.13591893170729558, -0.1356516703331188, -0.0187576185542007, -0.2678610657097629, -0.09395456486198915, -0.10805340416764556, -0.13474930196103174, -0.13013405007503828, 0.08291861340322135, -0.02527948715097298, -0.3278601101109779, -0.2011204799536659, -0.3381588157919523, -0.10341759769606867, -0.13736744009898627, 0.05054126196252081, -0.10580604378387688, -0.1434385504698442, -0.13789330645419182, -0.4581412851595402, -0.02031883782904941, -0.04133217023400034, -0.3297425085607199, 0.2010175007246418, -0.1362840531528619, -0.4116354153822674, -0.12012577011962612, -0.32667945015978933, -0.30479849550929417, -0.05734543835727449, 0.11331450783363063, 0.022914150688104807, -0.028753201807823228, 0.03780500165175534, -0.2982086378031389, 0.23788956819101537, 0.022905705221970035, -0.16915397277547112, 0.16362866424655637, 0.006560571340288124, -0.1326288591883445, -0.13712417155823023, -0.11911587961818833, -0.020906618931683135, -0.015919759620319687, -0.3215054515339155, -0.11006816204571501, -0.2851679632433953, 0.11637265351372514, -0.1656163957555311, 0.1422889096744511, -0.016794177211899845, -0.32639294438357735, 0.15138876911754015, -0.3493946694875345, -0.11886876910561556, -0.23487283787236288, -0.5027344777804891, -0.204255991964896, -0.2582006640523356, -0.004271125145637009, -0.10432291608628079, -0.013272358803705692, 0.055737633300150205, -0.33015592395707694, 0.03727675515956752, -0.32682142999171043, -0.12696300692581164, -0.14085225044520389, -0.16473375237293691, -0.20920449326901744, 0.12194698684618097, -0.30222541252842655, -0.5688355580430143, -0.4061414384609208, -0.0595929597158026, -0.13677277793582898, 0.055696684548588324, -0.26459793251677954, 0.05402238917827852, -0.05946783710110253, 9.456461260680015, -0.2911406161493221, 0.23777267205265518, -0.4025698094486308, -0.23301876617328496, -0.28978935895458086, -0.2143972827103738, -0.21439836362657733, -0.14104476944348193, -0.13376926162265854, -0.25270166120999193, 0.29387741171932075, -0.40695235381643613, 0.010489606143786924, -0.3760412846101187, 0.0015977401317908908, -0.14170079252161663, -0.13477561593567972, -0.15884145701739588, 0.05101621378068591, -0.32626123525885775, -0.20657016884256674, -0.05507254680745878, -0.03088807871428868, -0.08712130175179988, -0.27823015696041586, -0.1695369552241227, 0.01756303036600127, -0.2144653260611927, -0.033777384109306766, -0.13549266695416012, -0.029979616622151026, -0.0705964800520615, -0.22133938986459784, -0.3445701148183116, -0.20028573119367551, 0.016092189185568255, -0.2926473453566574, -0.024200613454748644, 0.03944917549374235, -0.26019588372667884, -0.1116011319762915, -0.2785785847376147, -0.2274182103306435, -0.32764208903578834, 0.09856862188631649, 0.06701189025768442, -0.14060754076423806, -0.454779509167321, -0.16055735179679317, -0.18183006667744003, -0.33138885129179935, 0.0695343257853525, -0.32714416247577516, -0.14224837694230788, -0.2288000191939402, 0.06049063108897296, -0.1629536047582375, -0.32481043672521664, -0.132762118339458, -0.1337182169057767, -0.011185217894828755, -0.2345791135586152, -0.28593259834611184, -0.4165675579281872, 0.13583285339583892, -0.08476264239139833, -0.1394314612911922, -0.3322462338216658, -0.10408427723240488, -0.1324033987863424, -0.2467452913658955, -0.33402423325470515, -0.1817978331481443, -0.1470122419326343, 0.2008072160676092, 17.61704957443405, -0.2532067320825958, -0.34987119304628256, -0.12074485472606486, -0.33663389154076234, 0.007288963028926135, 0.06367279817912229, -0.057956233062849714, 0.05064909193371248, -0.346217765230515, -0.21752154987708766, -0.2967537578036984, -0.17088719531404273, 0.05858529813164724, -0.09549135389454091, -0.12883487463358742, -0.383072591879899, -0.05538632602424213, -0.32554417846925615, -0.035480865697507726, 0.2334265941598468, -0.11383535766772501, -0.23708354473745924, -0.10431954387667756, 0.01745286889724401, 0.13867991226464405, -0.2492292410984151, -0.10320055947663774, -0.13458910207364977, -0.19767478917537964, -0.3415318883506191, 0.04199447899382758, -0.18411200786833468, -0.060166248254171925, -0.3244125362989492, -0.2542009865695788, -0.36094933137648866, -0.3168322660040361, -0.15141890876125294, -0.06333829113880297, -0.21267700544596319, -0.011504624500709234, -0.21800657706552917, -0.16257868555092422, 0.18112280469575448, -0.46122144606044885, 0.12756790800586007, -0.021072242376362373, -0.04665623387453379, -0.3610181479434836, -0.2961876448539368, -0.18667780543894197, -0.1699785931584117, 0.003281182243087052, 0.05756390299051392, -0.060072470109229364, 0.04492601421553139, 0.08560694639301569, -0.3280954587140696, -0.11912083439914033, -0.45215502033446797, 0.6346575826215172, -0.06524682452319334, -0.5580876967023883, 0.0897415301142086, 0.06954887860365751, -0.06351108368772641, 0.1187111111903189, -0.25372595279963933, -0.24467949023810528, 0.07120003239090117, -0.119928776723098, -0.13874200144236196, 0.2095865631645551, -0.203771753904397, 0.0009414678951225678, -0.41758858671680565, 0.18124529879338078, -0.30716156002750417, -0.26459792940981275, 0.6738026923482587, 0.010103562160124745, -0.2555242174132427, 0.01364541854763466, -0.01193638444801515, -0.010227667365880294, -0.14682550616660167, -0.30335983175870823, -0.2395554204988485, -0.16954971436096639, -0.40953541235539287, 0.05620410574472316, -0.40836274713457776, 0.1291145551449713, -0.18507210092277535, -0.14502873055202375, 0.12598935076141662, -0.1625776217947459, 0.06987754889966898, -0.16507900943990586, 0.013995967186192209, -0.2926474228869474, -0.06380215173909523, -0.24208694220746543, -0.003772512802027297, -0.3090886468186147, -0.16123383122118373, -0.3235317252357514, -0.021029834337985304, -0.2340507656334792, -0.10695550060133874, -0.012844635597400842, -0.1348132515661245, -0.0890921920933995, -0.1308713546050093, 0.006242611763827559, -0.24711855804639193, -0.16491619173038063, -0.12009241729406422, -0.009537868287058483, -0.26697817727376466, -0.08995450467676082, -0.3127011907174156, -0.06658379752399876, -0.21443951282413468, 0.050119994730782665, -0.16576090139569485, 0.23333651477249853, -0.25605364736178166, -0.32828177058009483, 0.21513386485824712, -0.1335003718986537, -0.4122047467007231, -0.07122003026291998, -0.18118025731953505, -0.007203761067354509, -0.538581517928375, -0.26002534292193324, 0.12571942848307982, -0.23526308152737055, -0.3208556537779902, -0.34227326425595095, -0.3209585502130195, -0.03967874110557111, 0.7350090008655319, 0.2367173056627534, 0.15330946164861928, -0.32354944848765443, -0.18194238620464118, -0.25027242455165016, -0.3262512264573057, -0.07090335601898613], \"z\": [-0.046894478786670815, -0.049814060438378174, -0.004367221173875124, -0.03629394577169743, -0.04260215574962579, -0.03454379635485618, -0.08257807378444346, 0.08198064711423546, -0.06012397610428574, 0.004553887437293483, -0.626390801812498, -0.05128789140598961, -0.0619544769749092, -0.032331474387463296, -0.03854663448613889, -0.006173296601458585, -0.050805141696352966, -0.029803889790567806, -0.05242811956657222, -0.025750717727927405, -0.027008790318944237, -0.02853029979585747, -0.02715689179102214, -0.03146719717952815, 0.018859593338163973, -0.025359175163202453, -0.03647519880371449, 0.02630130891115358, -0.024415598292320366, -0.052972514074464745, -0.02779628220417019, -0.04977435364122264, -0.031857692140277234, 0.013897726818195892, 0.07372391374035127, 0.09924633442363039, -0.09507964145256466, -0.04662543364772701, -0.04714034593804632, -0.02780674440001363, -0.019334067985342044, -0.02848339493176817, 0.014087243353281124, 0.008372738143651704, -0.02555474496784544, -0.03143703853410405, -0.02790637868536836, -0.00953943088400672, -0.0318739991532276, -0.04482450872150845, -0.04461116017033131, -0.14260189544017166, -0.08258466083402535, -0.036296362281693764, -0.0272645443654856, -0.03245569051155609, -0.028919209821230453, -0.04685575560382319, -0.037963648514743466, 0.08257160543914938, -0.04124540828765097, -0.021734659441222725, -0.05708734808515337, -0.04775614586822015, 0.009471023745115298, -0.03446125471977379, -0.036291507405025535, -0.0272777435521717, 0.009509944633969404, -0.09537816374117342, -0.059492800453311415, -0.049544256437836526, -0.04766787122961769, -0.03854307017521296, -0.031387166520571226, -0.022781655867329813, -0.04336719794377953, -0.08378314501084194, -0.02809780287083628, -0.0014739443704306116, -0.029169508160009752, -0.07604431947989106, -0.05262645534038328, -0.03569003966923791, -0.011607641274736605, -0.035200307354183426, -0.031082316219330816, -0.04634276550308257, 0.006287389184555389, -0.0009682056252787306, 0.005655022417523141, -0.13915224254894426, -0.027240211931166162, -0.09121857287528148, -0.033079939219927336, -0.010167863530219869, 0.009496237035212114, -0.025742860409483776, -0.1880856901865828, -0.0050480543125189644, 0.43340262397257223, -0.03442471842646773, -0.03131366850605338, -0.05020531621590064, 0.035529013992105084, -0.028548302598293777, -0.024993522039366927, -0.030196642665040883, 0.025659581572274718, -0.031299026064019235, -0.03725585291730548, -0.03277995741111733, -0.025266253193421177, 0.0005115736879525191, -0.01369598092305267, 0.00854480230128713, -0.06304573060800854, -0.0208062251416583, 0.04878866084152278, -0.02968818269322195, -0.04498922727304771, -0.03579311541866374, 0.13627910974173346, -0.02902816045282706, -0.03628976979915575, -0.05451841011496346, -0.04362198791231587, -0.3321773201096529, -0.06716527849183247, -0.09078618761920701, -0.027370513624131478, 0.07325593401311216, -0.05691004908436448, -0.046967355008331706, -0.020902267629067592, -0.03142644549968759, 0.006541742928177827, -0.10257491049993896, -0.013664383727885027, -0.014411649270866907, -0.02340069291118079, 0.025689008611786572, -0.07200030691989169, -0.03629629207368804, -0.14014153546179464, -0.030403657573595436, 0.5966161906132473, -0.061956296387479175, -0.10515820898769171, -0.03454899046250893, -0.03414448042286627, -0.05775783161164024, -0.020974972518862257, -0.05048080736037087, -0.05136220301148583, -0.05288579487797572, 0.012279202416420512, -0.030165522408029364, -0.26676719738782867, -0.10017453464597516, -0.09524700588952224, -0.05159974170122868, 0.13608294554491374, -0.0056389276604024595, -0.03244594284395818, -0.07135311009895833, -0.0918391599187087, -0.05991566912816719, -0.050854302386095694, -0.020483002621357722, -0.087396292217644, -0.026921944132279087, 0.042767244425721544, -0.030848663497482668, -0.048623712229505664, 0.006249359300738376, 0.03283271451134058, -0.0713437287440215, -0.0940836445059363, 0.148788740158614, -0.06680102670340504, -0.032437374681085956, 0.010763634311882897, -0.04882013852846305, -0.03563486840827391, -0.07955243312770059, -0.05108363705761779, -0.0495916517247596, -0.02526661392901379, 0.010207638640561682, -0.025102353861526087, -0.033370774293780624, -0.5332147303147914, -0.036952833110524885, -0.04305068731815328, 0.025011721526257195, -0.02529074947613823, -0.09505010369128244, 0.04474339227764667, 0.03824478893597848, 0.024569401521229488, 0.058212550066985065, 0.037874194306862514, -0.024274536536674284, -0.10934435366081499, 0.004555239680890633, 0.44946278164896986, -0.06785349056187195, -0.03241993663600188, -0.043860730106657767, -0.08663208851201572, -0.08754009886938328, -0.009114927644359987, -0.045767912901916986, -0.050475802536253785, -0.067910449804785, -0.0056389276604024595, -0.08321919079167876, -0.04272786723985575, -0.061339863213976754, -0.44338393350996796, -0.05021983872669721, -0.05099584598844552, -0.07059437618174612, -0.006043137809551076, -0.06485182976637215, -0.09328944345315021, -0.049989704045569426, -0.04803491664222075, -0.04824102211664404, 0.07823460273175666, -0.021520693341430103, -0.0204942906288927, -0.08709280044655376, -0.037433087435490425, -0.048821613916522004, -0.091028917830779, -0.0449893931074291, -0.058422249910587316, -0.04908256420980062, 0.16438333363411944, -0.07138685142174725, 0.4105299785512404, -0.019482753181459974, 0.022889006173691183, -0.03146924989031838, 0.052869768181915744, -0.02639395997213131, -0.027237576165565047, -0.06300821452014996, -0.05405400911734469, 0.5539429421278725, -0.012039979984685497, 0.6081165577969606, 0.11840355133321871, -0.04037398953972829, 0.03072815073036178, -0.012046367544333038, -0.015331768353716092, -0.005814290633528873, -0.05586344878494916, -0.05343415210911402, -0.050480447524751185, -0.02563014945977063, -0.04780845016954458, -0.07222719911095478, -0.03242013952747316, -0.03016046105669023, -0.037784196167170006, -0.010135762553486206, -0.006620321332453832, -0.031434876879051735, -0.05736326809306592, -0.02808791865541637, 0.04413452079438683, 0.10060216764419314, -0.008859005504420057, 0.03068813018346116, 0.011154722516449347, -0.04025089720395373, 0.013429187858372488, -0.02228769171415413, 0.00048266349485973927, -0.03281923397423597, 0.06331025458459423, -0.02320826877299382, -0.014713367871989565, -0.03554061197376758, -0.0706950163717484, -0.0731582735015159, -0.03764134081613275, 0.015250604856186687, 0.03430242870327216, -0.03785377711421518, -0.23116712154538144, -0.31157905140628267, -0.23022536773478577, -0.13112040514359488, 0.06327928381413307, -0.03629399805366383, -0.09771993578158826, -0.06623891969706291, 3.7428809667719793, -0.03119091298592093, 0.04150130326183686, -0.1220103339376144, -0.032448337238484455, -0.03450896025735901, 0.018840267719984906, 0.018839450190601313, -0.039863559321622215, -0.05211369811067604, 0.04355127579099836, -0.6128990761413701, -0.06590102814373101, -0.09440276424082387, 0.0045785544818396405, -0.056653515936031996, -0.07114592966939368, -0.04665226285702402, -0.07515496318153456, -0.27226989143938923, 0.0045463835971128975, -0.10602211711096983, 0.008517414449828974, -0.04177934534330004, -0.07749214145324702, 0.07294139293084173, -0.051083306710908494, 0.0010759466769783789, 0.018788804490478782, -0.055348706808514905, -0.05297574506782146, -0.059639557950039127, -0.04246285026305383, -0.02405446522367847, -0.10903265997307043, -0.07372386269659059, -0.08323031821231194, 0.19768160272733454, -0.05376873148766577, -0.008136211524247153, -0.07139388595249281, -0.0428674224605111, 0.02328030390697447, 0.010159163052265332, -0.06246215915701529, -0.023859809979533374, -0.04135901000735064, -0.05973015773733208, 0.16846986291601604, -0.034482603646761034, -0.025172142567550872, -0.029517695882610703, -0.06682365470721971, -0.27602546289232877, -0.06899613765556954, -0.05019792575732434, -0.04114284731113176, -0.03675414153889255, -0.029829320022030703, -0.059132950992752925, -0.044677178204969914, -0.06914834796792067, -0.01931269246000167, -0.033624183956313454, 0.08190252082394647, -0.027656876710875005, -0.1276303536874657, -0.0707720373423352, -0.015294576137989969, 0.3348165201348641, -0.046072738453380516, 0.012769613143125408, -0.03991185326411736, 0.06801109471496629, -0.21778060830872858, 0.032700805369242074, -0.08814322511155331, -0.041328450865694234, -0.04024672195385267, -0.04339250749068835, 0.12672653412088702, -0.08388376993643651, -0.06207911602084342, -0.055837845867688154, -0.0088780383285383, -0.10790548066424117, 0.019348333335902943, -0.03854533681231253, -0.09497900751684138, -0.036458812327721614, -0.061196877126303915, -0.05223895733842753, 0.03355798229603786, -0.03732665655645609, 0.01993687427773282, -0.055268433685781125, 0.041941360672922805, -0.04949132405590875, 0.19923547101039255, 0.00048521399824714653, 0.0009926282501054693, 0.012940933287217524, 0.047621933195633126, 0.058503784013683516, -0.05418355532004701, -0.026573169940106924, -0.0963532974495966, -0.051656212458714774, 0.13840950500698376, -0.04852543435870872, 0.010016233232722488, 0.05158485147820609, 0.009853990741045466, -0.004497062911589672, -0.06647867395632621, -0.05815382963489797, 0.17676618999980895, 0.012321710104568062, 0.01898149270834477, -0.04705156583575654, -0.0017762349642670868, -0.16092281783996973, -0.05862957382743665, -0.05193627118736082, 0.31307625209087364, 0.14386199268096678, -0.03288102584693133, -0.056901741694155586, 0.13186251459990125, -0.04745276975390363, -0.051378538609768244, -0.05092346905132258, -0.29834854947921047, 0.00990960716968059, -0.02830855595289313, -0.02563389690939233, 0.16323463593590912, 0.22390394727039173, -0.027474388773067914, -0.0840292952345358, -0.08975504326955566, -0.06681264797372737, -0.05281472551577828, -0.0034330271777174904, -0.08679003435874703, -0.3177460403788812, -0.011740979893513389, -0.07134650884950593, -0.052018236464408424, -0.5744547520048409, 0.10201185651586331, 0.5531610013260246, 0.04829386607112592, -0.04536617923948773, -0.0006213659463955064, -0.036293995703771696, -0.003802825215599055, -0.0564801440323435, 0.03411401781670133, -0.026462908861140437, 0.213248840987657, 0.20519791325382591, 0.036779842206686876, -0.037836342613678284, -0.03224381836169625, -0.05109295682924906, 0.062497117192188666, -0.05498204122730007, 0.051104407204533256, -0.06467317816010157, -0.08782364960541625, 0.08037455739355243, -0.0965407425783544, -0.04705076128501528, -0.03478674308093692, -0.1887220997914452, -0.0776901158630606, -0.027572544346129928, 0.051202503122761756, 0.0536177516021608, -0.06785764253289622, 0.20892257271285136, -0.06688405719266714, -0.02093921257975426, -0.043806204489173065, -0.05489750625991589, -0.0022452097126843605, 0.20805961542326326, -0.04635992154899662, -0.048530656409870095, -0.025272491572025674, -0.056103931160672464, -0.01368656106465231, -0.04447944828764749, -0.07165042791855372, -0.04436316209807608, -0.03569007905044083, -0.05191314256210831, -0.04079769986986647, -0.045173218250138814, 0.06671422028520108, -0.09216956495554195, -0.04528221791533264, 0.04436689266246475, -0.03970247752239361, -0.022440099230746805, -0.581655223167417, -0.0043990855905471915, 0.4536474571957354, -0.05928275416291044, -0.026658926587707507, -0.08819903324765643, -0.7062675238762002, -0.07401541956921044, 0.02138595162231026, -0.15756756883150147, 0.20927150862345842, -0.10467481320593677, 0.20919368495975635, -0.023839595915486747, 0.9187545261333562, 0.030591522694105186, 0.0809211356656717, 0.01964959169878313, -0.04391950920174622, 0.04819157448228694, 0.004553953554282168, -0.04948127399506052]}, {\"customdata\": [[\"Proof-of-BibleHash\"]], \"hovertemplate\": \"<b>%{hovertext}</b><br><br>Class=%{marker.color}<br>PC 1=%{x}<br>PC 2=%{y}<br>PC 3=%{z}<br>Algorithm=%{customdata[0]}<extra></extra>\", \"hovertext\": [\"BiblePay\"], \"legendgroup\": \"1\", \"marker\": {\"color\": [1], \"coloraxis\": \"coloraxis\", \"symbol\": \"diamond\"}, \"mode\": \"markers\", \"name\": \"1\", \"scene\": \"scene\", \"showlegend\": true, \"type\": \"scatter3d\", \"x\": [1.4273445233904207], \"y\": [17.68919153050406], \"z\": [33.19131108576183]}, {\"customdata\": [[\"Proof-of-Authority\"]], \"hovertemplate\": \"<b>%{hovertext}</b><br><br>Class=%{marker.color}<br>PC 1=%{x}<br>PC 2=%{y}<br>PC 3=%{z}<br>Algorithm=%{customdata[0]}<extra></extra>\", \"hovertext\": [\"Poa Network\"], \"legendgroup\": \"3\", \"marker\": {\"color\": [3], \"coloraxis\": \"coloraxis\", \"symbol\": \"square\"}, \"mode\": \"markers\", \"name\": \"3\", \"scene\": \"scene\", \"showlegend\": true, \"type\": \"scatter3d\", \"x\": [0.2050777548669355], \"y\": [29.195743133437166], \"z\": [-21.652485408195233]}, {\"customdata\": [[\"TRC10\"]], \"hovertemplate\": \"<b>%{hovertext}</b><br><br>Class=%{marker.color}<br>PC 1=%{x}<br>PC 2=%{y}<br>PC 3=%{z}<br>Algorithm=%{customdata[0]}<extra></extra>\", \"hovertext\": [\"BitTorrent\"], \"legendgroup\": \"2\", \"marker\": {\"color\": [2], \"coloraxis\": \"coloraxis\", \"symbol\": \"x\"}, \"mode\": \"markers\", \"name\": \"2\", \"scene\": \"scene\", \"showlegend\": true, \"type\": \"scatter3d\", \"x\": [37.02069907556633], \"y\": [-3.4520016720436097], \"z\": [-2.4886030328166737]}],                        {\"coloraxis\": {\"colorbar\": {\"title\": {\"text\": \"Class\"}}, \"colorscale\": [[0.0, \"#0d0887\"], [0.1111111111111111, \"#46039f\"], [0.2222222222222222, \"#7201a8\"], [0.3333333333333333, \"#9c179e\"], [0.4444444444444444, \"#bd3786\"], [0.5555555555555556, \"#d8576b\"], [0.6666666666666666, \"#ed7953\"], [0.7777777777777778, \"#fb9f3a\"], [0.8888888888888888, \"#fdca26\"], [1.0, \"#f0f921\"]]}, \"legend\": {\"title\": {\"text\": \"Class\"}, \"tracegroupgap\": 0, \"x\": 0, \"y\": 1}, \"margin\": {\"t\": 60}, \"scene\": {\"domain\": {\"x\": [0.0, 1.0], \"y\": [0.0, 1.0]}, \"xaxis\": {\"title\": {\"text\": \"PC 1\"}}, \"yaxis\": {\"title\": {\"text\": \"PC 2\"}}, \"zaxis\": {\"title\": {\"text\": \"PC 3\"}}}, \"template\": {\"data\": {\"bar\": [{\"error_x\": {\"color\": \"#2a3f5f\"}, \"error_y\": {\"color\": \"#2a3f5f\"}, \"marker\": {\"line\": {\"color\": \"#E5ECF6\", \"width\": 0.5}}, \"type\": \"bar\"}], \"barpolar\": [{\"marker\": {\"line\": {\"color\": \"#E5ECF6\", \"width\": 0.5}}, \"type\": \"barpolar\"}], \"carpet\": [{\"aaxis\": {\"endlinecolor\": \"#2a3f5f\", \"gridcolor\": \"white\", \"linecolor\": \"white\", \"minorgridcolor\": \"white\", \"startlinecolor\": \"#2a3f5f\"}, \"baxis\": {\"endlinecolor\": \"#2a3f5f\", \"gridcolor\": \"white\", \"linecolor\": \"white\", \"minorgridcolor\": \"white\", \"startlinecolor\": \"#2a3f5f\"}, \"type\": \"carpet\"}], \"choropleth\": [{\"colorbar\": {\"outlinewidth\": 0, \"ticks\": \"\"}, \"type\": \"choropleth\"}], \"contour\": [{\"colorbar\": {\"outlinewidth\": 0, \"ticks\": \"\"}, \"colorscale\": [[0.0, \"#0d0887\"], [0.1111111111111111, \"#46039f\"], [0.2222222222222222, \"#7201a8\"], [0.3333333333333333, \"#9c179e\"], [0.4444444444444444, \"#bd3786\"], [0.5555555555555556, \"#d8576b\"], [0.6666666666666666, \"#ed7953\"], [0.7777777777777778, \"#fb9f3a\"], [0.8888888888888888, \"#fdca26\"], [1.0, \"#f0f921\"]], \"type\": \"contour\"}], \"contourcarpet\": [{\"colorbar\": {\"outlinewidth\": 0, \"ticks\": \"\"}, \"type\": \"contourcarpet\"}], \"heatmap\": [{\"colorbar\": {\"outlinewidth\": 0, \"ticks\": \"\"}, \"colorscale\": [[0.0, \"#0d0887\"], [0.1111111111111111, \"#46039f\"], [0.2222222222222222, \"#7201a8\"], [0.3333333333333333, \"#9c179e\"], [0.4444444444444444, \"#bd3786\"], [0.5555555555555556, \"#d8576b\"], [0.6666666666666666, \"#ed7953\"], [0.7777777777777778, \"#fb9f3a\"], [0.8888888888888888, \"#fdca26\"], [1.0, \"#f0f921\"]], \"type\": \"heatmap\"}], \"heatmapgl\": [{\"colorbar\": {\"outlinewidth\": 0, \"ticks\": \"\"}, \"colorscale\": [[0.0, \"#0d0887\"], [0.1111111111111111, \"#46039f\"], [0.2222222222222222, \"#7201a8\"], [0.3333333333333333, \"#9c179e\"], [0.4444444444444444, \"#bd3786\"], [0.5555555555555556, \"#d8576b\"], [0.6666666666666666, \"#ed7953\"], [0.7777777777777778, \"#fb9f3a\"], [0.8888888888888888, \"#fdca26\"], [1.0, \"#f0f921\"]], \"type\": \"heatmapgl\"}], \"histogram\": [{\"marker\": {\"colorbar\": {\"outlinewidth\": 0, \"ticks\": \"\"}}, \"type\": \"histogram\"}], \"histogram2d\": [{\"colorbar\": {\"outlinewidth\": 0, \"ticks\": \"\"}, \"colorscale\": [[0.0, \"#0d0887\"], [0.1111111111111111, \"#46039f\"], [0.2222222222222222, \"#7201a8\"], [0.3333333333333333, \"#9c179e\"], [0.4444444444444444, \"#bd3786\"], [0.5555555555555556, \"#d8576b\"], [0.6666666666666666, \"#ed7953\"], [0.7777777777777778, \"#fb9f3a\"], [0.8888888888888888, \"#fdca26\"], [1.0, \"#f0f921\"]], \"type\": \"histogram2d\"}], \"histogram2dcontour\": [{\"colorbar\": {\"outlinewidth\": 0, \"ticks\": \"\"}, \"colorscale\": [[0.0, \"#0d0887\"], [0.1111111111111111, \"#46039f\"], [0.2222222222222222, \"#7201a8\"], [0.3333333333333333, \"#9c179e\"], [0.4444444444444444, \"#bd3786\"], [0.5555555555555556, \"#d8576b\"], [0.6666666666666666, \"#ed7953\"], [0.7777777777777778, \"#fb9f3a\"], [0.8888888888888888, \"#fdca26\"], [1.0, \"#f0f921\"]], \"type\": \"histogram2dcontour\"}], \"mesh3d\": [{\"colorbar\": {\"outlinewidth\": 0, \"ticks\": \"\"}, \"type\": \"mesh3d\"}], \"parcoords\": [{\"line\": {\"colorbar\": {\"outlinewidth\": 0, \"ticks\": \"\"}}, \"type\": \"parcoords\"}], \"pie\": [{\"automargin\": true, \"type\": \"pie\"}], \"scatter\": [{\"marker\": {\"colorbar\": {\"outlinewidth\": 0, \"ticks\": \"\"}}, \"type\": \"scatter\"}], \"scatter3d\": [{\"line\": {\"colorbar\": {\"outlinewidth\": 0, \"ticks\": \"\"}}, \"marker\": {\"colorbar\": {\"outlinewidth\": 0, \"ticks\": \"\"}}, \"type\": \"scatter3d\"}], \"scattercarpet\": [{\"marker\": {\"colorbar\": {\"outlinewidth\": 0, \"ticks\": \"\"}}, \"type\": \"scattercarpet\"}], \"scattergeo\": [{\"marker\": {\"colorbar\": {\"outlinewidth\": 0, \"ticks\": \"\"}}, \"type\": \"scattergeo\"}], \"scattergl\": [{\"marker\": {\"colorbar\": {\"outlinewidth\": 0, \"ticks\": \"\"}}, \"type\": \"scattergl\"}], \"scattermapbox\": [{\"marker\": {\"colorbar\": {\"outlinewidth\": 0, \"ticks\": \"\"}}, \"type\": \"scattermapbox\"}], \"scatterpolar\": [{\"marker\": {\"colorbar\": {\"outlinewidth\": 0, \"ticks\": \"\"}}, \"type\": \"scatterpolar\"}], \"scatterpolargl\": [{\"marker\": {\"colorbar\": {\"outlinewidth\": 0, \"ticks\": \"\"}}, \"type\": \"scatterpolargl\"}], \"scatterternary\": [{\"marker\": {\"colorbar\": {\"outlinewidth\": 0, \"ticks\": \"\"}}, \"type\": \"scatterternary\"}], \"surface\": [{\"colorbar\": {\"outlinewidth\": 0, \"ticks\": \"\"}, \"colorscale\": [[0.0, \"#0d0887\"], [0.1111111111111111, \"#46039f\"], [0.2222222222222222, \"#7201a8\"], [0.3333333333333333, \"#9c179e\"], [0.4444444444444444, \"#bd3786\"], [0.5555555555555556, \"#d8576b\"], [0.6666666666666666, \"#ed7953\"], [0.7777777777777778, \"#fb9f3a\"], [0.8888888888888888, \"#fdca26\"], [1.0, \"#f0f921\"]], \"type\": \"surface\"}], \"table\": [{\"cells\": {\"fill\": {\"color\": \"#EBF0F8\"}, \"line\": {\"color\": \"white\"}}, \"header\": {\"fill\": {\"color\": \"#C8D4E3\"}, \"line\": {\"color\": \"white\"}}, \"type\": \"table\"}]}, \"layout\": {\"annotationdefaults\": {\"arrowcolor\": \"#2a3f5f\", \"arrowhead\": 0, \"arrowwidth\": 1}, \"coloraxis\": {\"colorbar\": {\"outlinewidth\": 0, \"ticks\": \"\"}}, \"colorscale\": {\"diverging\": [[0, \"#8e0152\"], [0.1, \"#c51b7d\"], [0.2, \"#de77ae\"], [0.3, \"#f1b6da\"], [0.4, \"#fde0ef\"], [0.5, \"#f7f7f7\"], [0.6, \"#e6f5d0\"], [0.7, \"#b8e186\"], [0.8, \"#7fbc41\"], [0.9, \"#4d9221\"], [1, \"#276419\"]], \"sequential\": [[0.0, \"#0d0887\"], [0.1111111111111111, \"#46039f\"], [0.2222222222222222, \"#7201a8\"], [0.3333333333333333, \"#9c179e\"], [0.4444444444444444, \"#bd3786\"], [0.5555555555555556, \"#d8576b\"], [0.6666666666666666, \"#ed7953\"], [0.7777777777777778, \"#fb9f3a\"], [0.8888888888888888, \"#fdca26\"], [1.0, \"#f0f921\"]], \"sequentialminus\": [[0.0, \"#0d0887\"], [0.1111111111111111, \"#46039f\"], [0.2222222222222222, \"#7201a8\"], [0.3333333333333333, \"#9c179e\"], [0.4444444444444444, \"#bd3786\"], [0.5555555555555556, \"#d8576b\"], [0.6666666666666666, \"#ed7953\"], [0.7777777777777778, \"#fb9f3a\"], [0.8888888888888888, \"#fdca26\"], [1.0, \"#f0f921\"]]}, \"colorway\": [\"#636efa\", \"#EF553B\", \"#00cc96\", \"#ab63fa\", \"#FFA15A\", \"#19d3f3\", \"#FF6692\", \"#B6E880\", \"#FF97FF\", \"#FECB52\"], \"font\": {\"color\": \"#2a3f5f\"}, \"geo\": {\"bgcolor\": \"white\", \"lakecolor\": \"white\", \"landcolor\": \"#E5ECF6\", \"showlakes\": true, \"showland\": true, \"subunitcolor\": \"white\"}, \"hoverlabel\": {\"align\": \"left\"}, \"hovermode\": \"closest\", \"mapbox\": {\"style\": \"light\"}, \"paper_bgcolor\": \"white\", \"plot_bgcolor\": \"#E5ECF6\", \"polar\": {\"angularaxis\": {\"gridcolor\": \"white\", \"linecolor\": \"white\", \"ticks\": \"\"}, \"bgcolor\": \"#E5ECF6\", \"radialaxis\": {\"gridcolor\": \"white\", \"linecolor\": \"white\", \"ticks\": \"\"}}, \"scene\": {\"xaxis\": {\"backgroundcolor\": \"#E5ECF6\", \"gridcolor\": \"white\", \"gridwidth\": 2, \"linecolor\": \"white\", \"showbackground\": true, \"ticks\": \"\", \"zerolinecolor\": \"white\"}, \"yaxis\": {\"backgroundcolor\": \"#E5ECF6\", \"gridcolor\": \"white\", \"gridwidth\": 2, \"linecolor\": \"white\", \"showbackground\": true, \"ticks\": \"\", \"zerolinecolor\": \"white\"}, \"zaxis\": {\"backgroundcolor\": \"#E5ECF6\", \"gridcolor\": \"white\", \"gridwidth\": 2, \"linecolor\": \"white\", \"showbackground\": true, \"ticks\": \"\", \"zerolinecolor\": \"white\"}}, \"shapedefaults\": {\"line\": {\"color\": \"#2a3f5f\"}}, \"ternary\": {\"aaxis\": {\"gridcolor\": \"white\", \"linecolor\": \"white\", \"ticks\": \"\"}, \"baxis\": {\"gridcolor\": \"white\", \"linecolor\": \"white\", \"ticks\": \"\"}, \"bgcolor\": \"#E5ECF6\", \"caxis\": {\"gridcolor\": \"white\", \"linecolor\": \"white\", \"ticks\": \"\"}}, \"title\": {\"x\": 0.05}, \"xaxis\": {\"automargin\": true, \"gridcolor\": \"white\", \"linecolor\": \"white\", \"ticks\": \"\", \"title\": {\"standoff\": 15}, \"zerolinecolor\": \"white\", \"zerolinewidth\": 2}, \"yaxis\": {\"automargin\": true, \"gridcolor\": \"white\", \"linecolor\": \"white\", \"ticks\": \"\", \"title\": {\"standoff\": 15}, \"zerolinecolor\": \"white\", \"zerolinewidth\": 2}}}, \"width\": 800},                        {\"responsive\": true}                    ).then(function(){\n",
       "                            \n",
       "var gd = document.getElementById('7154e3e3-1b76-47d4-afcd-f1a2b7b6c9a4');\n",
       "var x = new MutationObserver(function (mutations, observer) {{\n",
       "        var display = window.getComputedStyle(gd).display;\n",
       "        if (!display || display === 'none') {{\n",
       "            console.log([gd, 'removed!']);\n",
       "            Plotly.purge(gd);\n",
       "            observer.disconnect();\n",
       "        }}\n",
       "}});\n",
       "\n",
       "// Listen for the removal of the full notebook cells\n",
       "var notebookContainer = gd.closest('#notebook-container');\n",
       "if (notebookContainer) {{\n",
       "    x.observe(notebookContainer, {childList: true});\n",
       "}}\n",
       "\n",
       "// Listen for the clearing of the current output cell\n",
       "var outputEl = gd.closest('.output');\n",
       "if (outputEl) {{\n",
       "    x.observe(outputEl, {childList: true});\n",
       "}}\n",
       "\n",
       "                        })                };                });            </script>        </div>"
      ]
     },
     "metadata": {},
     "output_type": "display_data"
    }
   ],
   "source": [
    "# Create a 3D-Scatter with the PCA data and the clusters\n",
    "fig = px.scatter_3d(\n",
    "    clustered_df,\n",
    "    x=\"PC 1\",\n",
    "    y=\"PC 2\",\n",
    "    z=\"PC 3\",\n",
    "    color=\"Class\",\n",
    "    symbol=\"Class\",\n",
    "    hover_name=\"CoinName\",\n",
    "    hover_data= [\"Algorithm\"],\n",
    "    width=800,\n",
    ")\n",
    "fig.update_layout(legend=dict(x=0, y=1))\n",
    "fig.show()"
   ]
  },
  {
   "cell_type": "markdown",
   "metadata": {},
   "source": [
    "#### Table of Tradable Cryptocurrencies"
   ]
  },
  {
   "cell_type": "code",
   "execution_count": 147,
   "metadata": {},
   "outputs": [
    {
     "data": {},
     "metadata": {},
     "output_type": "display_data"
    },
    {
     "data": {
      "application/vnd.holoviews_exec.v0+json": "",
      "text/html": [
       "<div id='1405'>\n",
       "\n",
       "\n",
       "\n",
       "\n",
       "\n",
       "  <div class=\"bk-root\" id=\"4b6131e9-87ef-47f1-9776-1bbea446da03\" data-root-id=\"1405\"></div>\n",
       "</div>\n",
       "<script type=\"application/javascript\">(function(root) {\n",
       "  function embed_document(root) {\n",
       "  var docs_json = {\"fe285544-25dc-4645-8e9f-23a31525d3bf\":{\"roots\":{\"references\":[{\"attributes\":{\"margin\":[5,5,5,5],\"name\":\"HSpacer02228\",\"sizing_mode\":\"stretch_width\"},\"id\":\"1406\",\"type\":\"Spacer\"},{\"attributes\":{},\"id\":\"1435\",\"type\":\"IntEditor\"},{\"attributes\":{\"editor\":{\"id\":\"1410\"},\"field\":\"CoinName\",\"formatter\":{\"id\":\"1409\"},\"title\":\"CoinName\"},\"id\":\"1411\",\"type\":\"TableColumn\"},{\"attributes\":{},\"id\":\"1425\",\"type\":\"StringEditor\"},{\"attributes\":{},\"id\":\"1441\",\"type\":\"UnionRenderers\"},{\"attributes\":{\"editor\":{\"id\":\"1425\"},\"field\":\"TotalCoinSupply\",\"formatter\":{\"id\":\"1424\"},\"title\":\"TotalCoinSupply\"},\"id\":\"1426\",\"type\":\"TableColumn\"},{\"attributes\":{},\"id\":\"1434\",\"type\":\"NumberFormatter\"},{\"attributes\":{},\"id\":\"1414\",\"type\":\"StringFormatter\"},{\"attributes\":{\"format\":\"0,0.0[00000]\"},\"id\":\"1429\",\"type\":\"NumberFormatter\"},{\"attributes\":{},\"id\":\"1415\",\"type\":\"StringEditor\"},{\"attributes\":{\"editor\":{\"id\":\"1415\"},\"field\":\"Algorithm\",\"formatter\":{\"id\":\"1414\"},\"title\":\"Algorithm\"},\"id\":\"1416\",\"type\":\"TableColumn\"},{\"attributes\":{},\"id\":\"1408\",\"type\":\"Selection\"},{\"attributes\":{\"editor\":{\"id\":\"1430\"},\"field\":\"TotalCoinsMined\",\"formatter\":{\"id\":\"1429\"},\"title\":\"TotalCoinsMined\"},\"id\":\"1431\",\"type\":\"TableColumn\"},{\"attributes\":{\"data\":{\"Algorithm\":[\"Scrypt\",\"Scrypt\",\"X13\",\"SHA-256\",\"Ethash\",\"Scrypt\",\"X11\",\"CryptoNight-V7\",\"Ethash\",\"Equihash\",\"SHA-512\",\"Multiple\",\"SHA-256\",\"SHA-256\",\"Scrypt\",\"X15\",\"X11\",\"Scrypt\",\"Scrypt\",\"Scrypt\",\"Multiple\",\"Scrypt\",\"SHA-256\",\"Scrypt\",\"Scrypt\",\"Scrypt\",\"Quark\",\"Groestl\",\"Scrypt\",\"Scrypt\",\"Scrypt\",\"Scrypt\",\"Scrypt\",\"X11\",\"Scrypt\",\"Groestl\",\"Multiple\",\"SHA-256\",\"Scrypt\",\"Scrypt\",\"Scrypt\",\"Scrypt\",\"PoS\",\"Scrypt\",\"Scrypt\",\"NeoScrypt\",\"Scrypt\",\"Scrypt\",\"Scrypt\",\"Scrypt\",\"X11\",\"Scrypt\",\"X11\",\"SHA-256\",\"Scrypt\",\"Scrypt\",\"Scrypt\",\"SHA3\",\"Scrypt\",\"HybridScryptHash256\",\"Scrypt\",\"Scrypt\",\"SHA-256\",\"Scrypt\",\"X13\",\"Scrypt\",\"SHA-256\",\"Scrypt\",\"X13\",\"NeoScrypt\",\"Scrypt\",\"Scrypt\",\"Scrypt\",\"Scrypt\",\"Scrypt\",\"Scrypt\",\"X11\",\"X11\",\"SHA-256\",\"Multiple\",\"SHA-256\",\"PHI1612\",\"X11\",\"SHA-256\",\"SHA-256\",\"SHA-256\",\"X11\",\"Scrypt\",\"Scrypt\",\"Scrypt\",\"Scrypt\",\"Lyra2REv2\",\"Scrypt\",\"X11\",\"Multiple\",\"SHA-256\",\"X13\",\"Scrypt\",\"CryptoNight\",\"CryptoNight\",\"Shabal256\",\"Counterparty\",\"Scrypt\",\"SHA-256\",\"Groestl\",\"Scrypt\",\"Scrypt\",\"Scrypt\",\"X13\",\"Scrypt\",\"Scrypt\",\"Scrypt\",\"Scrypt\",\"X13\",\"Scrypt\",\"Stanford Folding\",\"X11\",\"Multiple\",\"QuBit\",\"Scrypt\",\"Scrypt\",\"Scrypt\",\"M7 POW\",\"Scrypt\",\"SHA-256\",\"Scrypt\",\"X11\",\"SHA3\",\"X11\",\"Lyra2RE\",\"SHA-256\",\"QUAIT\",\"X11\",\"X11\",\"Scrypt\",\"Scrypt\",\"Scrypt\",\"Ethash\",\"X13\",\"Blake2b\",\"SHA-256\",\"X15\",\"X11\",\"SHA-256\",\"BLAKE256\",\"Scrypt\",\"1GB AES Pattern Search\",\"SHA-256\",\"X11\",\"Scrypt\",\"SHA-256\",\"SHA-256\",\"NIST5\",\"Scrypt\",\"Scrypt\",\"X11\",\"Dagger\",\"Scrypt\",\"X11GOST\",\"X11\",\"Scrypt\",\"SHA-256\",\"Scrypt\",\"PoS\",\"Scrypt\",\"X11\",\"X11\",\"SHA-256\",\"SHA-256\",\"NIST5\",\"X11\",\"Scrypt\",\"POS 3.0\",\"Scrypt\",\"Scrypt\",\"Scrypt\",\"X13\",\"X11\",\"X11\",\"Equihash\",\"X11\",\"Scrypt\",\"CryptoNight\",\"SHA-256\",\"SHA-256\",\"X11\",\"Scrypt\",\"Multiple\",\"Scrypt\",\"Scrypt\",\"Scrypt\",\"SHA-256\",\"Scrypt\",\"Scrypt\",\"SHA-256D\",\"PoS\",\"Scrypt\",\"X11\",\"Lyra2Z\",\"PoS\",\"X13\",\"X14\",\"PoS\",\"SHA-256D\",\"Ethash\",\"Equihash\",\"DPoS\",\"X11\",\"Scrypt\",\"X11\",\"X13\",\"X11\",\"PoS\",\"Scrypt\",\"Scrypt\",\"X11\",\"PoS\",\"X11\",\"SHA-256\",\"Scrypt\",\"X11\",\"Scrypt\",\"Scrypt\",\"X11\",\"CryptoNight\",\"Scrypt\",\"Scrypt\",\"Scrypt\",\"Scrypt\",\"Quark\",\"QuBit\",\"Scrypt\",\"CryptoNight\",\"Lyra2RE\",\"Scrypt\",\"SHA-256\",\"X11\",\"Scrypt\",\"X11\",\"Scrypt\",\"CryptoNight-V7\",\"Scrypt\",\"Scrypt\",\"Scrypt\",\"X13\",\"X11\",\"Equihash\",\"Scrypt\",\"Scrypt\",\"Lyra2RE\",\"Scrypt\",\"Dagger-Hashimoto\",\"X11\",\"Blake2S\",\"X11\",\"Scrypt\",\"PoS\",\"X11\",\"NIST5\",\"PoS\",\"X11\",\"Scrypt\",\"Scrypt\",\"Scrypt\",\"SHA-256\",\"X11\",\"Scrypt\",\"Scrypt\",\"SHA-256\",\"PoS\",\"Scrypt\",\"X15\",\"SHA-256\",\"Scrypt\",\"POS 3.0\",\"CryptoNight-V7\",\"536\",\"Argon2d\",\"Blake2b\",\"Cloverhash\",\"CryptoNight\",\"NIST5\",\"X11\",\"NIST5\",\"Skein\",\"Scrypt\",\"X13\",\"Scrypt\",\"X11\",\"X11\",\"Scrypt\",\"CryptoNight\",\"X13\",\"Time Travel\",\"Scrypt\",\"Keccak\",\"SkunkHash v2 Raptor\",\"X11\",\"Skein\",\"SHA-256\",\"X11\",\"Scrypt\",\"VeChainThor Authority\",\"Scrypt\",\"PoS\",\"Scrypt\",\"Scrypt\",\"Scrypt\",\"Scrypt\",\"Scrypt\",\"Scrypt\",\"Scrypt\",\"CryptoNight\",\"SHA-512\",\"Ouroboros\",\"X11\",\"Equihash\",\"NeoScrypt\",\"X11\",\"Scrypt\",\"NeoScrypt\",\"Lyra2REv2\",\"Equihash\",\"Scrypt\",\"SHA-256\",\"NIST5\",\"PHI1612\",\"Dagger\",\"Scrypt\",\"Quark\",\"Scrypt\",\"POS 2.0\",\"Scrypt\",\"SHA-256\",\"X11\",\"NeoScrypt\",\"Ethash\",\"NeoScrypt\",\"X11\",\"DPoS\",\"NIST5\",\"X13\",\"Multiple\",\"Scrypt\",\"CryptoNight\",\"CryptoNight\",\"Ethash\",\"NIST5\",\"Quark\",\"X11\",\"CryptoNight-V7\",\"Scrypt\",\"Scrypt\",\"Scrypt\",\"X11\",\"BLAKE256\",\"X11\",\"NeoScrypt\",\"Quark\",\"NeoScrypt\",\"Scrypt\",\"Scrypt\",\"Scrypt\",\"X11\",\"X11\",\"SHA-256\",\"C11\",\"POS 3.0\",\"Ethash\",\"Scrypt\",\"CryptoNight\",\"SkunkHash\",\"Scrypt\",\"CryptoNight\",\"Scrypt\",\"Dagger\",\"Lyra2REv2\",\"X13\",\"Proof-of-BibleHash\",\"SHA-256 + Hive\",\"Scrypt\",\"Scrypt\",\"X11\",\"C11\",\"Proof-of-Authority\",\"X11\",\"XEVAN\",\"Scrypt\",\"VBFT\",\"Ethash\",\"CryptoNight\",\"Scrypt\",\"IMesh\",\"NIST5\",\"Scrypt\",\"Scrypt\",\"Equihash\",\"Scrypt\",\"Lyra2Z\",\"Green Protocol\",\"PoS\",\"Scrypt\",\"Semux BFT consensus\",\"X11\",\"Quark\",\"PoS\",\"CryptoNight\",\"X16R\",\"Scrypt\",\"NIST5\",\"Lyra2RE\",\"XEVAN\",\"Tribus\",\"Scrypt\",\"Lyra2Z\",\"CryptoNight\",\"CryptoNight Heavy\",\"CryptoNight\",\"Scrypt\",\"Scrypt\",\"Jump Consistent Hash\",\"SHA-256D\",\"CryptoNight\",\"Scrypt\",\"X15\",\"Scrypt\",\"Quark\",\"SHA-256\",\"DPoS\",\"X16R\",\"HMQ1725\",\"X11\",\"X16R\",\"Quark\",\"Quark\",\"Scrypt\",\"Lyra2REv2\",\"Quark\",\"Scrypt\",\"Scrypt\",\"CryptoNight-V7\",\"Cryptonight-GPU\",\"XEVAN\",\"CryptoNight Heavy\",\"X11\",\"X11\",\"Scrypt\",\"PoS\",\"SHA-256\",\"Keccak\",\"X11\",\"X11\",\"Scrypt\",\"SHA-512\",\"X16R\",\"ECC 256K1\",\"Equihash\",\"XEVAN\",\"Lyra2Z\",\"SHA-256\",\"XEVAN\",\"X11\",\"CryptoNight\",\"Quark\",\"Blake\",\"Blake\",\"Equihash\",\"Exosis\",\"Scrypt\",\"Scrypt\",\"Equihash\",\"Quark\",\"Equihash\",\"Quark\",\"Scrypt\",\"QuBit\",\"X11\",\"Scrypt\",\"XEVAN\",\"SHA-256D\",\"X11\",\"SHA-256\",\"X13\",\"SHA-256\",\"X11\",\"DPoS\",\"Scrypt\",\"Scrypt\",\"X11\",\"NeoScrypt\",\"Scrypt\",\"Blake\",\"Scrypt\",\"SHA-256\",\"Scrypt\",\"X11\",\"Scrypt\",\"Scrypt\",\"SHA-256\",\"X11\",\"SHA-256\",\"Scrypt\",\"Scrypt\",\"Scrypt\",\"Groestl\",\"X11\",\"Scrypt\",\"PoS\",\"Scrypt\",\"Scrypt\",\"X11\",\"SHA-256\",\"DPoS\",\"Scrypt\",\"Scrypt\",\"NeoScrypt\",\"SHA3-256\",\"Multiple\",\"X13\",\"Equihash+Scrypt\",\"DPoS\",\"Ethash\",\"DPoS\",\"SHA-256\",\"Leased POS\",\"PoS\",\"TRC10\",\"PoS\",\"SHA-256\",\"Scrypt\",\"CryptoNight\",\"Equihash\",\"Scrypt\"],\"Class\":{\"__ndarray__\":\"AAAAAAAAAAAAAAAAAAAAAAAAAAAAAAAAAAAAAAAAAAAAAAAAAAAAAAAAAAAAAAAAAAAAAAAAAAAAAAAAAAAAAAAAAAAAAAAAAAAAAAAAAAAAAAAAAAAAAAAAAAAAAAAAAAAAAAAAAAAAAAAAAAAAAAAAAAAAAAAAAAAAAAAAAAAAAAAAAAAAAAAAAAAAAAAAAAAAAAAAAAAAAAAAAAAAAAAAAAAAAAAAAAAAAAAAAAAAAAAAAAAAAAAAAAAAAAAAAAAAAAAAAAAAAAAAAAAAAAAAAAAAAAAAAAAAAAAAAAAAAAAAAAAAAAAAAAAAAAAAAAAAAAAAAAAAAAAAAAAAAAAAAAAAAAAAAAAAAAAAAAAAAAAAAAAAAAAAAAAAAAAAAAAAAAAAAAAAAAAAAAAAAAAAAAAAAAAAAAAAAAAAAAAAAAAAAAAAAAAAAAAAAAAAAAAAAAAAAAAAAAAAAAAAAAAAAAAAAAAAAAAAAAAAAAAAAAAAAAAAAAAAAAAAAAAAAAAAAAAAAAAAAAAAAAAAAAAAAAAAAAAAAAAAAAAAAAAAAAAAAAAAAAAAAAAAAAAAAAAAAAAAAAAAAAAAAAAAAAAAAAAAAAAAAAAAAAAAAAAAAAAAAAAAAAAAAAAAAAAAAAAAAAAAAAAAAAAAAAAAAAAAAAAAAAAAAAAAAAAAAAAAAAAAAAAAAAAAAAAAAAAAAAAAAAAAAAAAAAAAAAAAAAAAAAAAAAAAAAAAAAAAAAAAAAAAAAAAAAAAAAAAAAAAAAAAAAAAAAAAAAAAAAAAAAAAAAAAAAAAAAAAAAAAAAAAAAAAAAAAAAAAAAAAAAAAAAAAAAAAAAAAAAAAAAAAAAAAAAAAAAAAAAAAAAAAAAAAAAAAAAAAAAAAAAAAAAAAAAAAAAAAAAAAAAAAAAAAAAAAAAAAAAAAAAAAAAAAAAAAAAAAAAAAAAAAAAAAAAAAAAAAAAAAAAAAAAAAAAAAAAAAAAAAAAAAAAAAAAAAAAAAAAAAAAAAAAAAAAAAAAAAAAAAAAAAAAAAAAAAAAAAAAAAAAAAAAAAAAAAAAAAAAAAAAAAAAAAAAAAAAAAAAAAAAAAAAAAAAAAAAAAAAAAAAAAAAAAAAAAAAAAAAAAAAAAAAAAAAAAAAAAAAAAAAAAAAAAAAAAAAAAAAAAAAAAAAAAAAAAAAAAAAAAAAAAAAAAAAAAAAAAAAAAAAAAAAAAAAAAAAAAAAAAAAAAAAAAAAAAAAAAAAAAAAAAAAAAAAAAAAAAAAAAAAAAAAAAAAAAAAAAAAAAAAAAAAAAAAAAAAAAAAAAAAAAAAAAAAAAAAAAAAAAAAAAAAAAAAAAAAAAAAAAAAAAAAAAAAAAAAAAAAAAAAAAAAAAAAAAAAAAAAAAAAAAAAAAAAAAAAAAAAAAAAAAAAAAAAAAAAAAAAAAAAAAAAAAAAAAAAAAAAAAAAAAAAAAAAAAAAAAAAAAAAAAAAAAAAAAAAAAAAAAAAAAAAAAAAAAAAAAAAAAAAAAAAAAAAAAAAAAAAAAAAAAAAAAAAAAAAAAAAAAAAAAAAAAAAAAAAAAAAAAAAAAAAAAAAAAAAAAAAAAAAAAAAAAAAAAAAAAAAAAAAAAAAAAAAAAAAAAAAAAAAAAAAAAAAAAAAAAAAAAAAAAAAAAAAAAAAAAAAAAAAAAAAAAAAAAAAAAAAAAAAAAAAAAAAAAAAAAAAAAAAAAAAAAAAAAAAAAAAAAAAAAAAAAAAAAAAAAAAAAAAAAAAAAAAAAAAAAAAAAAAAAAAAAAAAAAAAAAAAAAAAAAAAAAAAAAAAAAAAAAAAAAAAAAAAAAAAAAAAAAAAAAAAAAAAAAAAAAAAAAAAAAAAAAAAAAAAAAAAAAAAAAAAAAAAAAAAAAAAAAAAAAAAAAAAAAAAAAAAAAAAAAAAAAAAAAAAAAAAAAAAAAAAAAAAAAAAAAAAAAAAAAAAAAAAAAAAAAAAAAAAAAAAAAAAAAAAAAAAAAAAAAAAAAAAAAAAAAAAAAAAAAAAAAQAAAAAAAAAAAAAAAAAAAAAAAAAAAAAAAwAAAAAAAAAAAAAAAAAAAAAAAAAAAAAAAAAAAAAAAAAAAAAAAAAAAAAAAAAAAAAAAAAAAAAAAAAAAAAAAAAAAAAAAAAAAAAAAAAAAAAAAAAAAAAAAAAAAAAAAAAAAAAAAAAAAAAAAAAAAAAAAAAAAAAAAAAAAAAAAAAAAAAAAAAAAAAAAAAAAAAAAAAAAAAAAAAAAAAAAAAAAAAAAAAAAAAAAAAAAAAAAAAAAAAAAAAAAAAAAAAAAAAAAAAAAAAAAAAAAAAAAAAAAAAAAAAAAAAAAAAAAAAAAAAAAAAAAAAAAAAAAAAAAAAAAAAAAAAAAAAAAAAAAAAAAAAAAAAAAAAAAAAAAAAAAAAAAAAAAAAAAAAAAAAAAAAAAAAAAAAAAAAAAAAAAAAAAAAAAAAAAAAAAAAAAAAAAAAAAAAAAAAAAAAAAAAAAAAAAAAAAAAAAAAAAAAAAAAAAAAAAAAAAAAAAAAAAAAAAAAAAAAAAAAAAAAAAAAAAAAAAAAAAAAAAAAAAAAAAAAAAAAAAAAAAAAAAAAAAAAAAAAAAAAAAAAAAAAAAAAAAAAAAAAAAAAAAAAAAAAAAAAAAAAAAAAAAAAAAAAAAAAAAAAAAAAAAAAAAAAAAAAAAAAAAAAAAAAAAAAAAAAAAAAAAAAAAAAAAAAAAAAAAAAAAAAAAAAAAAAAAAAAAAAAAAAAAAAAAAAAAAAAAAAAAAAAAAAAAAAAAAAAAAAAAAAAAAAAAAAAAAAAAAAAAAAAAAIAAAAAAAAAAAAAAAAAAAAAAAAAAAAAAAAAAAA=\",\"dtype\":\"int32\",\"order\":\"little\",\"shape\":[533]},\"CoinName\":[\"42 Coin\",\"404Coin\",\"EliteCoin\",\"Bitcoin\",\"Ethereum\",\"Litecoin\",\"Dash\",\"Monero\",\"Ethereum Classic\",\"ZCash\",\"Bitshares\",\"DigiByte\",\"BitcoinDark\",\"PayCoin\",\"ProsperCoin\",\"KoboCoin\",\"Spreadcoin\",\"Argentum\",\"Aurora Coin\",\"BlueCoin\",\"MyriadCoin\",\"MoonCoin\",\"ZetaCoin\",\"SexCoin\",\"Quatloo\",\"EnergyCoin\",\"QuarkCoin\",\"Riecoin\",\"Digitalcoin \",\"BitBar\",\"Catcoin\",\"CryptoBullion\",\"CannaCoin\",\"CryptCoin\",\"CasinoCoin\",\"Diamond\",\"Verge\",\"DevCoin\",\"EarthCoin\",\"E-Gulden\",\"Einsteinium\",\"Emerald\",\"Exclusive Coin\",\"FlutterCoin\",\"Franko\",\"FeatherCoin\",\"GrandCoin\",\"GlobalCoin\",\"GoldCoin\",\"HoboNickels\",\"HyperStake\",\"Infinite Coin\",\"IOCoin\",\"IXcoin\",\"KrugerCoin\",\"LuckyCoin\",\"Litebar \",\"MaxCoin\",\"MegaCoin\",\"MediterraneanCoin\",\"MintCoin\",\"MinCoin\",\"MazaCoin\",\"Nautilus Coin\",\"NavCoin\",\"NobleCoin\",\"Namecoin\",\"NyanCoin\",\"OpalCoin\",\"Orbitcoin\",\"PotCoin\",\"PhoenixCoin\",\"Reddcoin\",\"RonPaulCoin\",\"StableCoin\",\"SmartCoin\",\"SuperCoin\",\"SyncCoin\",\"SysCoin\",\"TeslaCoin\",\"TigerCoin\",\"TittieCoin\",\"TorCoin\",\"TerraCoin\",\"UnbreakableCoin\",\"Unobtanium\",\"UroCoin\",\"UnitaryStatus Dollar\",\"UltraCoin\",\"ViaCoin\",\"VeriCoin\",\"Vertcoin\",\"WorldCoin\",\"X11 Coin\",\"Crypti\",\"JouleCoin\",\"StealthCoin\",\"ZCC Coin\",\"ByteCoin\",\"DigitalNote \",\"BurstCoin\",\"StorjCoin\",\"MonaCoin\",\"Neutron\",\"FairCoin\",\"Gulden\",\"RubyCoin\",\"PesetaCoin\",\"Kore\",\"Wild Beast Coin\",\"Dnotes\",\"Flo\",\"8BIT Coin\",\"Sativa Coin\",\"ArtByte\",\"Folding Coin\",\"Ucoin\",\"Unitus\",\"CypherPunkCoin\",\"OmniCron\",\"Vtorrent\",\"GreenCoin\",\"Cryptonite\",\"MasterCoin\",\"SoonCoin\",\"1Credit\",\"IslaCoin\",\"Nexus\",\"MarsCoin \",\"Crypto\",\"Anarchists Prime\",\"Droidz\",\"BowsCoin\",\"Squall Coin\",\"Song Coin\",\"BitZeny\",\"Diggits\",\"Expanse\",\"Paycon\",\"Siacoin\",\"Emercoin\",\"EverGreenCoin\",\"MindCoin\",\"I0coin\",\"Decred\",\"Revolution VR\",\"HOdlcoin\",\"EDRCoin\",\"Hitcoin\",\"Gamecredits\",\"DubaiCoin\",\"CarpeDiemCoin\",\"PWR Coin\",\"BillaryCoin\",\"GPU Coin\",\"Adzcoin\",\"SoilCoin\",\"YoCoin\",\"SibCoin\",\"EuropeCoin\",\"ZeitCoin\",\"SwingCoin\",\"SafeExchangeCoin\",\"Nebuchadnezzar\",\"Francs\",\"BolivarCoin\",\"Ratecoin\",\"Revenu\",\"Clockcoin\",\"VIP Tokens\",\"BitSend\",\"Omni\",\"Let it Ride\",\"PutinCoin\",\"iBankCoin\",\"Frankywillcoin\",\"MudraCoin\",\"PizzaCoin\",\"Lutetium Coin\",\"Komodo\",\"GoldBlocks\",\"CarterCoin\",\"Karbo\",\"BitTokens\",\"ZayedCoin\",\"MustangCoin\",\"ZoneCoin\",\"Circuits of Value\",\"RootCoin\",\"DopeCoin\",\"BitCurrency\",\"DollarCoin\",\"Swiscoin\",\"Shilling\",\"BuzzCoin\",\"Opair\",\"PesoBit\",\"Halloween Coin\",\"ZCoin\",\"CoffeeCoin\",\"RoyalCoin\",\"GanjaCoin V2\",\"TeamUP\",\"LanaCoin\",\"Elementrem\",\"ZClassic\",\"ARK\",\"InsaneCoin\",\"KiloCoin\",\"ArtexCoin\",\"EmberCoin\",\"XenixCoin\",\"FreeCoin\",\"PLNCoin\",\"AquariusCoin\",\"Kurrent\",\"Creatio\",\"Eternity\",\"Eurocoin\",\"BitcoinFast\",\"Stakenet\",\"BitConnect Coin\",\"MoneyCoin\",\"Enigma\",\"Cannabis Industry Coin\",\"Russiacoin\",\"PandaCoin\",\"GameUnits\",\"GAKHcoin\",\"Allsafe\",\"LiteCreed\",\"OsmiumCoin\",\"Bikercoins\",\"HexxCoin\",\"Klingon Empire Darsek\",\"Internet of People\",\"KushCoin\",\"Printerium\",\"PacCoin\",\"Impeach\",\"Citadel\",\"Zilbercoin\",\"FirstCoin\",\"BeaverCoin\",\"FindCoin\",\"VaultCoin\",\"Zero\",\"OpenChat\",\"Canada eCoin\",\"Zoin\",\"RenosCoin\",\"DubaiCoin\",\"VirtacoinPlus\",\"TajCoin\",\"Impact\",\"EB3coin\",\"Atmos\",\"HappyCoin\",\"Coinonat\",\"MacronCoin\",\"Condensate\",\"Independent Money System\",\"ArgusCoin\",\"LomoCoin\",\"ProCurrency\",\"GoldReserve\",\"BenjiRolls\",\"GrowthCoin\",\"ILCoin\",\"Phreak\",\"Degas Coin\",\"HTML5 Coin\",\"Ultimate Secure Cash\",\"EquiTrader\",\"QTUM\",\"Quantum Resistant Ledger\",\"Espers\",\"Dynamic\",\"Nano\",\"ChanCoin\",\"Dinastycoin\",\"Denarius\",\"DigitalPrice\",\"Virta Unique Coin\",\"Bitcoin Planet\",\"Unify\",\"BritCoin\",\"SocialCoin\",\"ArcticCoin\",\"DAS\",\"Linda\",\"LeviarCoin\",\"DeepOnion\",\"Bitcore\",\"gCn Coin\",\"SmartCash\",\"Signatum\",\"Onix\",\"Cream\",\"Bitcoin Cash\",\"Monoeci\",\"Draftcoin\",\"Vechain\",\"Sojourn Coin\",\"Stakecoin\",\"NewYorkCoin\",\"FrazCoin\",\"Kronecoin\",\"AdCoin\",\"Linx\",\"CoinonatX\",\"Ethereum Dark\",\"Sumokoin\",\"Obsidian\",\"Cardano\",\"Regalcoin\",\"BitcoinZ\",\"TrezarCoin\",\"Elements\",\"TerraNovaCoin\",\"VIVO Coin\",\"Rupee\",\"Bitcoin Gold\",\"WomenCoin\",\"Theresa May Coin\",\"NamoCoin\",\"LUXCoin\",\"Pirl\",\"Xios\",\"Bitcloud 2.0\",\"eBoost\",\"KekCoin\",\"BlackholeCoin\",\"Infinity Economics\",\"Pura\",\"Innova\",\"Ellaism\",\"GoByte\",\"Magnet\",\"Lamden Tau\",\"Electra\",\"Bitcoin Diamond\",\"SHIELD\",\"Cash & Back Coin\",\"UltraNote\",\"BitCoal\",\"DaxxCoin\",\"Bulwark\",\"Kalkulus\",\"AC3\",\"Lethean\",\"GermanCoin\",\"LiteCoin Ultra\",\"PopularCoin\",\"PhantomX\",\"Photon\",\"Sucre\",\"SparksPay\",\"Digiwage\",\"GunCoin\",\"IrishCoin\",\"Trollcoin\",\"Litecoin Plus\",\"Monkey Project\",\"Pioneer Coin\",\"UnitedBitcoin\",\"Interzone\",\"TokenPay\",\"1717 Masonic Commemorative Token\",\"My Big Coin\",\"TurtleCoin\",\"MUNcoin\",\"Unified Society USDEX\",\"Niobio Cash\",\"ShareChain\",\"Travelflex\",\"KREDS\",\"Tokyo Coin\",\"BiblePay\",\"LitecoinCash\",\"BitFlip\",\"LottoCoin\",\"Crypto Improvement Fund\",\"Stipend\",\"Poa Network\",\"Pushi\",\"Ellerium\",\"Velox\",\"Ontology\",\"Callisto Network\",\"BitTube\",\"Poseidon\",\"Aidos Kuneen\",\"Bitspace\",\"Briacoin\",\"Ignition\",\"Bitrolium\",\"MedicCoin\",\"Alpenschillling\",\"Bitcoin Green\",\"Deviant Coin\",\"Abjcoin\",\"Semux\",\"FuturoCoin\",\"Carebit\",\"Zealium\",\"Monero Classic\",\"Proton\",\"iDealCash\",\"Jumpcoin\",\"Infinex\",\"Bitcoin Incognito\",\"KEYCO\",\"HollyWoodCoin\",\"GINcoin\",\"PlatinCoin\",\"Loki\",\"Newton Coin\",\"Swisscoin\",\"Xt3ch\",\"MassGrid\",\"TheVig\",\"PluraCoin\",\"EmaratCoin\",\"Dekado\",\"Lynx\",\"Poseidon Quark\",\"BitcoinWSpectrum\",\"Muse\",\"Motion\",\"PlusOneCoin\",\"Axe\",\"Trivechain\",\"Dystem\",\"Giant\",\"Peony Coin\",\"Absolute Coin\",\"Vitae\",\"HexCoin\",\"TPCash\",\"Webchain\",\"Ryo\",\"Urals Coin\",\"Qwertycoin\",\"ARENON\",\"EUNO\",\"MMOCoin\",\"Ketan\",\"Project Pai\",\"XDNA\",\"PAXEX\",\"Azart\",\"ThunderStake\",\"Kcash\",\"Xchange\",\"Acute Angle Cloud\",\"CrypticCoin\",\"Bettex coin\",\"Actinium\",\"Bitcoin SV\",\"BitMoney\",\"Junson Ming Chan Coin\",\"FREDEnergy\",\"HerbCoin\",\"Universal Molecule\",\"Lithium\",\"PirateCash\",\"Exosis\",\"Block-Logic\",\"Oduwa\",\"Beam\",\"Galilel\",\"Bithereum\",\"Crypto Sports\",\"Credit\",\"SLICE\",\"Dash Platinum\",\"Nasdacoin\",\"Beetle Coin\",\"Titan Coin\",\"Award\",\"BLAST\",\"Bitcoin Rhodium\",\"GlobalToken\",\"Insane Coin\",\"ALAX\",\"LiteDoge\",\"SolarCoin\",\"TruckCoin\",\"UFO Coin\",\"OrangeCoin\",\"BlakeCoin\",\"BitstarCoin\",\"NeosCoin\",\"HyperCoin\",\"PinkCoin\",\"Crypto Escudo\",\"AudioCoin\",\"IncaKoin\",\"Piggy Coin\",\"Crown Coin\",\"Genstake\",\"SmileyCoin\",\"XiaoMiCoin\",\"Groestlcoin\",\"CapriCoin\",\" ClubCoin\",\"Radium\",\"Bata\",\"Pakcoin\",\"Creditbit \",\"OKCash\",\"Lisk\",\"HiCoin\",\"WhiteCoin\",\"FriendshipCoin\",\"Fiii\",\"JoinCoin\",\"Triangles Coin\",\"Vollar\",\"EOS\",\"Reality Clash\",\"Oxycoin\",\"TigerCash\",\"Waves\",\"Particl\",\"BitTorrent\",\"Nxt\",\"ZEPHYR\",\"Gapcoin\",\"Beldex\",\"Horizen\",\"BitcoinPlus\"],\"ProofType\":[\"PoW/PoS\",\"PoW/PoS\",\"PoW/PoS\",\"PoW\",\"PoW\",\"PoW\",\"PoW/PoS\",\"PoW\",\"PoW\",\"PoW\",\"PoS\",\"PoW\",\"PoW/PoS\",\"PoS\",\"PoW\",\"PoW/PoS\",\"PoW\",\"PoW\",\"PoW/PoS\",\"PoW/PoS\",\"PoW\",\"PoW\",\"PoW\",\"PoW\",\"PoW\",\"PoW/PoS\",\"PoW\",\"PoW\",\"PoW\",\"PoW/PoS\",\"PoW\",\"PoW/PoS\",\"PoW\",\"PoW\",\"PoC\",\"PoW/PoS\",\"PoW\",\"PoW\",\"PoW\",\"PoW\",\"PoW\",\"PoW\",\"PoS\",\"PoS/PoW/PoT\",\"PoW\",\"PoW\",\"PoW\",\"PoW\",\"PoW\",\"PoW/PoS\",\"PoS\",\"PoW\",\"PoW/PoS\",\"PoW\",\"PoW\",\"PoW\",\"PoW\",\"PoW/PoS\",\"PoW\",\"PoW\",\"PoS\",\"PoW\",\"PoW/PoS\",\"PoS\",\"PoW/PoS\",\"PoW\",\"PoW\",\"PoW\",\"PoW/PoS\",\"PoW/PoS\",\"PoW/PoS\",\"PoW/PoS\",\"PoW/PoS\",\"PoW\",\"PoW\",\"PoW\",\"PoS\",\"PoW/PoS\",\"PoW\",\"PoS\",\"PoW\",\"PoS\",\"PoW/PoS\",\"PoW\",\"PoW\",\"PoW\",\"PoW\",\"PoW/PoS\",\"PoW/PoS\",\"PoW\",\"PoST\",\"PoW\",\"PoW\",\"PoW/PoS\",\"PoS\",\"PoW\",\"PoW/PoS\",\"PoW/PoS\",\"PoW\",\"PoW\",\"PoC\",\"PoS\",\"PoW\",\"PoW/PoS\",\"PoW/PoS\",\"PoW\",\"PoS\",\"PoW\",\"PoW/PoS\",\"PoW\",\"PoS\",\"PoW\",\"PoW/PoS\",\"PoW/PoS\",\"PoW\",\"PoW\",\"PoS\",\"PoW\",\"PoW\",\"PoW\",\"PoW/PoS\",\"PoW\",\"PoW\",\"PoW\",\"PoW\",\"PoW\",\"PoW/PoS\",\"PoW/nPoS\",\"PoW\",\"PoW\",\"PoW\",\"PoW/PoS\",\"PoW\",\"PoS/PoW\",\"PoW\",\"PoW\",\"PoS\",\"PoW\",\"PoW/PoS\",\"PoW\",\"PoW/PoS\",\"PoW/PoS\",\"PoW\",\"PoW\",\"PoW/PoS\",\"PoW\",\"PoW\",\"PoW/PoS\",\"PoW/PoS\",\"PoW\",\"PoW/PoS\",\"PoW\",\"PoW/PoS\",\"PoW/PoS\",\"PoS\",\"PoW\",\"PoW\",\"PoW\",\"PoW\",\"PoW/PoS\",\"PoS\",\"PoW/PoS\",\"PoC\",\"PoS\",\"PoW\",\"PoW\",\"PoW/PoS\",\"PoW/PoS\",\"PoW/PoS\",\"PoW/PoS\",\"PoW/PoS\",\"PoW\",\"PoS\",\"PoW/PoS\",\"PoW/PoS\",\"PoW/PoS\",\"PoS\",\"PoW\",\"PoS\",\"dPoW/PoW\",\"PoW/PoS\",\"PoW/PoS\",\"PoW\",\"PoW/PoS\",\"PoW\",\"PoW/PoS\",\"PoW/PoS\",\"PoW\",\"PoW/PoS\",\"PoW\",\"PoS\",\"PoW\",\"PoW/PoW\",\"PoW\",\"PoW/PoS\",\"PoS\",\"PoW/PoS\",\"PoW/PoS\",\"PoW\",\"PoS\",\"PoS\",\"PoW/PoS\",\"PoS\",\"PoW/PoS\",\"PoW\",\"PoW\",\"DPoS\",\"PoW/PoS\",\"PoW\",\"PoW\",\"PoW/PoS\",\"PoW/PoS\",\"PoS\",\"PoW/PoS\",\"PoW/PoS\",\"PoW\",\"PoS\",\"PoW/PoS\",\"PoW/PoS\",\"PoW/PoS\",\"TPoS\",\"PoW/PoS\",\"PoW/PoS\",\"PoW/PoS\",\"PoW\",\"PoW/PoS\",\"PoS\",\"PoW/PoS\",\"PoW/PoS\",\"PoS\",\"PoW/PoS\",\"PoW\",\"PoW\",\"PoW\",\"PoW/PoS\",\"PoW/PoS\",\"PoW/PoS\",\"PoW/PoS\",\"PoW\",\"PoW/PoS\",\"PoW\",\"PoS\",\"PoW/PoS \",\"PoW\",\"PoS\",\"PoW\",\"PoW\",\"PoW/PoS\",\"PoW\",\"PoW\",\"PoS\",\"PoW\",\"PoW/PoS\",\"PoW/PoS\",\"PoW/PoS\",\"PoW\",\"PoS\",\"PoW/PoS\",\"PoW\",\"PoS\",\"PoW/PoS\",\"PoW/PoS\",\"PoW/PoS\",\"PoW/PoS\",\"PoS\",\"PoW/PoS\",\"PoW\",\"PoS\",\"PoW\",\"PoS\",\"PoW/PoS\",\"PoW/PoS\",\"PoS\",\"PoW\",\"PoS\",\"PoW\",\"PoW/PoS\",\"PoW\",\"PoW\",\"PoW\",\"PoW\",\"PoW/PoS\",\"PoW\",\"PoW/PoS\",\"PoW/PoS\",\"PoW\",\"PoW/PoS\",\"PoW\",\"PoW\",\"PoW\",\"PoW/PoS\",\"PoW\",\"PoW/PoS\",\"PoW\",\"PoW\",\"PoW\",\"PoS\",\"PoW\",\"PoW/PoS\",\"PoW\",\"PoW/PoS\",\"PoS\",\"Proof of Authority\",\"PoW\",\"PoS\",\"PoW\",\"PoW\",\"PoW\",\"PoW\",\"PoW\",\"PoW/PoS\",\"PoW/PoS\",\"PoW\",\"PoS\",\"PoS\",\"PoW/PoS\",\"PoW\",\"PoW/PoS\",\"PoW\",\"PoW/PoS\",\"PoW\",\"PoS\",\"PoW\",\"PoW/PoS\",\"PoW/PoS\",\"PoW/PoS\",\"PoW/PoS\",\"PoW\",\"PoW/PoS\",\"PoW/PoS\",\"PoW\",\"PoS\",\"PoW/PoS\",\"PoS\",\"PoW\",\"PoW\",\"PoW\",\"PoW\",\"PoW/PoS\",\"DPoS\",\"PoW/PoS\",\"PoW/PoS\",\"PoW\",\"PoW/PoS\",\"PoW\",\"PoW\",\"PoW\",\"PoS\",\"PoS\",\"PoW\",\"PoW\",\"PoW/PoS\",\"PoW/PoS\",\"PoW\",\"PoW/PoS\",\"PoW\",\"PoW\",\"PoW\",\"PoS\",\"PoW\",\"PoW\",\"PoW/PoS\",\"PoW/PoS\",\"PoS\",\"PoW\",\"PoW\",\"PoW\",\"PoS\",\"PoS\",\"PoW and PoS\",\"PoW\",\"PoW\",\"PoW/PoS\",\"PoW\",\"PoW\",\"PoW\",\"PoW\",\"PoS\",\"POBh\",\"PoW + Hive\",\"PoW\",\"PoW\",\"PoW\",\"PoW/PoS\",\"PoA\",\"PoW/PoS\",\"PoW/PoS\",\"PoS\",\"PoS\",\"PoW\",\"PoW\",\"PoW\",\"PoW\",\"PoW/PoS\",\"PoW/PoS\",\"PoW/PoS\",\"PoW\",\"PoS\",\"PoW\",\"PoS\",\"PoS\",\"PoW/PoS\",\"DPoS\",\"PoW\",\"PoW/PoS\",\"PoS\",\"PoW\",\"PoS\",\"PoW/PoS\",\"PoW\",\"PoW\",\"PoS/PoW\",\"PoW\",\"PoS\",\"PoW\",\"PoW\",\"PoW\",\"PoW\",\"PoW/PoS\",\"PoS\",\"PoW\",\"PoW/PoS\",\"PoW\",\"PoW/PoS\",\"PoS\",\"HPoW\",\"PoS\",\"PoS\",\"PoS\",\"PoW\",\"PoW\",\"PoW\",\"PoW/PoS\",\"PoS\",\"PoW/PoS\",\"PoS\",\"PoW/PoS\",\"PoS\",\"PoW\",\"PoW/PoS\",\"PoW\",\"PoW\",\"PoW\",\"PoW\",\"PoS\",\"PoW/PoS\",\"PoS\",\"PoS\",\"PoW\",\"PoW/PoS\",\"PoS\",\"PoW\",\"PoW/PoS\",\"Zero-Knowledge Proof\",\"PoW\",\"DPOS\",\"PoW\",\"PoS\",\"PoW\",\"PoW\",\"Pos\",\"PoS\",\"PoW\",\"PoW/PoS\",\"PoW\",\"PoW\",\"PoS\",\"PoW\",\"PoW\",\"PoW/PoS\",\"PoW\",\"PoW/PoS\",\"PoW\",\"PoS\",\"PoW/PoS\",\"PoW\",\"PoS\",\"PoW/PoS\",\"PoW/PoS\",\"PoW/PoS\",\"PoW/PoS\",\"PoW\",\"PoW\",\"PoW\",\"PoW/PoS\",\"DPoS\",\"PoW/PoS\",\"PoW\",\"PoW/PoS\",\"PoW\",\"PoW/PoS\",\"PoW\",\"PoW/PoS\",\"PoS\",\"PoW/PoS\",\"PoW/PoS\",\"PoW\",\"PoW/PoS\",\"PoW/PoS\",\"PoW/PoS\",\"PoW\",\"PoW/PoS\",\"PoW\",\"PoW/PoS\",\"PoW\",\"PoW/PoS\",\"PoW/PoS\",\"PoS\",\"PoW\",\"PoW\",\"Proof of Trust\",\"PoW/PoS\",\"DPoS\",\"PoS\",\"PoW/PoS\",\"PoW/PoS\",\"DPoC\",\"PoW\",\"PoW/PoS\",\"PoW\",\"DPoS\",\"PoW\",\"DPoS\",\"PoS\",\"LPoS\",\"PoS\",\"DPoS\",\"PoS/LPoS\",\"DPoS\",\"PoW/PoS\",\"PoW\",\"PoW\",\"PoS\"],\"TotalCoinSupply\":[\"42\",\"532000000\",\"314159265359\",\"21000000\",\"0\",\"84000000\",\"22000000\",\"0\",\"210000000\",\"21000000\",\"3600570502\",\"21000000000\",\"22000000\",\"12500000\",\"21000000\",\"350000000\",\"20000000\",\"64000000\",\"16768584\",\"0\",\"2000000000\",\"384000000000\",\"169795588\",\"250000000\",\"100000000\",\"0\",\"247000000\",\"84000000\",\"48166000\",\"500000\",\"21000000 \",\"1000000\",\"13140000\",\"18000000\",\"40000000000\",\"4380000\",\"16555000000\",\"21000000000\",\"13500000000\",\"21000000 \",\"299792458\",\"32000000\",\"0\",\"0\",\"11235813\",\"336000000\",\"1420609614\",\"70000000\",\"72245700\",\"120000000\",\"0\",\"90600000000\",\"22000000\",\"21000000\",\"265420800\",\"20000000\",\"1350000\",\"100000000\",\"42000000\",\"200000000\",\"0\",\"10000000\",\"2419200000\",\"16180000\",\"0\",\"15000000000\",\"21000000\",\"337000000\",\"0\",\"3770000\",\"420000000\",\"98000000\",\"0\",\"21000000\",\"250000000\",\"51200000\",\"0\",\"1000\",\"888000000\",\"100000000\",\"47011968\",\"2300000000\",\"10000000\",\"42000000\",\"80000000\",\"250000\",\"0\",\"1600000000\",\"100000000\",\"23000000\",\"0\",\"84000000\",\"265420800\",\"5500000\",\"0\",\"45000000\",\"0\",\"1000000000\",\"184467440735\",\"10000000000\",\"2158812800\",\"500000000\",\"105120000\",\"68000000\",\"0\",\"1680000000\",\"0\",\"166386000\",\"12000000\",\"2628000\",\"500000000\",\"160000000\",\"0\",\"10000000\",\"1000000000\",\"1000000000\",\"20000000\",\"0\",\"0\",\"3371337\",\"20000000\",\"10000000000\",\"1840000000\",\"619478\",\"21000000\",\"92000000000\",\"0\",\"78000000\",\"33000000\",\"65789100\",\"53760000\",\"5060000\",\"21000000\",\"0\",\"210240000\",\"250000000\",\"100000000\",\"16906397\",\"50000000\",\"0\",\"1000000000\",\"26298000\",\"16000000\",\"21000000\",\"21000000\",\"210000000\",\"81962100\",\"22000000\",\"26550000000\",\"84000000\",\"10500000\",\"21626280000 \",\"0\",\"42000000\",\"221052632\",\"84000000\",\"30000000\",\"168351300\",\"24000000\",\"384000000\",\" 99000000000\",\"40000000\",\"2147483647\",\"20000000\",\"20000000\",\"25000000\",\"75000000\",\"222725000\",\"525000000\",\"90000000\",\"139000000\",\"616448\",\"33500000\",\"2000000000\",\"44333333\",\"100000000\",\"200000000\",\"25000000\",\"657000000\",\"200000000\",\"50000000\",\"90000000\",\"10000000\",\"21000000\",\"9736000\",\"3000000\",\"21000000\",\"1200000000\",\"0\",\"200000000\",\"0\",\"10638298\",\"3100000000\",\"30000000\",\"20000000000\",\"74000000\",\"0\",\"1500000000\",\"21400000\",\"39999898\",\"2500124\",\"100000000\",\"301000000\",\"7506000000\",\"26205539\",\"21000000\",\"125000000\",\"30000000\",\"10000000000\",\"500000000\",\"850000000\",\"3853326.77707314\",\"50000000\",\"38540000 \",\"42000000\",\"228000000\",\"20000000\",\"60000000\",\"20000000\",\"33000000\",\"76500000\",\"28000000\",\"650659833\",\"5000000\",\"21000000\",\"144000000\",\"32514916898\",\"13000000\",\"3315789\",\"15000000\",\"78835200\",\"2714286\",\"25000000\",\"9999999\",\"500000000\",\"21000000\",\"9354000\",\"20000000\",\"100000000000\",\"21933333\",\"185000000\",\"55000000\",\"110000000\",\"3360000\",\"14524851.4827\",\"1000000000\",\"17000000\",\"1000000000\",\"100000000 \",\"21000000\",\"34426423\",\"2232901\",\"100000000\",\"36900000\",\"110000000\",\"4000000000\",\"110290030\",\"100000000\",\"48252000\",\"400000000\",\"500000000\",\"21212121\",\"28600000\",\"1000000000\",\"75000000000\",\"40000000\",\"35520400\",\"2000000000\",\"2500000000\",\"30000000\",\"105000000\",\"90000000000\",\"200084200\",\"72000000\",\"100000000\",\"105000000\",\"50000000000\",\"0\",\"340282367\",\"30000000\",\"2000000000\",\"10000000\",\"100000000\",\"120000000\",\"100000000\",\"19276800\",\"30000000\",\" 75000000\",\"60000000\",\"18900000\",\"50000000000\",\"54000000\",\"18898187.6216583\",\"21000000\",\"200000000000\",\"5000000000\",\"137500000\",\"1100000000\",\"100000000\",\"21000000\",\"9507271\",\"17405891.19707116\",\"86712634466\",\"10500000000\",\"61599965\",\"0\",\"20000000\",\"84000000\",\"100000000\",\"100000000\",\"48252000\",\"4200000\",\"88888888\",\"91388946\",\"45000000000\",\"27000000\",\"21000000000\",\"400000000\",\"1800000000\",\"15733333\",\"27000000\",\"24000000\",\"21000000\",\"25000000000\",\"100000000\",\"1200000000\",\"60000000\",\"156306732.71\",\"21000000\",\"200000000\",\"100000000\",\"21000000\",\"14788275.991\",\"9000000000\",\"350000000\",\"45000000\",\"280000000\",\"31800000\",\"144000000\",\"500000000\",\"30000000000\",\"210000000\",\"660000000\",\"210000000\",\"85000000000\",\"12500000\",\"10000000000\",\"27716121\",\"20000000\",\"550000000\",\"999481516\",\"50000000000\",\"150000000\",\"4999999999\",\"50000000\",\" 90000000000\",\"19800000\",\"21000000\",\"120000000\",\"500000000\",\"64000000\",\"900000000\",\"4000000\",\"21000000\",\"23000000\",\"20166000\",\"23000000\",\"25000000\",\"1618033\",\"30000000\",\"1000000000000\",\"16600000\",\"232000000\",\"336000000\",\"10000000000\",\"100000000\",\"1100000000\",\"800000000\",\"5200000000\",\"840000000\",\"40000000\",\"18406979840\",\"500000000\",\"19340594\",\"252460800\",\"25000000\",\"60000000\",\"124000000\",\"1000000000\",\"6500000000\",\"1000000000\",\"21000000\",\"25000000\",\"50000000\",\"3000000\",\"5000000\",\"70000000\",\"500000000\",\"300000000\",\"21000000\",\"88000000\",\"30000000\",\"100000000\",\"100000000\",\"200000000\",\"80000000\",\"18400000\",\"45000000\",\"5121951220\",\"21000000\",\"26280000\",\"21000000\",\"18000000\",\"26000000\",\"10500000\",\"600000518\",\"150000000\",\"184000000000\",\"10200000000\",\"44000000\",\"168000000\",\"100000000\",\"1000000000\",\"84000000\",\"90000000\",\"92000000000\",\"650000000 \",\"100262205\",\"18081806 \",\"22075700\",\"21000000\",\"21000000\",\"82546564\",\"21000000\",\"5151000\",\"16880000000\",\"52500000\",\"100000000\",\"22105263\",\"1000000000\",\"1750000000\",\"88188888\",\"210000000\",\"184470000000\",\"55000000\",\"50000000\",\"260000000\",\"210000000\",\"2100000000\",\"366000000\",\"100000000\",\"25000000\",\"18000000000\",\"1000000000\",\"100000000\",\"1000000000\",\"7600000000\",\"50000000\",\"84000000\",\"21000000\",\"70000000000\",\"0\",\"8080000000\",\"54000000\",\"105120001.44\",\"25228800\",\"105000000\",\"21000000\",\"120000000\",\"21000000\",\"262800000\",\"19035999\",\"30886000\",\"13370000\",\"74800000000\",\"100000000\",\"19700000\",\"84000000\",\"500000000\",\"5000000000\",\"420000000\",\"64000000\",\"2100000\",\"168000000\",\"30000000\",\"1000000000\",\"35000000000\",\"98100000000\",\"0\",\"4000000000\",\"200000000\",\"7000000000\",\"54256119\",\"21000000\",\"0\",\"500000000\",\"1000000000\",\"10500000000\",\"190000000\",\"1000000000\",\"42000000\",\"15000000\",\"50000000000\",\"400000000\",\"105000000\",\"208000000\",\"160000000\",\"9000000\",\"5000000\",\"182000000\",\"16504333\",\"105000000\",\"159918400\",\"10008835635\",\"300000000\",\"60168145\",\"5000000000\",\"2800000\",\"120000\",\"2100000000\",\"0\",\"24487944\",\"0\",\"1000000000\",\"100000000\",\"8634140\",\"990000000000\",\"1000000000\",\"2000000000\",\"250000000\",\"1400222610\",\"21000000\",\"1000000\"],\"TotalCoinsMined\":{\"__ndarray__\":\"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\",\"dtype\":\"float64\",\"order\":\"little\",\"shape\":[533]}},\"selected\":{\"id\":\"1408\"},\"selection_policy\":{\"id\":\"1441\"}},\"id\":\"1407\",\"type\":\"ColumnDataSource\"},{\"attributes\":{\"margin\":[5,5,5,5],\"name\":\"HSpacer02229\",\"sizing_mode\":\"stretch_width\"},\"id\":\"1445\",\"type\":\"Spacer\"},{\"attributes\":{},\"id\":\"1419\",\"type\":\"StringFormatter\"},{\"attributes\":{},\"id\":\"1430\",\"type\":\"NumberEditor\"},{\"attributes\":{\"source\":{\"id\":\"1407\"}},\"id\":\"1440\",\"type\":\"CDSView\"},{\"attributes\":{\"columns\":[{\"id\":\"1411\"},{\"id\":\"1416\"},{\"id\":\"1421\"},{\"id\":\"1426\"},{\"id\":\"1431\"},{\"id\":\"1436\"}],\"height\":300,\"reorderable\":false,\"source\":{\"id\":\"1407\"},\"view\":{\"id\":\"1440\"},\"width\":700},\"id\":\"1439\",\"type\":\"DataTable\"},{\"attributes\":{\"children\":[{\"id\":\"1406\"},{\"id\":\"1439\"},{\"id\":\"1445\"}],\"margin\":[0,0,0,0],\"name\":\"Row02224\",\"tags\":[\"embedded\"]},\"id\":\"1405\",\"type\":\"Row\"},{\"attributes\":{},\"id\":\"1420\",\"type\":\"StringEditor\"},{\"attributes\":{\"editor\":{\"id\":\"1435\"},\"field\":\"Class\",\"formatter\":{\"id\":\"1434\"},\"title\":\"Class\"},\"id\":\"1436\",\"type\":\"TableColumn\"},{\"attributes\":{},\"id\":\"1410\",\"type\":\"StringEditor\"},{\"attributes\":{\"editor\":{\"id\":\"1420\"},\"field\":\"ProofType\",\"formatter\":{\"id\":\"1419\"},\"title\":\"ProofType\"},\"id\":\"1421\",\"type\":\"TableColumn\"},{\"attributes\":{},\"id\":\"1409\",\"type\":\"StringFormatter\"},{\"attributes\":{},\"id\":\"1424\",\"type\":\"StringFormatter\"}],\"root_ids\":[\"1405\"]},\"title\":\"Bokeh Application\",\"version\":\"2.1.1\"}};\n",
       "  var render_items = [{\"docid\":\"fe285544-25dc-4645-8e9f-23a31525d3bf\",\"root_ids\":[\"1405\"],\"roots\":{\"1405\":\"4b6131e9-87ef-47f1-9776-1bbea446da03\"}}];\n",
       "  root.Bokeh.embed.embed_items_notebook(docs_json, render_items);\n",
       "  }\n",
       "if (root.Bokeh !== undefined) {\n",
       "    embed_document(root);\n",
       "  } else {\n",
       "    var attempts = 0;\n",
       "    var timer = setInterval(function(root) {\n",
       "      if (root.Bokeh !== undefined) {\n",
       "        clearInterval(timer);\n",
       "        embed_document(root);\n",
       "      } else if (document.readyState == \"complete\") {\n",
       "        attempts++;\n",
       "        if (attempts > 100) {\n",
       "          clearInterval(timer);\n",
       "          console.log(\"Bokeh: ERROR: Unable to run BokehJS code because BokehJS library is missing\");\n",
       "        }\n",
       "      }\n",
       "    }, 10, root)\n",
       "  }\n",
       "})(window);</script>"
      ],
      "text/plain": [
       ":Table   [CoinName,Algorithm,ProofType,TotalCoinSupply,TotalCoinsMined,Class]"
      ]
     },
     "execution_count": 147,
     "metadata": {
      "application/vnd.holoviews_exec.v0+json": {
       "id": "1405"
      }
     },
     "output_type": "execute_result"
    }
   ],
   "source": [
    "# Table with tradable cryptos\n",
    "columns= [\"CoinName\", \"Algorithm\", \"ProofType\", \"TotalCoinSupply\", \"TotalCoinsMined\", \"Class\"]\n",
    "clustered_df.hvplot.table(columns)"
   ]
  },
  {
   "cell_type": "code",
   "execution_count": 166,
   "metadata": {},
   "outputs": [
    {
     "name": "stdout",
     "output_type": "stream",
     "text": [
      "Total number of tradable cryptocurrencies: 533\n"
     ]
    }
   ],
   "source": [
    "# Print the total number of tradable cryptocurrencies\n",
    "count_trading = coin_name.count()\n",
    "print(f\"Total number of tradable cryptocurrencies: {count_trading}\")"
   ]
  },
  {
   "cell_type": "markdown",
   "metadata": {},
   "source": [
    "#### Scatter Plot with Tradable Cryptocurrencies"
   ]
  },
  {
   "cell_type": "code",
   "execution_count": 168,
   "metadata": {},
   "outputs": [],
   "source": [
    "# Scale data to create the scatter plot\n",
    "clustered_df[\"TotalCoinsMined\"]= clustered_df[\"TotalCoinsMined\"].astype(float)/100000000\n",
    "clustered_df[\"TotalCoinSupply\"]= clustered_df[\"TotalCoinSupply\"].astype(float)/100000000"
   ]
  },
  {
   "cell_type": "code",
   "execution_count": 171,
   "metadata": {},
   "outputs": [
    {
     "data": {},
     "metadata": {},
     "output_type": "display_data"
    },
    {
     "data": {
      "application/vnd.holoviews_exec.v0+json": "",
      "text/html": [
       "<div id='2437'>\n",
       "\n",
       "\n",
       "\n",
       "\n",
       "\n",
       "  <div class=\"bk-root\" id=\"6dcadeb4-a0ff-4a04-af62-86d8d7ae57f6\" data-root-id=\"2437\"></div>\n",
       "</div>\n",
       "<script type=\"application/javascript\">(function(root) {\n",
       "  function embed_document(root) {\n",
       "  var docs_json = {\"ac252c0d-32b6-487a-9740-c7f9e0ad7204\":{\"roots\":{\"references\":[{\"attributes\":{},\"id\":\"2483\",\"type\":\"BasicTicker\"},{\"attributes\":{\"axis\":{\"id\":\"2451\"},\"grid_line_color\":null,\"ticker\":null},\"id\":\"2454\",\"type\":\"Grid\"},{\"attributes\":{\"children\":[{\"id\":\"2438\"},{\"id\":\"2442\"},{\"id\":\"2508\"}],\"margin\":[0,0,0,0],\"name\":\"Row04539\",\"tags\":[\"embedded\"]},\"id\":\"2437\",\"type\":\"Row\"},{\"attributes\":{\"fill_color\":{\"field\":\"color\",\"transform\":{\"id\":\"2472\"}},\"line_color\":{\"field\":\"color\",\"transform\":{\"id\":\"2472\"}},\"size\":{\"units\":\"screen\",\"value\":5.477225575051661},\"x\":{\"field\":\"TotalCoinsMined\"},\"y\":{\"field\":\"TotalCoinSupply\"}},\"id\":\"2476\",\"type\":\"Scatter\"},{\"attributes\":{\"data\":{\"Class\":{\"__ndarray__\":\"AAAAAAAAAAAAAAAAAAAAAAAAAAAAAAAAAAAAAAAAAAAAAAAAAAAAAAAAAAAAAAAAAAAAAAAAAAAAAAAAAAAAAAAAAAAAAAAAAAAAAAAAAAAAAAAAAAAAAAAAAAAAAAAAAAAAAAAAAAAAAAAAAAAAAAAAAAAAAAAAAAAAAAAAAAAAAAAAAAAAAAAAAAAAAAAAAAAAAAAAAAAAAAAAAAAAAAAAAAAAAAAAAAAAAAAAAAAAAAAAAAAAAAAAAAAAAAAAAAAAAAAAAAAAAAAAAAAAAAAAAAAAAAAAAAAAAAAAAAAAAAAAAAAAAAAAAAAAAAAAAAAAAAAAAAAAAAAAAAAAAAAAAAAAAAAAAAAAAAAAAAAAAAAAAAAAAAAAAAAAAAAAAAAAAAAAAAAAAAAAAAAAAAAAAAAAAAAAAAAAAAAAAAAAAAAAAAAAAAAAAAAAAAAAAAAAAAAAAAAAAAAAAAAAAAAAAAAAAAAAAAAAAAAAAAAAAAAAAAAAAAAAAAAAAAAAAAAAAAAAAAAAAAAAAAAAAAAAAAAAAAAAAAAAAAAAAAAAAAAAAAAAAAAAAAAAAAAAAAAAAAAAAAAAAAAAAAAAAAAAAAAAAAAAAAAAAAAAAAAAAAAAAAAAAAAAAAAAAAAAAAAAAAAAAAAAAAAAAAAAAAAAAAAAAAAAAAAAAAAAAAAAAAAAAAAAAAAAAAAAAAAAAAAAAAAAAAAAAAAAAAAAAAAAAAAAAAAAAAAAAAAAAAAAAAAAAAAAAAAAAAAAAAAAAAAAAAAAAAAAAAAAAAAAAAAAAAAAAAAAAAAAAAAAAAAAAAAAAAAAAAAAAAAAAAAAAAAAAAAAAAAAAAAAAAAAAAAAAAAAAAAAAAAAAAAAAAAAAAAAAAAAAAAAAAAAAAAAAAAAAAAAAAAAAAAAAAAAAAAAAAAAAAAAAAAAAAAAAAAAAAAAAAAAAAAAAAAAAAAAAAAAAAAAAAAAAAAAAAAAAAAAAAAAAAAAAAAAAAAAAAAAAAAAAAAAAAAAAAAAAAAAAAAAAAAAAAAAAAAAAAAAAAAAAAAAAAAAAAAAAAAAAAAAAAAAAAAAAAAAAAAAAAAAAAAAAAAAAAAAAAAAAAAAAAAAAAAAAAAAAAAAAAAAAAAAAAAAAAAAAAAAAAAAAAAAAAAAAAAAAAAAAAAAAAAAAAAAAAAAAAAAAAAAAAAAAAAAAAAAAAAAAAAAAAAAAAAAAAAAAAAAAAAAAAAAAAAAAAAAAAAAAAAAAAAAAAAAAAAAAAAAAAAAAAAAAAAAAAAAAAAAAAAAAAAAAAAAAAAAAAAAAAAAAAAAAAAAAAAAAAAAAAAAAAAAAAAAAAAAAAAAAAAAAAAAAAAAAAAAAAAAAAAAAAAAAAAAAAAAAAAAAAAAAAAAAAAAAAAAAAAAAAAAAAAAAAAAAAAAAAAAAAAAAAAAAAAAAAAAAAAAAAAAAAAAAAAAAAAAAAAAAAAAAAAAAAAAAAAAAAAAAAAAAAAAAAAAAAAAAAAAAAAAAAAAAAAAAAAAAAAAAAAAAAAAAAAAAAAAAAAAAAAAAAAAAAAAAAAAAAAAAAAAAAAAAAAAAAAAAAAAAAAAAAAAAAAAAAAAAAAAAAAAAAAAAAAAAAAAAAAAAAAAAAAAAAAAAAAAAAAAAAAAAAAAAAAAAAAAAAAAAAAAAAAAAAAAAAAAAAAAAAAAAAAAAAAAAAAAAAAAAAAAAAAAAAAAAAAAAAAAAAAAAAAAAAAAAAAAAAAAAAAAAAAAAAAAAAAAAAAAAAAAAAAAAAAAAAAAAAAAAAAAAAAAAAAAAAAAAAAAAAAAAAAAAAAAAAAAAAAAAAAAAAAAAAAAAAAAAAAAAAAAAAAAAAAAAAAAAAAAAAAAAAAAAAAAAAAAAAAAAAAAAAAAAAAAAAAAAAAAAAAAAAAAAAAAAAAAAAAAAAAAAAAAAAAAAAAAAAAAAAAAAAAAAAAAAAAAAAAAAAAAAAAAAAAAAAAAAAAAAAAAAAAAAAAAAAAAAAAAAAAAAAAAAAAAAQAAAAAAAAAAAAAAAAAAAAAAAAAAAAAAAwAAAAAAAAAAAAAAAAAAAAAAAAAAAAAAAAAAAAAAAAAAAAAAAAAAAAAAAAAAAAAAAAAAAAAAAAAAAAAAAAAAAAAAAAAAAAAAAAAAAAAAAAAAAAAAAAAAAAAAAAAAAAAAAAAAAAAAAAAAAAAAAAAAAAAAAAAAAAAAAAAAAAAAAAAAAAAAAAAAAAAAAAAAAAAAAAAAAAAAAAAAAAAAAAAAAAAAAAAAAAAAAAAAAAAAAAAAAAAAAAAAAAAAAAAAAAAAAAAAAAAAAAAAAAAAAAAAAAAAAAAAAAAAAAAAAAAAAAAAAAAAAAAAAAAAAAAAAAAAAAAAAAAAAAAAAAAAAAAAAAAAAAAAAAAAAAAAAAAAAAAAAAAAAAAAAAAAAAAAAAAAAAAAAAAAAAAAAAAAAAAAAAAAAAAAAAAAAAAAAAAAAAAAAAAAAAAAAAAAAAAAAAAAAAAAAAAAAAAAAAAAAAAAAAAAAAAAAAAAAAAAAAAAAAAAAAAAAAAAAAAAAAAAAAAAAAAAAAAAAAAAAAAAAAAAAAAAAAAAAAAAAAAAAAAAAAAAAAAAAAAAAAAAAAAAAAAAAAAAAAAAAAAAAAAAAAAAAAAAAAAAAAAAAAAAAAAAAAAAAAAAAAAAAAAAAAAAAAAAAAAAAAAAAAAAAAAAAAAAAAAAAAAAAAAAAAAAAAAAAAAAAAAAAAAAAAAAAAAAAAAAAAAAAAAAAAAAAAAAAAAAAAAAAAAAAAAAAAAAAAAAAAAAAAAAAAAAAAIAAAAAAAAAAAAAAAAAAAAAAAAAAAAAAAAAAAA=\",\"dtype\":\"int32\",\"order\":\"little\",\"shape\":[533]},\"CoinName\":[\"42 Coin\",\"404Coin\",\"EliteCoin\",\"Bitcoin\",\"Ethereum\",\"Litecoin\",\"Dash\",\"Monero\",\"Ethereum Classic\",\"ZCash\",\"Bitshares\",\"DigiByte\",\"BitcoinDark\",\"PayCoin\",\"ProsperCoin\",\"KoboCoin\",\"Spreadcoin\",\"Argentum\",\"Aurora Coin\",\"BlueCoin\",\"MyriadCoin\",\"MoonCoin\",\"ZetaCoin\",\"SexCoin\",\"Quatloo\",\"EnergyCoin\",\"QuarkCoin\",\"Riecoin\",\"Digitalcoin \",\"BitBar\",\"Catcoin\",\"CryptoBullion\",\"CannaCoin\",\"CryptCoin\",\"CasinoCoin\",\"Diamond\",\"Verge\",\"DevCoin\",\"EarthCoin\",\"E-Gulden\",\"Einsteinium\",\"Emerald\",\"Exclusive Coin\",\"FlutterCoin\",\"Franko\",\"FeatherCoin\",\"GrandCoin\",\"GlobalCoin\",\"GoldCoin\",\"HoboNickels\",\"HyperStake\",\"Infinite Coin\",\"IOCoin\",\"IXcoin\",\"KrugerCoin\",\"LuckyCoin\",\"Litebar \",\"MaxCoin\",\"MegaCoin\",\"MediterraneanCoin\",\"MintCoin\",\"MinCoin\",\"MazaCoin\",\"Nautilus Coin\",\"NavCoin\",\"NobleCoin\",\"Namecoin\",\"NyanCoin\",\"OpalCoin\",\"Orbitcoin\",\"PotCoin\",\"PhoenixCoin\",\"Reddcoin\",\"RonPaulCoin\",\"StableCoin\",\"SmartCoin\",\"SuperCoin\",\"SyncCoin\",\"SysCoin\",\"TeslaCoin\",\"TigerCoin\",\"TittieCoin\",\"TorCoin\",\"TerraCoin\",\"UnbreakableCoin\",\"Unobtanium\",\"UroCoin\",\"UnitaryStatus Dollar\",\"UltraCoin\",\"ViaCoin\",\"VeriCoin\",\"Vertcoin\",\"WorldCoin\",\"X11 Coin\",\"Crypti\",\"JouleCoin\",\"StealthCoin\",\"ZCC Coin\",\"ByteCoin\",\"DigitalNote \",\"BurstCoin\",\"StorjCoin\",\"MonaCoin\",\"Neutron\",\"FairCoin\",\"Gulden\",\"RubyCoin\",\"PesetaCoin\",\"Kore\",\"Wild Beast Coin\",\"Dnotes\",\"Flo\",\"8BIT Coin\",\"Sativa Coin\",\"ArtByte\",\"Folding Coin\",\"Ucoin\",\"Unitus\",\"CypherPunkCoin\",\"OmniCron\",\"Vtorrent\",\"GreenCoin\",\"Cryptonite\",\"MasterCoin\",\"SoonCoin\",\"1Credit\",\"IslaCoin\",\"Nexus\",\"MarsCoin \",\"Crypto\",\"Anarchists Prime\",\"Droidz\",\"BowsCoin\",\"Squall Coin\",\"Song Coin\",\"BitZeny\",\"Diggits\",\"Expanse\",\"Paycon\",\"Siacoin\",\"Emercoin\",\"EverGreenCoin\",\"MindCoin\",\"I0coin\",\"Decred\",\"Revolution VR\",\"HOdlcoin\",\"EDRCoin\",\"Hitcoin\",\"Gamecredits\",\"DubaiCoin\",\"CarpeDiemCoin\",\"PWR Coin\",\"BillaryCoin\",\"GPU Coin\",\"Adzcoin\",\"SoilCoin\",\"YoCoin\",\"SibCoin\",\"EuropeCoin\",\"ZeitCoin\",\"SwingCoin\",\"SafeExchangeCoin\",\"Nebuchadnezzar\",\"Francs\",\"BolivarCoin\",\"Ratecoin\",\"Revenu\",\"Clockcoin\",\"VIP Tokens\",\"BitSend\",\"Omni\",\"Let it Ride\",\"PutinCoin\",\"iBankCoin\",\"Frankywillcoin\",\"MudraCoin\",\"PizzaCoin\",\"Lutetium Coin\",\"Komodo\",\"GoldBlocks\",\"CarterCoin\",\"Karbo\",\"BitTokens\",\"ZayedCoin\",\"MustangCoin\",\"ZoneCoin\",\"Circuits of Value\",\"RootCoin\",\"DopeCoin\",\"BitCurrency\",\"DollarCoin\",\"Swiscoin\",\"Shilling\",\"BuzzCoin\",\"Opair\",\"PesoBit\",\"Halloween Coin\",\"ZCoin\",\"CoffeeCoin\",\"RoyalCoin\",\"GanjaCoin V2\",\"TeamUP\",\"LanaCoin\",\"Elementrem\",\"ZClassic\",\"ARK\",\"InsaneCoin\",\"KiloCoin\",\"ArtexCoin\",\"EmberCoin\",\"XenixCoin\",\"FreeCoin\",\"PLNCoin\",\"AquariusCoin\",\"Kurrent\",\"Creatio\",\"Eternity\",\"Eurocoin\",\"BitcoinFast\",\"Stakenet\",\"BitConnect Coin\",\"MoneyCoin\",\"Enigma\",\"Cannabis Industry Coin\",\"Russiacoin\",\"PandaCoin\",\"GameUnits\",\"GAKHcoin\",\"Allsafe\",\"LiteCreed\",\"OsmiumCoin\",\"Bikercoins\",\"HexxCoin\",\"Klingon Empire Darsek\",\"Internet of People\",\"KushCoin\",\"Printerium\",\"PacCoin\",\"Impeach\",\"Citadel\",\"Zilbercoin\",\"FirstCoin\",\"BeaverCoin\",\"FindCoin\",\"VaultCoin\",\"Zero\",\"OpenChat\",\"Canada eCoin\",\"Zoin\",\"RenosCoin\",\"DubaiCoin\",\"VirtacoinPlus\",\"TajCoin\",\"Impact\",\"EB3coin\",\"Atmos\",\"HappyCoin\",\"Coinonat\",\"MacronCoin\",\"Condensate\",\"Independent Money System\",\"ArgusCoin\",\"LomoCoin\",\"ProCurrency\",\"GoldReserve\",\"BenjiRolls\",\"GrowthCoin\",\"ILCoin\",\"Phreak\",\"Degas Coin\",\"HTML5 Coin\",\"Ultimate Secure Cash\",\"EquiTrader\",\"QTUM\",\"Quantum Resistant Ledger\",\"Espers\",\"Dynamic\",\"Nano\",\"ChanCoin\",\"Dinastycoin\",\"Denarius\",\"DigitalPrice\",\"Virta Unique Coin\",\"Bitcoin Planet\",\"Unify\",\"BritCoin\",\"SocialCoin\",\"ArcticCoin\",\"DAS\",\"Linda\",\"LeviarCoin\",\"DeepOnion\",\"Bitcore\",\"gCn Coin\",\"SmartCash\",\"Signatum\",\"Onix\",\"Cream\",\"Bitcoin Cash\",\"Monoeci\",\"Draftcoin\",\"Vechain\",\"Sojourn Coin\",\"Stakecoin\",\"NewYorkCoin\",\"FrazCoin\",\"Kronecoin\",\"AdCoin\",\"Linx\",\"CoinonatX\",\"Ethereum Dark\",\"Sumokoin\",\"Obsidian\",\"Cardano\",\"Regalcoin\",\"BitcoinZ\",\"TrezarCoin\",\"Elements\",\"TerraNovaCoin\",\"VIVO Coin\",\"Rupee\",\"Bitcoin Gold\",\"WomenCoin\",\"Theresa May Coin\",\"NamoCoin\",\"LUXCoin\",\"Pirl\",\"Xios\",\"Bitcloud 2.0\",\"eBoost\",\"KekCoin\",\"BlackholeCoin\",\"Infinity Economics\",\"Pura\",\"Innova\",\"Ellaism\",\"GoByte\",\"Magnet\",\"Lamden Tau\",\"Electra\",\"Bitcoin Diamond\",\"SHIELD\",\"Cash & Back Coin\",\"UltraNote\",\"BitCoal\",\"DaxxCoin\",\"Bulwark\",\"Kalkulus\",\"AC3\",\"Lethean\",\"GermanCoin\",\"LiteCoin Ultra\",\"PopularCoin\",\"PhantomX\",\"Photon\",\"Sucre\",\"SparksPay\",\"Digiwage\",\"GunCoin\",\"IrishCoin\",\"Trollcoin\",\"Litecoin Plus\",\"Monkey Project\",\"Pioneer Coin\",\"UnitedBitcoin\",\"Interzone\",\"TokenPay\",\"1717 Masonic Commemorative Token\",\"My Big Coin\",\"TurtleCoin\",\"MUNcoin\",\"Unified Society USDEX\",\"Niobio Cash\",\"ShareChain\",\"Travelflex\",\"KREDS\",\"Tokyo Coin\",\"BiblePay\",\"LitecoinCash\",\"BitFlip\",\"LottoCoin\",\"Crypto Improvement Fund\",\"Stipend\",\"Poa Network\",\"Pushi\",\"Ellerium\",\"Velox\",\"Ontology\",\"Callisto Network\",\"BitTube\",\"Poseidon\",\"Aidos Kuneen\",\"Bitspace\",\"Briacoin\",\"Ignition\",\"Bitrolium\",\"MedicCoin\",\"Alpenschillling\",\"Bitcoin Green\",\"Deviant Coin\",\"Abjcoin\",\"Semux\",\"FuturoCoin\",\"Carebit\",\"Zealium\",\"Monero Classic\",\"Proton\",\"iDealCash\",\"Jumpcoin\",\"Infinex\",\"Bitcoin Incognito\",\"KEYCO\",\"HollyWoodCoin\",\"GINcoin\",\"PlatinCoin\",\"Loki\",\"Newton Coin\",\"Swisscoin\",\"Xt3ch\",\"MassGrid\",\"TheVig\",\"PluraCoin\",\"EmaratCoin\",\"Dekado\",\"Lynx\",\"Poseidon Quark\",\"BitcoinWSpectrum\",\"Muse\",\"Motion\",\"PlusOneCoin\",\"Axe\",\"Trivechain\",\"Dystem\",\"Giant\",\"Peony Coin\",\"Absolute Coin\",\"Vitae\",\"HexCoin\",\"TPCash\",\"Webchain\",\"Ryo\",\"Urals Coin\",\"Qwertycoin\",\"ARENON\",\"EUNO\",\"MMOCoin\",\"Ketan\",\"Project Pai\",\"XDNA\",\"PAXEX\",\"Azart\",\"ThunderStake\",\"Kcash\",\"Xchange\",\"Acute Angle Cloud\",\"CrypticCoin\",\"Bettex coin\",\"Actinium\",\"Bitcoin SV\",\"BitMoney\",\"Junson Ming Chan Coin\",\"FREDEnergy\",\"HerbCoin\",\"Universal Molecule\",\"Lithium\",\"PirateCash\",\"Exosis\",\"Block-Logic\",\"Oduwa\",\"Beam\",\"Galilel\",\"Bithereum\",\"Crypto Sports\",\"Credit\",\"SLICE\",\"Dash Platinum\",\"Nasdacoin\",\"Beetle Coin\",\"Titan Coin\",\"Award\",\"BLAST\",\"Bitcoin Rhodium\",\"GlobalToken\",\"Insane Coin\",\"ALAX\",\"LiteDoge\",\"SolarCoin\",\"TruckCoin\",\"UFO Coin\",\"OrangeCoin\",\"BlakeCoin\",\"BitstarCoin\",\"NeosCoin\",\"HyperCoin\",\"PinkCoin\",\"Crypto Escudo\",\"AudioCoin\",\"IncaKoin\",\"Piggy Coin\",\"Crown Coin\",\"Genstake\",\"SmileyCoin\",\"XiaoMiCoin\",\"Groestlcoin\",\"CapriCoin\",\" ClubCoin\",\"Radium\",\"Bata\",\"Pakcoin\",\"Creditbit \",\"OKCash\",\"Lisk\",\"HiCoin\",\"WhiteCoin\",\"FriendshipCoin\",\"Fiii\",\"JoinCoin\",\"Triangles Coin\",\"Vollar\",\"EOS\",\"Reality Clash\",\"Oxycoin\",\"TigerCash\",\"Waves\",\"Particl\",\"BitTorrent\",\"Nxt\",\"ZEPHYR\",\"Gapcoin\",\"Beldex\",\"Horizen\",\"BitcoinPlus\"],\"TotalCoinSupply\":{\"__ndarray__\":\"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\",\"dtype\":\"float64\",\"order\":\"little\",\"shape\":[533]},\"TotalCoinsMined\":{\"__ndarray__\":\"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\",\"dtype\":\"float64\",\"order\":\"little\",\"shape\":[533]},\"color\":{\"__ndarray__\":\"AAAAAAAAAAAAAAAAAAAAAAAAAAAAAAAAAAAAAAAAAAAAAAAAAAAAAAAAAAAAAAAAAAAAAAAAAAAAAAAAAAAAAAAAAAAAAAAAAAAAAAAAAAAAAAAAAAAAAAAAAAAAAAAAAAAAAAAAAAAAAAAAAAAAAAAAAAAAAAAAAAAAAAAAAAAAAAAAAAAAAAAAAAAAAAAAAAAAAAAAAAAAAAAAAAAAAAAAAAAAAAAAAAAAAAAAAAAAAAAAAAAAAAAAAAAAAAAAAAAAAAAAAAAAAAAAAAAAAAAAAAAAAAAAAAAAAAAAAAAAAAAAAAAAAAAAAAAAAAAAAAAAAAAAAAAAAAAAAAAAAAAAAAAAAAAAAAAAAAAAAAAAAAAAAAAAAAAAAAAAAAAAAAAAAAAAAAAAAAAAAAAAAAAAAAAAAAAAAAAAAAAAAAAAAAAAAAAAAAAAAAAAAAAAAAAAAAAAAAAAAAAAAAAAAAAAAAAAAAAAAAAAAAAAAAAAAAAAAAAAAAAAAAAAAAAAAAAAAAAAAAAAAAAAAAAAAAAAAAAAAAAAAAAAAAAAAAAAAAAAAAAAAAAAAAAAAAAAAAAAAAAAAAAAAAAAAAAAAAAAAAAAAAAAAAAAAAAAAAAAAAAAAAAAAAAAAAAAAAAAAAAAAAAAAAAAAAAAAAAAAAAAAAAAAAAAAAAAAAAAAAAAAAAAAAAAAAAAAAAAAAAAAAAAAAAAAAAAAAAAAAAAAAAAAAAAAAAAAAAAAAAAAAAAAAAAAAAAAAAAAAAAAAAAAAAAAAAAAAAAAAAAAAAAAAAAAAAAAAAAAAAAAAAAAAAAAAAAAAAAAAAAAAAAAAAAAAAAAAAAAAAAAAAAAAAAAAAAAAAAAAAAAAAAAAAAAAAAAAAAAAAAAAAAAAAAAAAAAAAAAAAAAAAAAAAAAAAAAAAAAAAAAAAAAAAAAAAAAAAAAAAAAAAAAAAAAAAAAAAAAAAAAAAAAAAAAAAAAAAAAAAAAAAAAAAAAAAAAAAAAAAAAAAAAAAAAAAAAAAAAAAAAAAAAAAAAAAAAAAAAAAAAAAAAAAAAAAAAAAAAAAAAAAAAAAAAAAAAAAAAAAAAAAAAAAAAAAAAAAAAAAAAAAAAAAAAAAAAAAAAAAAAAAAAAAAAAAAAAAAAAAAAAAAAAAAAAAAAAAAAAAAAAAAAAAAAAAAAAAAAAAAAAAAAAAAAAAAAAAAAAAAAAAAAAAAAAAAAAAAAAAAAAAAAAAAAAAAAAAAAAAAAAAAAAAAAAAAAAAAAAAAAAAAAAAAAAAAAAAAAAAAAAAAAAAAAAAAAAAAAAAAAAAAAAAAAAAAAAAAAAAAAAAAAAAAAAAAAAAAAAAAAAAAAAAAAAAAAAAAAAAAAAAAAAAAAAAAAAAAAAAAAAAAAAAAAAAAAAAAAAAAAAAAAAAAAAAAAAAAAAAAAAAAAAAAAAAAAAAAAAAAAAAAAAAAAAAAAAAAAAAAAAAAAAAAAAAAAAAAAAAAAAAAAAAAAAAAAAAAAAAAAAAAAAAAAAAAAAAAAAAAAAAAAAAAAAAAAAAAAAAAAAAAAAAAAAAAAAAAAAAAAAAAAAAAAAAAAAAAAAAAAAAAAAAAAAAAAAAAAAAAAAAAAAAAAAAAAAAAAAAAAAAAAAAAAAAAAAAAAAAAAAAAAAAAAAAAAAAAAAAAAAAAAAAAAAAAAAAAAAAAAAAAAAAAAAAAAAAAAAAAAAAAAAAAAAAAAAAAAAAAAAAAAAAAAAAAAAAAAAAAAAAAAAAAAAAAAAAAAAAAAAAAAAAAAAAAAAAAAAAAAAAAAAAAAAAAAAAAAAAAAAAAAAAAAAAAAAAAAAAAAAAAAAAAAAAAAAAAAAAAAAAAAAAAAAAAAAAAAAAAAAAAAAAAAAAAAAAAAAAAAAAAAAAAAAAAAAAAAAAAAAAAAAAAAAAAAAAAAAAAAAAAAAAAAAAAAAAAAAAAAAAAAAAAAAAAAAAAAAAAAAAAAAAAAAAAAAAAAAAAAAAAAAAAAAAAAAAAAAAAAAAAAAAAAAAAAQAAAAAAAAAAAAAAAAAAAAAAAAAAAAAAAwAAAAAAAAAAAAAAAAAAAAAAAAAAAAAAAAAAAAAAAAAAAAAAAAAAAAAAAAAAAAAAAAAAAAAAAAAAAAAAAAAAAAAAAAAAAAAAAAAAAAAAAAAAAAAAAAAAAAAAAAAAAAAAAAAAAAAAAAAAAAAAAAAAAAAAAAAAAAAAAAAAAAAAAAAAAAAAAAAAAAAAAAAAAAAAAAAAAAAAAAAAAAAAAAAAAAAAAAAAAAAAAAAAAAAAAAAAAAAAAAAAAAAAAAAAAAAAAAAAAAAAAAAAAAAAAAAAAAAAAAAAAAAAAAAAAAAAAAAAAAAAAAAAAAAAAAAAAAAAAAAAAAAAAAAAAAAAAAAAAAAAAAAAAAAAAAAAAAAAAAAAAAAAAAAAAAAAAAAAAAAAAAAAAAAAAAAAAAAAAAAAAAAAAAAAAAAAAAAAAAAAAAAAAAAAAAAAAAAAAAAAAAAAAAAAAAAAAAAAAAAAAAAAAAAAAAAAAAAAAAAAAAAAAAAAAAAAAAAAAAAAAAAAAAAAAAAAAAAAAAAAAAAAAAAAAAAAAAAAAAAAAAAAAAAAAAAAAAAAAAAAAAAAAAAAAAAAAAAAAAAAAAAAAAAAAAAAAAAAAAAAAAAAAAAAAAAAAAAAAAAAAAAAAAAAAAAAAAAAAAAAAAAAAAAAAAAAAAAAAAAAAAAAAAAAAAAAAAAAAAAAAAAAAAAAAAAAAAAAAAAAAAAAAAAAAAAAAAAAAAAAAAAAAAAAAAAAAAAAAAAAAAAAAAAAAAAAAAIAAAAAAAAAAAAAAAAAAAAAAAAAAAAAAAAAAAA=\",\"dtype\":\"int32\",\"order\":\"little\",\"shape\":[533]}},\"selected\":{\"id\":\"2474\"},\"selection_policy\":{\"id\":\"2496\"}},\"id\":\"2473\",\"type\":\"ColumnDataSource\"},{\"attributes\":{\"bottom_units\":\"screen\",\"fill_alpha\":0.5,\"fill_color\":\"lightgrey\",\"left_units\":\"screen\",\"level\":\"overlay\",\"line_alpha\":1.0,\"line_color\":\"black\",\"line_dash\":[4,4],\"line_width\":2,\"right_units\":\"screen\",\"top_units\":\"screen\"},\"id\":\"2464\",\"type\":\"BoxAnnotation\"},{\"attributes\":{},\"id\":\"2487\",\"type\":\"BasicTickFormatter\"},{\"attributes\":{},\"id\":\"2491\",\"type\":\"BasicTickFormatter\"},{\"attributes\":{\"axis\":{\"id\":\"2455\"},\"dimension\":1,\"grid_line_color\":null,\"ticker\":null},\"id\":\"2458\",\"type\":\"Grid\"},{\"attributes\":{\"align\":null,\"below\":[{\"id\":\"2451\"}],\"center\":[{\"id\":\"2454\"},{\"id\":\"2458\"}],\"left\":[{\"id\":\"2455\"}],\"margin\":null,\"min_border_bottom\":10,\"min_border_left\":10,\"min_border_right\":10,\"min_border_top\":10,\"plot_height\":300,\"plot_width\":700,\"renderers\":[{\"id\":\"2481\"}],\"right\":[{\"id\":\"2484\"}],\"sizing_mode\":\"fixed\",\"title\":{\"id\":\"2443\"},\"toolbar\":{\"id\":\"2465\"},\"x_range\":{\"id\":\"2439\"},\"x_scale\":{\"id\":\"2447\"},\"y_range\":{\"id\":\"2440\"},\"y_scale\":{\"id\":\"2449\"}},\"id\":\"2442\",\"subtype\":\"Figure\",\"type\":\"Plot\"},{\"attributes\":{},\"id\":\"2489\",\"type\":\"BasicTickFormatter\"},{\"attributes\":{\"bar_line_color\":\"black\",\"color_mapper\":{\"id\":\"2472\"},\"formatter\":{\"id\":\"2491\"},\"label_standoff\":8,\"location\":[0,0],\"major_tick_line_color\":\"black\",\"ticker\":{\"id\":\"2483\"}},\"id\":\"2484\",\"type\":\"ColorBar\"},{\"attributes\":{},\"id\":\"2474\",\"type\":\"Selection\"},{\"attributes\":{},\"id\":\"2447\",\"type\":\"LinearScale\"},{\"attributes\":{\"high\":3,\"low\":0,\"palette\":[\"#b3fef5\",\"#b0fef5\",\"#adfdf5\",\"#a9fcf5\",\"#a6fbf6\",\"#a3faf6\",\"#a0faf6\",\"#9df9f6\",\"#9af8f6\",\"#97f7f6\",\"#93f7f6\",\"#90f6f6\",\"#8df5f6\",\"#8af4f7\",\"#87f3f7\",\"#83f2f7\",\"#80f2f7\",\"#7df1f7\",\"#79f0f7\",\"#76eff7\",\"#73eef7\",\"#6fedf8\",\"#6cecf8\",\"#68ecf8\",\"#65ebf8\",\"#61eaf8\",\"#5ee9f8\",\"#5ae8f8\",\"#57e7f8\",\"#53e6f8\",\"#50e5f9\",\"#4ce4f9\",\"#49e3f9\",\"#45e2f9\",\"#42e1f9\",\"#3ee0f9\",\"#3bdff9\",\"#38def9\",\"#35ddf9\",\"#32dcf9\",\"#30dbfa\",\"#2ed9fa\",\"#2dd8fa\",\"#2cd7fa\",\"#2bd6fa\",\"#2bd5fa\",\"#2ad3fa\",\"#2ad2fa\",\"#29d1fa\",\"#29d0fb\",\"#29cffb\",\"#28cdfb\",\"#28ccfb\",\"#28cbfb\",\"#28cafb\",\"#28c8fb\",\"#28c7fb\",\"#29c6fb\",\"#29c5fb\",\"#29c4fb\",\"#29c2fb\",\"#2ac1fb\",\"#2ac0fb\",\"#2bbffb\",\"#2bbdfc\",\"#2cbcfc\",\"#2dbbfc\",\"#2db9fc\",\"#2eb8fc\",\"#2fb7fc\",\"#2fb6fc\",\"#30b4fc\",\"#31b3fc\",\"#32b2fc\",\"#32b0fc\",\"#33affc\",\"#33aefc\",\"#34adfc\",\"#34abfc\",\"#34aafc\",\"#35a9fc\",\"#35a8fc\",\"#35a6fc\",\"#35a5fc\",\"#35a4fc\",\"#35a3fc\",\"#35a1fc\",\"#35a0fc\",\"#359ffc\",\"#359dfc\",\"#359cfc\",\"#359bfc\",\"#349afd\",\"#3498fd\",\"#3497fd\",\"#3396fd\",\"#3395fd\",\"#3293fd\",\"#3292fd\",\"#3191fd\",\"#3090fd\",\"#308ffd\",\"#2f8dfd\",\"#2f8cfd\",\"#2e8bfd\",\"#2e8afd\",\"#2d88fd\",\"#2d87fd\",\"#2c86fd\",\"#2c84fd\",\"#2c83fd\",\"#2c82fd\",\"#2b81fd\",\"#2b7ffd\",\"#2b7efd\",\"#2b7dfd\",\"#2b7bfd\",\"#2b7afd\",\"#2b79fd\",\"#2b77fd\",\"#2b76fd\",\"#2b75fd\",\"#2b73fd\",\"#2c72fd\",\"#2c71fd\",\"#2c6ffd\",\"#2c6efd\",\"#2d6cfd\",\"#2d6bfd\",\"#2d6afc\",\"#2e68fc\",\"#2e67fc\",\"#2e65fc\",\"#2e64fc\",\"#2f62fc\",\"#2f61fc\",\"#2f5ffc\",\"#2f5efc\",\"#2f5dfc\",\"#2f5bfc\",\"#2f5afc\",\"#2f58fb\",\"#2f57fb\",\"#2f55fb\",\"#2f53fb\",\"#2f52fb\",\"#2f50fb\",\"#2f4ffb\",\"#2f4dfb\",\"#2e4cfb\",\"#2e4afb\",\"#2e48fb\",\"#2e47fa\",\"#2d45fa\",\"#2d43fa\",\"#2d42fa\",\"#2d40fa\",\"#2c3efa\",\"#2c3dfa\",\"#2b3bf9\",\"#2b39f9\",\"#2a37f9\",\"#2a36f8\",\"#2934f8\",\"#2832f7\",\"#2831f7\",\"#272ff6\",\"#262ef5\",\"#252cf5\",\"#252af4\",\"#2429f3\",\"#2327f2\",\"#2226f1\",\"#2124f0\",\"#2023ef\",\"#1f22ee\",\"#1e20ed\",\"#1d1feb\",\"#1c1eea\",\"#1b1ce9\",\"#1a1be7\",\"#181ae6\",\"#1719e5\",\"#1618e3\",\"#1417e1\",\"#1316e0\",\"#1215de\",\"#1014dc\",\"#0f13db\",\"#0e12d9\",\"#0d11d7\",\"#0c10d5\",\"#0b0fd3\",\"#0a0ed1\",\"#090dd0\",\"#080dce\",\"#080ccc\",\"#070bca\",\"#070ac8\",\"#0709c6\",\"#0708c4\",\"#0707c2\",\"#0707bf\",\"#0806bd\",\"#0806bb\",\"#0905b9\",\"#0904b7\",\"#0a04b5\",\"#0a04b2\",\"#0b03b0\",\"#0c03ae\",\"#0d02ab\",\"#0e02a9\",\"#0e02a7\",\"#0f02a4\",\"#0f01a2\",\"#1001a0\",\"#10019d\",\"#10019b\",\"#100199\",\"#100197\",\"#100194\",\"#0f0192\",\"#0f0190\",\"#0f018e\",\"#0e018b\",\"#0e0189\",\"#0d0187\",\"#0d0185\",\"#0c0183\",\"#0b0181\",\"#0b017e\",\"#0a017c\",\"#09017a\",\"#090178\",\"#080276\",\"#070274\",\"#060272\",\"#060270\",\"#05026e\",\"#04026c\",\"#030269\",\"#030267\",\"#020265\",\"#010263\",\"#010261\",\"#00025f\",\"#00025d\",\"#00025b\",\"#000259\",\"#000257\",\"#000255\",\"#000154\",\"#000152\",\"#000150\",\"#00004e\"]},\"id\":\"2472\",\"type\":\"LinearColorMapper\"},{\"attributes\":{},\"id\":\"2459\",\"type\":\"SaveTool\"},{\"attributes\":{},\"id\":\"2449\",\"type\":\"LinearScale\"},{\"attributes\":{},\"id\":\"2456\",\"type\":\"BasicTicker\"},{\"attributes\":{\"axis_label\":\"TotalCoinsMined\",\"bounds\":\"auto\",\"formatter\":{\"id\":\"2487\"},\"major_label_orientation\":\"horizontal\",\"ticker\":{\"id\":\"2452\"}},\"id\":\"2451\",\"type\":\"LinearAxis\"},{\"attributes\":{\"end\":11000.0,\"reset_end\":11000.0,\"reset_start\":-1000.0,\"start\":-1000.0,\"tags\":[[[\"TotalCoinSupply\",\"TotalCoinSupply\",null]]]},\"id\":\"2440\",\"type\":\"Range1d\"},{\"attributes\":{\"fill_color\":{\"field\":\"color\",\"transform\":{\"id\":\"2472\"}},\"line_color\":{\"field\":\"color\",\"transform\":{\"id\":\"2472\"}},\"size\":{\"units\":\"screen\",\"value\":5.477225575051661},\"x\":{\"field\":\"TotalCoinsMined\"},\"y\":{\"field\":\"TotalCoinSupply\"}},\"id\":\"2479\",\"type\":\"Scatter\"},{\"attributes\":{},\"id\":\"2496\",\"type\":\"UnionRenderers\"},{\"attributes\":{\"axis_label\":\"TotalCoinSupply\",\"bounds\":\"auto\",\"formatter\":{\"id\":\"2489\"},\"major_label_orientation\":\"horizontal\",\"ticker\":{\"id\":\"2456\"}},\"id\":\"2455\",\"type\":\"LinearAxis\"},{\"attributes\":{},\"id\":\"2463\",\"type\":\"ResetTool\"},{\"attributes\":{},\"id\":\"2452\",\"type\":\"BasicTicker\"},{\"attributes\":{\"margin\":[5,5,5,5],\"name\":\"HSpacer04543\",\"sizing_mode\":\"stretch_width\"},\"id\":\"2438\",\"type\":\"Spacer\"},{\"attributes\":{\"fill_alpha\":{\"value\":0.1},\"fill_color\":{\"field\":\"color\",\"transform\":{\"id\":\"2472\"}},\"line_alpha\":{\"value\":0.1},\"line_color\":{\"field\":\"color\",\"transform\":{\"id\":\"2472\"}},\"size\":{\"units\":\"screen\",\"value\":5.477225575051661},\"x\":{\"field\":\"TotalCoinsMined\"},\"y\":{\"field\":\"TotalCoinSupply\"}},\"id\":\"2477\",\"type\":\"Scatter\"},{\"attributes\":{},\"id\":\"2461\",\"type\":\"WheelZoomTool\"},{\"attributes\":{\"overlay\":{\"id\":\"2464\"}},\"id\":\"2462\",\"type\":\"BoxZoomTool\"},{\"attributes\":{\"text\":\"\",\"text_color\":{\"value\":\"black\"},\"text_font_size\":{\"value\":\"12pt\"}},\"id\":\"2443\",\"type\":\"Title\"},{\"attributes\":{\"fill_color\":{\"field\":\"color\",\"transform\":{\"id\":\"2472\"}},\"line_color\":{\"field\":\"color\",\"transform\":{\"id\":\"2472\"}},\"size\":{\"units\":\"screen\",\"value\":5.477225575051661},\"x\":{\"field\":\"TotalCoinsMined\"},\"y\":{\"field\":\"TotalCoinSupply\"}},\"id\":\"2478\",\"type\":\"Scatter\"},{\"attributes\":{\"source\":{\"id\":\"2473\"}},\"id\":\"2482\",\"type\":\"CDSView\"},{\"attributes\":{},\"id\":\"2460\",\"type\":\"PanTool\"},{\"attributes\":{\"active_drag\":\"auto\",\"active_inspect\":\"auto\",\"active_multi\":null,\"active_scroll\":\"auto\",\"active_tap\":\"auto\",\"tools\":[{\"id\":\"2441\"},{\"id\":\"2459\"},{\"id\":\"2460\"},{\"id\":\"2461\"},{\"id\":\"2462\"},{\"id\":\"2463\"}]},\"id\":\"2465\",\"type\":\"Toolbar\"},{\"attributes\":{\"fill_alpha\":{\"value\":0.2},\"fill_color\":{\"field\":\"color\",\"transform\":{\"id\":\"2472\"}},\"line_alpha\":{\"value\":0.2},\"line_color\":{\"field\":\"color\",\"transform\":{\"id\":\"2472\"}},\"size\":{\"units\":\"screen\",\"value\":5.477225575051661},\"x\":{\"field\":\"TotalCoinsMined\"},\"y\":{\"field\":\"TotalCoinSupply\"}},\"id\":\"2480\",\"type\":\"Scatter\"},{\"attributes\":{\"data_source\":{\"id\":\"2473\"},\"glyph\":{\"id\":\"2476\"},\"hover_glyph\":{\"id\":\"2479\"},\"muted_glyph\":{\"id\":\"2480\"},\"nonselection_glyph\":{\"id\":\"2477\"},\"selection_glyph\":{\"id\":\"2478\"},\"view\":{\"id\":\"2482\"}},\"id\":\"2481\",\"type\":\"GlyphRenderer\"},{\"attributes\":{\"callback\":null,\"renderers\":[{\"id\":\"2481\"}],\"tags\":[\"hv_created\"],\"tooltips\":[[\"TotalCoinsMined\",\"@{TotalCoinsMined}\"],[\"TotalCoinSupply\",\"@{TotalCoinSupply}\"],[\"Class\",\"@{Class}\"],[\"CoinName\",\"@{CoinName}\"]]},\"id\":\"2441\",\"type\":\"HoverTool\"},{\"attributes\":{\"end\":0.00010326704287676897,\"reset_end\":0.00010326704287676897,\"reset_start\":-4.859969287600845e-06,\"start\":-4.859969287600845e-06,\"tags\":[[[\"TotalCoinsMined\",\"TotalCoinsMined\",null]]]},\"id\":\"2439\",\"type\":\"Range1d\"},{\"attributes\":{\"margin\":[5,5,5,5],\"name\":\"HSpacer04544\",\"sizing_mode\":\"stretch_width\"},\"id\":\"2508\",\"type\":\"Spacer\"}],\"root_ids\":[\"2437\"]},\"title\":\"Bokeh Application\",\"version\":\"2.1.1\"}};\n",
       "  var render_items = [{\"docid\":\"ac252c0d-32b6-487a-9740-c7f9e0ad7204\",\"root_ids\":[\"2437\"],\"roots\":{\"2437\":\"6dcadeb4-a0ff-4a04-af62-86d8d7ae57f6\"}}];\n",
       "  root.Bokeh.embed.embed_items_notebook(docs_json, render_items);\n",
       "  }\n",
       "if (root.Bokeh !== undefined) {\n",
       "    embed_document(root);\n",
       "  } else {\n",
       "    var attempts = 0;\n",
       "    var timer = setInterval(function(root) {\n",
       "      if (root.Bokeh !== undefined) {\n",
       "        clearInterval(timer);\n",
       "        embed_document(root);\n",
       "      } else if (document.readyState == \"complete\") {\n",
       "        attempts++;\n",
       "        if (attempts > 100) {\n",
       "          clearInterval(timer);\n",
       "          console.log(\"Bokeh: ERROR: Unable to run BokehJS code because BokehJS library is missing\");\n",
       "        }\n",
       "      }\n",
       "    }, 10, root)\n",
       "  }\n",
       "})(window);</script>"
      ],
      "text/plain": [
       ":Scatter   [TotalCoinsMined]   (TotalCoinSupply,Class,CoinName)"
      ]
     },
     "execution_count": 171,
     "metadata": {
      "application/vnd.holoviews_exec.v0+json": {
       "id": "2437"
      }
     },
     "output_type": "execute_result"
    }
   ],
   "source": [
    "# Plot the scatter with x=\"TotalCoinsMined\" and y=\"TotalCoinSupply\"\n",
    "clustered_df.hvplot.scatter(x=\"TotalCoinsMined\", y=\"TotalCoinSupply\", color=\"Class\", hover_cols=[\"CoinName\"])"
   ]
  },
  {
   "cell_type": "code",
   "execution_count": null,
   "metadata": {},
   "outputs": [],
   "source": []
  }
 ],
 "metadata": {
  "file_extension": ".py",
  "kernelspec": {
   "display_name": "Python [conda env:pyvizenv] *",
   "language": "python",
   "name": "conda-env-pyvizenv-py"
  },
  "language_info": {
   "codemirror_mode": {
    "name": "ipython",
    "version": 3
   },
   "file_extension": ".py",
   "mimetype": "text/x-python",
   "name": "python",
   "nbconvert_exporter": "python",
   "pygments_lexer": "ipython3",
   "version": "3.7.7"
  },
  "mimetype": "text/x-python",
  "name": "python",
  "npconvert_exporter": "python",
  "pygments_lexer": "ipython3",
  "version": 3
 },
 "nbformat": 4,
 "nbformat_minor": 4
}
